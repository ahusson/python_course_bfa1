{
 "cells": [
  {
   "cell_type": "code",
   "execution_count": 5,
   "id": "e39df8e8-7e8b-4711-950e-f444b0b5cd5b",
   "metadata": {},
   "outputs": [
    {
     "name": "stdout",
     "output_type": "stream",
     "text": [
      "Deposited $100. New balance is $100.\n",
      "Withdrew $50. New balance is $50.\n",
      "Current balance: $50\n"
     ]
    }
   ],
   "source": [
    "## Exercise 1\n",
    "\n",
    "class Account:\n",
    "    def __init__(self, account_number, account_holder):\n",
    "        self.account_number = account_number\n",
    "        self.balance = 0\n",
    "        self.account_holder = account_holder\n",
    "\n",
    "    def deposit(self, amount):\n",
    "        if amount > 0:\n",
    "            self.balance += amount\n",
    "            print(f\"Deposited ${amount}. New balance is ${self.balance}.\")\n",
    "        else:\n",
    "            print(\"Deposit amount must be positive.\")\n",
    "\n",
    "    def withdraw(self, amount):\n",
    "        if amount > self.balance:\n",
    "            print(\"Insufficient balance for this withdrawal.\")\n",
    "        elif amount <= 0:\n",
    "            print(\"Withdrawal amount must be positive.\")\n",
    "        else:\n",
    "            self.balance -= amount\n",
    "            print(f\"Withdrew ${amount}. New balance is ${self.balance}.\")\n",
    "\n",
    "    def get_balance(self):\n",
    "        print(f\"Current balance: ${self.balance}\")\n",
    "\n",
    "account = Account(\"123456\", \"Adrien\")\n",
    "account.deposit(100)\n",
    "account.withdraw(50)\n",
    "account.get_balance()"
   ]
  },
  {
   "cell_type": "code",
   "execution_count": 6,
   "id": "d6bd6925-5c20-47b9-b5db-574f02f51a1d",
   "metadata": {},
   "outputs": [
    {
     "name": "stdout",
     "output_type": "stream",
     "text": [
      "Bought 10 shares of AAPL. Total shares owned: 10.\n",
      "Sold 3 shares of AAPL. Total shares owned: 7.\n",
      "Total value of shares owned in AAPL: $1050.00\n"
     ]
    },
    {
     "data": {
      "text/plain": [
       "1050.0"
      ]
     },
     "execution_count": 6,
     "metadata": {},
     "output_type": "execute_result"
    }
   ],
   "source": [
    "## Exercise 2\n",
    "\n",
    "class Stock:\n",
    "    def __init__(self, symbol, price_per_share):\n",
    "        self.symbol = symbol\n",
    "        self.price_per_share = price_per_share\n",
    "        self.shares_owned = 0\n",
    "\n",
    "    def buy_shares(self, quantity):\n",
    "        if quantity > 0:\n",
    "            self.shares_owned += quantity\n",
    "            print(f\"Bought {quantity} shares of {self.symbol}. Total shares owned: {self.shares_owned}.\")\n",
    "        else:\n",
    "            print(\"Quantity of shares to buy must be positive.\")\n",
    "\n",
    "    def sell_shares(self, quantity):\n",
    "        if quantity > self.shares_owned:\n",
    "            print(\"Insufficient shares to sell.\")\n",
    "        elif quantity <= 0:\n",
    "            print(\"Quantity of shares to sell must be positive.\")\n",
    "        else:\n",
    "            self.shares_owned -= quantity\n",
    "            print(f\"Sold {quantity} shares of {self.symbol}. Total shares owned: {self.shares_owned}.\")\n",
    "\n",
    "    def total_value(self):\n",
    "        total = self.price_per_share * self.shares_owned\n",
    "        print(f\"Total value of shares owned in {self.symbol}: ${total:.2f}\")\n",
    "        return total\n",
    "\n",
    "\n",
    "stock = Stock(\"AAPL\", 150.0)\n",
    "stock.buy_shares(10)\n",
    "stock.sell_shares(3)\n",
    "stock.total_value()"
   ]
  },
  {
   "cell_type": "code",
   "execution_count": 7,
   "id": "b9092469-88a1-4c80-a13b-86d60f666ea0",
   "metadata": {},
   "outputs": [
    {
     "name": "stdout",
     "output_type": "stream",
     "text": [
      "Monthly Payment: $790.79\n",
      "Total Payment: $142342.85\n"
     ]
    }
   ],
   "source": [
    "## Exercise 3\n",
    "\n",
    "class Loan:\n",
    "    def __init__(self, principal, annual_interest_rate, term_years):\n",
    "        self.principal = principal\n",
    "        self.annual_interest_rate = annual_interest_rate\n",
    "        self.term_years = term_years\n",
    "\n",
    "    def monthly_payment(self):\n",
    "        monthly_rate = self.annual_interest_rate / 12\n",
    "        num_payments = self.term_years * 12\n",
    "        if monthly_rate == 0:  # Handle zero interest rate case\n",
    "            payment = self.principal / num_payments\n",
    "        else:\n",
    "            payment = (self.principal * monthly_rate) / (1 - (1 + monthly_rate) ** -num_payments)\n",
    "        return payment\n",
    "\n",
    "    def total_payment(self):\n",
    "        return self.monthly_payment() * self.term_years * 12\n",
    "\n",
    "loan = Loan(100000, 0.05, 15)\n",
    "print(f\"Monthly Payment: ${loan.monthly_payment():.2f}\")\n",
    "print(f\"Total Payment: ${loan.total_payment():.2f}\")"
   ]
  },
  {
   "cell_type": "code",
   "execution_count": 8,
   "id": "09d9640f-a4bb-4267-9393-15031f26a6e5",
   "metadata": {},
   "outputs": [
    {
     "name": "stdout",
     "output_type": "stream",
     "text": [
      "Stock Value: $1500.00\n",
      "Derivative Value: $2250.00\n"
     ]
    }
   ],
   "source": [
    "## Exercise 4\n",
    "\n",
    "class Asset:\n",
    "    def __init__(self, symbol):\n",
    "        self.symbol = symbol\n",
    "\n",
    "    def current_value(self):\n",
    "        raise NotImplementedError(\"Subclasses must implement current_value method\")\n",
    "\n",
    "class Stock(Asset):\n",
    "    def __init__(self, symbol, price_per_share, shares_owned):\n",
    "        super().__init__(symbol)\n",
    "        self.price_per_share = price_per_share\n",
    "        self.shares_owned = shares_owned\n",
    "\n",
    "    def current_value(self):\n",
    "        return self.price_per_share * self.shares_owned\n",
    "\n",
    "class Derivative(Asset):\n",
    "    def __init__(self, symbol, underlying_asset, multiplier):\n",
    "        super().__init__(symbol)\n",
    "        self.underlying_asset = underlying_asset\n",
    "        self.multiplier = multiplier\n",
    "\n",
    "    def current_value(self):\n",
    "        return self.multiplier * self.underlying_asset.current_value()\n",
    "\n",
    "stock = Stock(\"AAPL\", 150, 10)\n",
    "derivative = Derivative(\"AAPL Option\", stock, 1.5)\n",
    "\n",
    "print(f\"Stock Value: ${stock.current_value():.2f}\")\n",
    "print(f\"Derivative Value: ${derivative.current_value():.2f}\")"
   ]
  },
  {
   "cell_type": "code",
   "execution_count": 9,
   "id": "a717297c-31ae-407b-836b-43c1202f2f13",
   "metadata": {},
   "outputs": [
    {
     "name": "stdout",
     "output_type": "stream",
     "text": [
      "Bond Annual Coupon: $50.00\n",
      "Bond Present Value: $1081.11\n",
      "Corporate Bond (AAA) Present Value: $1102.73\n",
      "Corporate Bond (BBB) Present Value: $1059.49\n"
     ]
    }
   ],
   "source": [
    "## Exercise 5\n",
    "\n",
    "class Bond:\n",
    "    def __init__(self, face_value, coupon_rate, years_to_maturity):\n",
    "        self.face_value = face_value\n",
    "        self.coupon_rate = coupon_rate\n",
    "        self.years_to_maturity = years_to_maturity\n",
    "\n",
    "    def annual_coupon(self):\n",
    "        return self.face_value * self.coupon_rate\n",
    "\n",
    "    def present_value(self, discount_rate):\n",
    "        coupon_payment = self.annual_coupon()\n",
    "        pv_coupons = sum([coupon_payment / ((1 + discount_rate) ** t) for t in range(1, self.years_to_maturity + 1)])\n",
    "        pv_face_value = self.face_value / ((1 + discount_rate) ** self.years_to_maturity)\n",
    "        return pv_coupons + pv_face_value\n",
    "\n",
    "class CorporateBond(Bond):\n",
    "    def __init__(self, face_value, coupon_rate, years_to_maturity, rating):\n",
    "        super().__init__(face_value, coupon_rate, years_to_maturity)\n",
    "        self.rating = rating\n",
    "\n",
    "    def present_value(self, discount_rate):\n",
    "        base_value = super().present_value(discount_rate)\n",
    "        if self.rating == \"AAA\":\n",
    "            return base_value * 1.02\n",
    "        elif self.rating == \"BBB\":\n",
    "            return base_value * 0.98\n",
    "        else:\n",
    "            return base_value\n",
    "\n",
    "bond = Bond(1000, 0.05, 10)\n",
    "print(f\"Bond Annual Coupon: ${bond.annual_coupon():.2f}\")\n",
    "print(f\"Bond Present Value: ${bond.present_value(0.04):.2f}\")\n",
    "\n",
    "corporate_bond_aaa = CorporateBond(1000, 0.05, 10, \"AAA\")\n",
    "corporate_bond_bbb = CorporateBond(1000, 0.05, 10, \"BBB\")\n",
    "\n",
    "print(f\"Corporate Bond (AAA) Present Value: ${corporate_bond_aaa.present_value(0.04):.2f}\")\n",
    "print(f\"Corporate Bond (BBB) Present Value: ${corporate_bond_bbb.present_value(0.04):.2f}\")"
   ]
  }
 ],
 "metadata": {
  "kernelspec": {
   "display_name": "Python 3 (ipykernel)",
   "language": "python",
   "name": "python3"
  },
  "language_info": {
   "codemirror_mode": {
    "name": "ipython",
    "version": 3
   },
   "file_extension": ".py",
   "mimetype": "text/x-python",
   "name": "python",
   "nbconvert_exporter": "python",
   "pygments_lexer": "ipython3",
   "version": "3.10.9"
  }
 },
 "nbformat": 4,
 "nbformat_minor": 5
}
