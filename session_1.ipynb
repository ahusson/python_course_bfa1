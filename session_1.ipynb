{
 "cells": [
  {
   "cell_type": "markdown",
   "metadata": {},
   "source": [
    "<hr style=\"border-width:2px;border-color:#094780\">\n",
    "<center><h1> First steps with Python </h1></center>\n",
    "<hr style=\"border-width:2px;border-color:#094780\">\n",
    "\n",
    "### Introduction\n",
    "Python is a programming language invented by **Guido van Rossum**. The first version of Python was released in 1991. It is an interpreted language, meaning that it does not need to be compiled before being executed.\n",
    "\n",
    "Python is both **simple** and **powerful**. It allows you to write very simple scripts, and thanks to its numerous libraries, you will always find open-source projects that make your life easier.\n",
    "\n",
    "It is also very popular in the field of AI due to its high-quality libraries and computational power. Many researchers and developers use Python to implement and experiment with new machine learning and deep learning algorithms, especially with frameworks such as **TensorFlow** and **PyTorch**. By using Python, it is possible to quickly develop complex and powerful models, making it an ideal choice for AI projects of all sizes.\n",
    "\n",
    "### Summary :\n",
    "\n",
    " - Python as a calculator\n",
    " - Basic types in Python\n",
    " - Control flow\n",
    " - Structured types\n",
    " - Functions\n",
    " - Recursion\n"
   ]
  },
  {
   "cell_type": "markdown",
   "metadata": {},
   "source": [
    "\n",
    "## <a>Python as a calculator</a>\n"
   ]
  },
  {
   "cell_type": "code",
   "execution_count": 19,
   "metadata": {},
   "outputs": [
    {
     "data": {
      "text/plain": [
       "64"
      ]
     },
     "execution_count": 19,
     "metadata": {},
     "output_type": "execute_result"
    }
   ],
   "source": [
    "6*6\n",
    "8*8"
   ]
  },
  {
   "cell_type": "markdown",
   "metadata": {},
   "source": [
    "In jupyter notebook, the last result is displayed by default. So, to control what we want to print, we use **print** function.\n"
   ]
  },
  {
   "cell_type": "code",
   "execution_count": 20,
   "metadata": {},
   "outputs": [
    {
     "name": "stdout",
     "output_type": "stream",
     "text": [
      "The first result is:  36\n",
      "The second result is:  64\n"
     ]
    }
   ],
   "source": [
    "print(\"The first result is: \", 6*6)\n",
    "print(\"The second result is: \", 8*8)"
   ]
  },
  {
   "cell_type": "code",
   "execution_count": 21,
   "metadata": {},
   "outputs": [
    {
     "data": {
      "text/plain": [
       "8"
      ]
     },
     "execution_count": 21,
     "metadata": {},
     "output_type": "execute_result"
    }
   ],
   "source": [
    "2**3 # 2 to the power of 3, and # is used to comment"
   ]
  },
  {
   "cell_type": "markdown",
   "metadata": {},
   "source": [
    "\n",
    "<p>Les divisions avec / renvoient des nombres décimaux ce que Python appelle le type \"float\" alors que les entiers sont du type \"int\"</p>\n"
   ]
  },
  {
   "cell_type": "code",
   "execution_count": 22,
   "metadata": {},
   "outputs": [
    {
     "name": "stdout",
     "output_type": "stream",
     "text": [
      "0.6666666666666666\n",
      "<class 'float'>\n",
      "0\n",
      "<class 'int'>\n"
     ]
    }
   ],
   "source": [
    "print(2/3)\n",
    "print(type(2/3))\n",
    "print(2//3) # Euclidean division \n",
    "print(type(2//3))"
   ]
  },
  {
   "cell_type": "code",
   "execution_count": 23,
   "metadata": {},
   "outputs": [
    {
     "data": {
      "text/plain": [
       "True"
      ]
     },
     "execution_count": 23,
     "metadata": {},
     "output_type": "execute_result"
    }
   ],
   "source": [
    "2//3 == int(2/3)  "
   ]
  },
  {
   "cell_type": "code",
   "execution_count": 24,
   "metadata": {},
   "outputs": [
    {
     "data": {
      "text/plain": [
       "False"
      ]
     },
     "execution_count": 24,
     "metadata": {},
     "output_type": "execute_result"
    }
   ],
   "source": [
    "2//3 == 2/3    "
   ]
  },
  {
   "cell_type": "code",
   "execution_count": 25,
   "metadata": {},
   "outputs": [
    {
     "data": {
      "text/plain": [
       "1"
      ]
     },
     "execution_count": 25,
     "metadata": {},
     "output_type": "execute_result"
    }
   ],
   "source": [
    "10 % 3  # remainder in the Euclidean division of 10 by 3"
   ]
  },
  {
   "cell_type": "markdown",
   "metadata": {},
   "source": [
    "To save result in a variable, we use = (do not confuse it with ==):"
   ]
  },
  {
   "cell_type": "code",
   "execution_count": 26,
   "metadata": {},
   "outputs": [
    {
     "name": "stdout",
     "output_type": "stream",
     "text": [
      "Check if a = b * quotient + remainder : True\n"
     ]
    }
   ],
   "source": [
    "a= 25\n",
    "b= 3\n",
    "quotient= 25//3\n",
    "remainder= 25 % 3\n",
    "print(\"Check if a = b * quotient + remainder :\", a == b*quotient + remainder)"
   ]
  },
  {
   "cell_type": "markdown",
   "metadata": {},
   "source": [
    "NB: we can change the value of a variable."
   ]
  },
  {
   "cell_type": "code",
   "execution_count": 27,
   "metadata": {},
   "outputs": [
    {
     "name": "stdout",
     "output_type": "stream",
     "text": [
      "ici x= 2 et y= 6 , Did you think that y= 3?\n"
     ]
    }
   ],
   "source": [
    "x= 5\n",
    "y= x + 1   \n",
    "x= 2\n",
    "print(\"ici x=\", x, \"et y=\", y, \", Did you think that y= 3?\")"
   ]
  },
  {
   "cell_type": "markdown",
   "metadata": {},
   "source": [
    "## <a>Basic types in Python</a>\n"
   ]
  },
  {
   "cell_type": "code",
   "execution_count": 28,
   "metadata": {},
   "outputs": [
    {
     "name": "stdout",
     "output_type": "stream",
     "text": [
      "<class 'int'> <class 'float'> <class 'str'> <class 'bool'>\n"
     ]
    }
   ],
   "source": [
    "var1=10\n",
    "var2=2.5\n",
    "var3=\"Hello world\"\n",
    "var4=True\n",
    "print(type(var1),type(var2),type(var3),type(var4))"
   ]
  },
  {
   "cell_type": "code",
   "execution_count": 29,
   "metadata": {},
   "outputs": [
    {
     "data": {
      "text/plain": [
       "True"
      ]
     },
     "execution_count": 29,
     "metadata": {},
     "output_type": "execute_result"
    }
   ],
   "source": [
    "1 == 1.0"
   ]
  },
  {
   "cell_type": "markdown",
   "metadata": {},
   "source": [
    "## <a>Control flow</a>"
   ]
  },
  {
   "cell_type": "markdown",
   "metadata": {},
   "source": [
    "### Assignments"
   ]
  },
  {
   "cell_type": "markdown",
   "metadata": {},
   "source": [
    "| **Type of Assignment**           | **Syntax**                          | **Example**                                  | **Description**                                                                 |\n",
    "|----------------------------------|-------------------------------------|----------------------------------------------|---------------------------------------------------------------------------------|\n",
    "| **Simple Assignment**            | `variable = value`                  | `x = 10`                                     | Assigns a single value to a variable.                                           |\n",
    "| **Multiple Assignment**          | `var1, var2 = value1, value2`       | `a, b, c = 1, 2, 3`                          | Assigns values to multiple variables simultaneously.                            |\n",
    "| **Chained Assignment**           | `var1 = var2 = value`               | `x = y = z = 0`                              | Assigns the same value to multiple variables at once.                           |\n",
    "| **Augmented Assignment**         | `variable op= value`                | `x += 1`                                     | Combines an operation with assignment (e.g., `+=`, `-=`, `*=`).                 |\n",
    "| **Unpacking Assignment**         | `var1, var2, ... = iterable`        | `x, y, z = (1, 2, 3)`                        | Assigns elements of an iterable to multiple variables.                          |\n",
    "| **Swapping Variables**           | `var1, var2 = var2, var1`           | `x, y = y, x`                                | Swaps the values of two variables.                                              |\n",
    "| **Conditional Assignment**       | `variable = val1 if cond else val2` | `max_val = a if a > b else b`                | Assigns a value based on a condition using a ternary operator.                  |\n",
    "| **Assignment with `*` (Unpacking)** | `var1, *var2, var3 = iterable`    | `a, *b, c = [1, 2, 3, 4, 5]`                 | Captures multiple elements in a list during unpacking.                          |\n",
    "| **Walrus Operator (Python 3.8+)** | `(var := expression)`               | `if (n := len(s)) > 10:`                     | Assigns a value as part of an expression, useful in conditions and loops.       |\n"
   ]
  },
  {
   "cell_type": "markdown",
   "metadata": {},
   "source": [
    "### Conditional Statements: if, elif, else, match case"
   ]
  },
  {
   "cell_type": "markdown",
   "metadata": {},
   "source": [
    "A boolean is a value that can be either true or false.\n",
    "\n",
    "Booleans are often used in algorithms to perform tests and make decisions. For example, a computer program can use a boolean to check if a number is even or odd. If the number is even, the boolean will be \"true\"; otherwise, it will be \"false.\""
   ]
  },
  {
   "cell_type": "code",
   "execution_count": 30,
   "metadata": {},
   "outputs": [
    {
     "name": "stdout",
     "output_type": "stream",
     "text": [
      "1\n"
     ]
    }
   ],
   "source": [
    "x = 2\n",
    "if x > 10:\n",
    "    x += 1\n",
    "else:\n",
    "    x -= 1\n",
    "print(x)"
   ]
  },
  {
   "cell_type": "markdown",
   "metadata": {},
   "source": [
    "For conditional statements, we use logical operators to evaluate conditions. \n",
    "| **Operator** | **Description**                                    | **Example**                | **Result** |\n",
    "|--------------|----------------------------------------------------|----------------------------|------------|\n",
    "| `and`        | Logical AND. True if both operands are true.       | `True and False`           | `False`    |\n",
    "| `or`         | Logical OR. True if at least one operand is true.  | `True or False`            | `True`     |\n",
    "| `not`        | Logical NOT. Inverts the truth value.              | `not True`                 | `False`    |\n",
    "| `==`         | Equal to. True if both operands are equal.         | `5 == 5`                   | `True`     |\n",
    "| `!=`         | Not equal to. True if operands are not equal.      | `5 != 3`                   | `True`     |\n",
    "| `>`          | Greater than. True if left operand is greater.     | `5 > 3`                    | `True`     |\n",
    "| `<`          | Less than. True if left operand is smaller.        | `5 < 3`                    | `False`    |\n",
    "| `>=`         | Greater than or equal to. True if left operand is greater or equal. | `5 >= 5`      | `True`     |\n",
    "| `<=`         | Less than or equal to. True if left operand is smaller or equal. | `5 <= 3`      | `False`    |\n",
    "| `is`         | Identity. True if both operands refer to the same object. | `a is b` (if `a` and `b` refer to the same object) | `True` or `False` |\n",
    "| `is not`     | Negated identity. True if operands do not refer to the same object. | `a is not b` | `True` or `False` |\n",
    "| `in`         | Membership. True if the value is found in the sequence. | `'a' in 'apple'` | `True`     |\n",
    "| `not in`     | Negated membership. True if the value is not found in the sequence. | `'x' not in 'apple'` | `True`     |\n"
   ]
  },
  {
   "cell_type": "markdown",
   "metadata": {},
   "source": [
    "Be aware to not confuse between **logical operators** and **bitwise operators**. Below is the list of the most common bitwise operators.\n",
    "| **Operator** | **Description**                                                | **Example** | **Result**      |\n",
    "|--------------|----------------------------------------------------------------|-------------|-----------------|\n",
    "| `&`          | Bitwise AND. Sets each bit to 1 if both bits are 1.            | `5 & 3`     | `1`  (0b0001)   |\n",
    "| `\\|`          | Bitwise OR. Sets each bit to 1 if one of the bits is 1.        | `5 \\| 3`    | `7`  (0b0111)   |\n",
    "| `^`          | Bitwise XOR. Sets each bit to 1 if only one of the bits is 1.  | `5 ^ 3`     | `6`  (0b0110)   |\n",
    "| `~`          | Bitwise NOT. Inverts all the bits.                             | `~5`        | `-6` (in 2's complement) |\n",
    "| `<<`         | Left Shift. Shifts bits to the left, filling with 0 on the right. | `5 << 1`  | `10` (0b1010)   |\n",
    "| `>>`         | Right Shift. Shifts bits to the right, filling with the leftmost bit on the left. | `5 >> 1`  | `2`  (0b0010)   |\n",
    "\n"
   ]
  },
  {
   "cell_type": "markdown",
   "metadata": {},
   "source": [
    "\n",
    "**Exercise**\n",
    "\n",
    ">You have a list of integers where every element appears twice, except for one (for example: [1, 2, 3, 4, 1, 3, 2]). You want to find the integer that appears only once. How can you do this using the XOR operator?\n",
    "\n"
   ]
  },
  {
   "cell_type": "code",
   "execution_count": 2,
   "metadata": {},
   "outputs": [
    {
     "name": "stdout",
     "output_type": "stream",
     "text": [
      "Executing limit order at $100, limit was set at $105.\n"
     ]
    }
   ],
   "source": [
    "# match case example (requires python >=3.10)\n",
    "order_type = \"limit_order\"\n",
    "price = 100\n",
    "limit = 105\n",
    "stop_loss = None\n",
    "\n",
    "match order_type.lower():\n",
    "    case \"market_order\":\n",
    "        print(f\"Executing market order immediately at current market price: ${price}.\")\n",
    "    \n",
    "    case \"limit_order\":\n",
    "        if limit:\n",
    "            if price <= limit:\n",
    "                print(f\"Executing limit order at ${price}, limit was set at ${limit}.\")\n",
    "            else:\n",
    "                print(f\"Waiting for price to reach limit of ${limit}.\")\n",
    "        else:\n",
    "            print(\"Limit price not provided.\")\n",
    "    \n",
    "    case \"stop_loss_order\":\n",
    "        if stop_loss:\n",
    "            if price <= stop_loss:\n",
    "                print(f\"Triggering stop-loss order at ${price}, stop-loss was set at ${stop_loss}.\")\n",
    "            else:\n",
    "                print(f\"Price has not reached stop-loss level of ${stop_loss}. Monitoring position.\")\n",
    "        else:\n",
    "            print(\"Stop-loss price not provided.\")\n",
    "    \n",
    "    case \"trailing_stop_order\":\n",
    "        print(\"Processing trailing stop order with dynamic stop-loss adjustment.\")\n",
    "\n",
    "    case _:\n",
    "        print(\"Invalid order type. Please provide a valid order type.\")\n"
   ]
  },
  {
   "cell_type": "markdown",
   "metadata": {},
   "source": [
    "### Loops (for, while) and control statements (break, else, continue, pass)"
   ]
  },
  {
   "cell_type": "markdown",
   "metadata": {},
   "source": [
    "| **Loop Type**       | **Description**                                                                                       | **Common Use Cases**                                  |\n",
    "|---------------------|-------------------------------------------------------------------------------------------------------|-------------------------------------------------------|\n",
    "| `for` loop          | Iterates over a sequence (like a list, tuple, string, or range) and executes a block of code for each item. | Iterating over elements in a list, range, or string.   |\n",
    "| `while` loop        | Repeats a block of code as long as a condition is `True`.                                              | Repeating actions until a condition changes.           |\n",
    "| `break`             | Exits the nearest enclosing loop immediately, skipping any remaining iterations.                       | Exiting a loop early when a condition is met.          |\n",
    "| `continue`          | Skips the current iteration of the loop and continues with the next iteration.                         | Skipping specific iterations based on a condition.     |\n",
    "| `else` with loops   | Executes a block of code after the loop finishes, unless the loop is terminated by `break`.            | Running code after a loop completes naturally.         |\n",
    "| `pass`              | A null operation; used as a placeholder in loops or other control structures when no action is required. | Defining loops with sections that will be implemented later. |\n"
   ]
  },
  {
   "cell_type": "code",
   "execution_count": null,
   "metadata": {},
   "outputs": [
    {
     "name": "stdout",
     "output_type": "stream",
     "text": [
      "1\n",
      "2\n"
     ]
    }
   ],
   "source": [
    "for elem in [1, 2]:\n",
    "    print(elem)"
   ]
  },
  {
   "cell_type": "code",
   "execution_count": null,
   "metadata": {},
   "outputs": [],
   "source": [
    "for i in range(11) :\n",
    "    print(i, end=\"-\")"
   ]
  },
  {
   "cell_type": "code",
   "execution_count": null,
   "metadata": {},
   "outputs": [
    {
     "name": "stdout",
     "output_type": "stream",
     "text": [
      "0 Chine\n",
      "1 Inde\n",
      "2 Etats-Unis\n",
      "3 France\n",
      "4 Espagne\n",
      "5 Suisse\n"
     ]
    }
   ],
   "source": [
    "list_countries=[\"China\",\"India\",\"United-states\",\"France\",\"Spain\",\"Canada\"]\n",
    "for index, country in enumerate(list_countries) :\n",
    "    print(index, country)"
   ]
  },
  {
   "cell_type": "code",
   "execution_count": null,
   "metadata": {},
   "outputs": [
    {
     "name": "stdout",
     "output_type": "stream",
     "text": [
      "1\n",
      "2\n",
      "3\n",
      "4\n",
      "5\n",
      "6\n",
      "7\n",
      "8\n",
      "9\n"
     ]
    }
   ],
   "source": [
    "i = 1\n",
    "while i < 10 :\n",
    "    print(i)\n",
    "    i += 1"
   ]
  },
  {
   "cell_type": "code",
   "execution_count": null,
   "metadata": {},
   "outputs": [
    {
     "name": "stdout",
     "output_type": "stream",
     "text": [
      "Current number: 1\n",
      "Current number: 2\n",
      "Found 3! Breaking the loop.\n",
      "Loop ended.\n"
     ]
    }
   ],
   "source": [
    "numbers = [1, 2, 3, 4, 5]\n",
    "\n",
    "for num in numbers:\n",
    "    if num == 3:\n",
    "        print(\"Found 3! Breaking the loop.\")\n",
    "        break  # Exit the loop when num equals 3\n",
    "    print(f\"Current number: {num}\")\n",
    "\n",
    "print(\"Loop ended.\")"
   ]
  },
  {
   "cell_type": "code",
   "execution_count": null,
   "metadata": {},
   "outputs": [
    {
     "name": "stdout",
     "output_type": "stream",
     "text": [
      "20 is not a prime number.\n"
     ]
    }
   ],
   "source": [
    "number = 29\n",
    "\n",
    "# A prime number is only divisible by 1 and itself\n",
    "for i in range(2, number):\n",
    "    if number % i == 0:\n",
    "        print(f\"{number} is not a prime number.\")\n",
    "        break\n",
    "else:\n",
    "    # The else block runs if the loop completes without hitting the break statement\n",
    "    print(f\"{number} is a prime number.\")\n"
   ]
  },
  {
   "cell_type": "code",
   "execution_count": null,
   "metadata": {},
   "outputs": [
    {
     "name": "stdout",
     "output_type": "stream",
     "text": [
      "Odd number: 1\n",
      "Odd number: 3\n",
      "Odd number: 5\n",
      "Loop ended.\n"
     ]
    }
   ],
   "source": [
    "numbers = [1, 2, 3, 4, 5]\n",
    "\n",
    "for num in numbers:\n",
    "    if num % 2 == 0:\n",
    "        continue  # Skip even numbers\n",
    "    print(f\"Odd number: {num}\")\n",
    "\n",
    "print(\"Loop ended.\")\n"
   ]
  },
  {
   "cell_type": "code",
   "execution_count": null,
   "metadata": {},
   "outputs": [],
   "source": [
    "for num in range(5):\n",
    "    if num == 3:\n",
    "        pass  # Placeholder for future code, does nothing\n",
    "    print(f\"Current number: {num}\")\n",
    "\n",
    "print(\"Loop ended.\")\n"
   ]
  },
  {
   "cell_type": "markdown",
   "metadata": {},
   "source": [
    "**Exercises**\n",
    "\n",
    ">Create a program that prompts the user for their latest grade, check whether their grade is between 0 to 20 included, and display their letter grade on screen according to the following scheme:\n",
    "```text\n",
    "[0, 5[ -> \"F\"\n",
    "[5, 10[ -> \"D\"\n",
    "[10, 15[ -> \"C\"\n",
    "[15, 18[ -> \"B\"\n",
    "[18, 20] -> \"A\"\n",
    "```\n",
    "\n",
    "\n",
    "> Given a list of integers l = [1, 2, 3, 4, 5]\n",
    "Write a for-loop to display the following output:\n",
    "\n",
    "```text\n",
    "The current value is: 1\n",
    "The current value is: 2\n",
    "The current value is: 3\n",
    "The current value is: 4\n",
    "The current value is: 5\n",
    "```\n",
    "\n",
    "\n",
    "> Same exercise as above, but try using a while loop.\n",
    "\n",
    "\n",
    "> Given the following list of strings l = [\"1\", \"2\", \"3\", \"4\", \"5\"], write code to calculate the sum of the integers."
   ]
  },
  {
   "cell_type": "markdown",
   "metadata": {},
   "source": [
    "\n",
    "## <a>Structured types</a>\n"
   ]
  },
  {
   "cell_type": "markdown",
   "metadata": {},
   "source": [
    "### a. Lists"
   ]
  },
  {
   "cell_type": "markdown",
   "metadata": {},
   "source": [
    "#### Syntax"
   ]
  },
  {
   "cell_type": "markdown",
   "metadata": {},
   "source": [
    "The most common syntax to create a list is:"
   ]
  },
  {
   "cell_type": "code",
   "execution_count": null,
   "metadata": {},
   "outputs": [
    {
     "name": "stdout",
     "output_type": "stream",
     "text": [
      "[12, -1, 'Hello World', 4.5]\n"
     ]
    }
   ],
   "source": [
    "L= [12, -1, \"Hello World\", 4.5]\n",
    "print(L)"
   ]
  },
  {
   "cell_type": "markdown",
   "metadata": {},
   "source": [
    "To access to list elements, we use indexes. NB: the first index is 0 not 1."
   ]
  },
  {
   "cell_type": "code",
   "execution_count": null,
   "metadata": {},
   "outputs": [
    {
     "name": "stdout",
     "output_type": "stream",
     "text": [
      "First element : 12\n",
      "Second element : -1\n",
      "Last element : 4.5\n"
     ]
    }
   ],
   "source": [
    "print(\"First element :\",  L[0]) # first element has an index = 0 \n",
    "print(\"Second element :\", L[1])  \n",
    "print(\"Last element :\",  L[-1]) # equivalent to"
   ]
  },
  {
   "cell_type": "markdown",
   "metadata": {},
   "source": [
    "We can extract sub-lists:"
   ]
  },
  {
   "cell_type": "code",
   "execution_count": null,
   "metadata": {},
   "outputs": [
    {
     "name": "stdout",
     "output_type": "stream",
     "text": [
      "[-1, 'Hello World']\n",
      "['Hello World', 4.5]\n",
      "[12, -1]\n"
     ]
    }
   ],
   "source": [
    "print(L[1:3])  # from the element with index 1 *included* to the element with index 3 *excluded* \n",
    "print(L[2:])   # to the end\n",
    "print(L[:-2])  # to the element with index -2 *excluded*"
   ]
  },
  {
   "cell_type": "markdown",
   "metadata": {},
   "source": [
    "\n",
    "<p>To modify a list :</p>\n"
   ]
  },
  {
   "cell_type": "code",
   "execution_count": null,
   "metadata": {},
   "outputs": [
    {
     "name": "stdout",
     "output_type": "stream",
     "text": [
      "et maintenant L= [1, 24, 3]\n"
     ]
    }
   ],
   "source": [
    "L[1]= 24\n",
    "print(\"and now L=\", L)"
   ]
  },
  {
   "cell_type": "markdown",
   "metadata": {},
   "source": [
    "\n",
    "<p>To merge 2 lists, we can use + :</p>\n"
   ]
  },
  {
   "cell_type": "code",
   "execution_count": null,
   "metadata": {},
   "outputs": [
    {
     "data": {
      "text/plain": [
       "[1, 2, 3, 4, 5, 6]"
      ]
     },
     "execution_count": 31,
     "metadata": {},
     "output_type": "execute_result"
    }
   ],
   "source": [
    "[1,2,3]  +  [4,5,6]"
   ]
  },
  {
   "cell_type": "markdown",
   "metadata": {},
   "source": [
    "#### Lists are Mutable"
   ]
  },
  {
   "cell_type": "markdown",
   "metadata": {},
   "source": [
    "In Python, lists are **mutable** objects. This means that once a list is created, its contents can be modified without creating a new list. The ability to change, add, or remove elements from a list after it has been created is what makes lists mutable.\n",
    "\n",
    "Key Characteristics of Mutable Lists are:\n",
    "\n",
    "**1. Modification of Elements**: You can change an element at a specific index in a list. For example:"
   ]
  },
  {
   "cell_type": "code",
   "execution_count": null,
   "metadata": {},
   "outputs": [
    {
     "name": "stdout",
     "output_type": "stream",
     "text": [
      "[1, 10, 3]\n"
     ]
    }
   ],
   "source": [
    "my_list = [1, 2, 3]\n",
    "my_list[1] = 10  # Changing the second element from 2 to 10\n",
    "print(my_list)  # Output: [1, 10, 3]"
   ]
  },
  {
   "cell_type": "markdown",
   "metadata": {},
   "source": [
    "**2. Adding Elements**: You can add new elements to the end of the list or insert them at a specific position:"
   ]
  },
  {
   "cell_type": "code",
   "execution_count": null,
   "metadata": {},
   "outputs": [
    {
     "name": "stdout",
     "output_type": "stream",
     "text": [
      "[1, 5, 10, 3, 4]\n"
     ]
    }
   ],
   "source": [
    "my_list.append(4)        # Adding 4 to the end\n",
    "my_list.insert(1, 5)     # Inserting 5 at index 1\n",
    "print(my_list)           # Output: [1, 5, 10, 3, 4]"
   ]
  },
  {
   "cell_type": "markdown",
   "metadata": {},
   "source": [
    "**3. Removing Elements**: You can remove elements from the list by value or by index:"
   ]
  },
  {
   "cell_type": "code",
   "execution_count": null,
   "metadata": {},
   "outputs": [
    {
     "name": "stdout",
     "output_type": "stream",
     "text": [
      "[1, 3, 4]\n"
     ]
    }
   ],
   "source": [
    "my_list.remove(10)       # Removing the element with value 10\n",
    "del my_list[1]           # Removing the element at index 1\n",
    "print(my_list)           # Output: [1, 3, 4]"
   ]
  },
  {
   "cell_type": "markdown",
   "metadata": {},
   "source": [
    "**4. List Methods**: Lists come with a variety of methods that allow you to modify them. These include methods like .extend(), .pop(), and .sort()."
   ]
  },
  {
   "cell_type": "code",
   "execution_count": null,
   "metadata": {},
   "outputs": [
    {
     "name": "stdout",
     "output_type": "stream",
     "text": [
      "[1, 3, 4, 5, 5]\n"
     ]
    }
   ],
   "source": [
    "my_list.extend([5, 6])  # Adding multiple elements\n",
    "my_list.pop()           # Removing and returning the last element\n",
    "my_list.sort()          # Sorting the list in place\n",
    "print(my_list)          "
   ]
  },
  {
   "cell_type": "markdown",
   "metadata": {},
   "source": [
    "Implications of Mutability are:\n",
    "\n",
    "**1. In-Place Changes**: Since lists are mutable, modifications to a list affect the original list, not a copy."
   ]
  },
  {
   "cell_type": "code",
   "execution_count": null,
   "metadata": {},
   "outputs": [
    {
     "name": "stdout",
     "output_type": "stream",
     "text": [
      "[1, 2, 3, 100]\n"
     ]
    }
   ],
   "source": [
    "def modify_list(lst):\n",
    "    lst.append(100)\n",
    "\n",
    "my_list = [1, 2, 3]\n",
    "modify_list(my_list)\n",
    "print(my_list)  # Output: [1, 2, 3, 100]\n"
   ]
  },
  {
   "cell_type": "markdown",
   "metadata": {},
   "source": [
    "**2. Pass-by-Reference**: When you pass a list to a function, you are passing a reference to the original list, not a copy. Changes made to the list inside the function will affect the original list outside the function.\n",
    "\n",
    "**3. Shared References**: If you assign a list to another variable, both variables refer to the same list object. Modifying the list through one variable will reflect in the other:"
   ]
  },
  {
   "cell_type": "code",
   "execution_count": null,
   "metadata": {},
   "outputs": [
    {
     "name": "stdout",
     "output_type": "stream",
     "text": [
      "[1, 2, 3, 4]\n"
     ]
    }
   ],
   "source": [
    "list1 = [1, 2, 3]\n",
    "list2 = list1\n",
    "list2.append(4)\n",
    "print(list1)  # Output: [1, 2, 3, 4]"
   ]
  },
  {
   "cell_type": "markdown",
   "metadata": {},
   "source": [
    "#### Shallow Copy vs. Deep Copy"
   ]
  },
  {
   "cell_type": "markdown",
   "metadata": {},
   "source": [
    "\n",
    "##### **Shallow Copy**\n",
    "\n",
    "- **Definition:**\n",
    "  A shallow copy of a list creates a new list object, but the elements within the new list are references to the same objects as the elements in the original list. In other words, a shallow copy only copies the references to the objects, not the objects themselves.\n",
    "\n",
    "- **Characteristics:**\n",
    "  - Modifying an element in a shallow copy affects the original list if the element is mutable (like another list or a dictionary).\n",
    "  - Changes to the mutable elements within the copied list will be reflected in the original list.\n",
    "\n",
    "- **Creating a Shallow Copy:**\n",
    "  You can create a shallow copy using the `copy()` method or slicing:\n"
   ]
  },
  {
   "cell_type": "code",
   "execution_count": null,
   "metadata": {},
   "outputs": [
    {
     "name": "stdout",
     "output_type": "stream",
     "text": [
      "Original list: [1, [9, 3], 4]\n",
      "Shallow copy: [99, [9, 3], 4]\n"
     ]
    }
   ],
   "source": [
    "original_list = [1, [2, 3], 4]\n",
    "shallow_copy = original_list.copy() \n",
    "# or\n",
    "shallow_copy = original_list[:]\n",
    "\n",
    "shallow_copy[0] = 99\n",
    "shallow_copy[1][0] = 9\n",
    "\n",
    "print(\"Original list:\", original_list)  # Output: [1, [9, 3], 4]\n",
    "print(\"Shallow copy:\", shallow_copy)    # Output: [99, [9, 3], 4]\n"
   ]
  },
  {
   "cell_type": "markdown",
   "metadata": {},
   "source": [
    "##### **Deep Copy**\n",
    "\n",
    "- **Definition:**\n",
    "  A deep copy creates a new list object and recursively copies all objects found in the original list. This means that not only the list itself but also all nested objects (like lists within lists) are copied. Changes to any of the objects in the deep copy do not affect the original list.\n",
    "\n",
    "- **Characteristics:**\n",
    "  - A deep copy is useful when you want to work with a completely independent copy of a complex nested data structure.\n",
    "  - Modifications to the deep copy will not impact the original list or its nested elements.\n",
    "\n",
    "- **Creating a Deep Copy:**\n",
    "  You can create a deep copy using the `copy` module’s `deepcopy()` function:\n"
   ]
  },
  {
   "cell_type": "code",
   "execution_count": null,
   "metadata": {},
   "outputs": [
    {
     "name": "stdout",
     "output_type": "stream",
     "text": [
      "Original list: [[1, 2], [3, 4]]\n",
      "Deep copy: [[99, 2], [3, 4]]\n"
     ]
    }
   ],
   "source": [
    "import copy\n",
    "\n",
    "original_list = [[1, 2], [3, 4]]\n",
    "deep_copy = copy.deepcopy(original_list)\n",
    "\n",
    "# Modifying the first element of the first inner list in the deep copy\n",
    "deep_copy[0][0] = 99\n",
    "\n",
    "print(\"Original list:\", original_list)  # Output: [[1, 2], [3, 4]]\n",
    "print(\"Deep copy:\", deep_copy)          # Output: [[99, 2], [3, 4]]\n"
   ]
  },
  {
   "cell_type": "markdown",
   "metadata": {},
   "source": [
    "#### Constructions"
   ]
  },
  {
   "cell_type": "code",
   "execution_count": null,
   "metadata": {},
   "outputs": [
    {
     "name": "stdout",
     "output_type": "stream",
     "text": [
      "[0, 1, 2, 3, 4, 5, 6, 7, 8, 9, 10, 11, 12, 13, 14, 15, 16, 17, 18, 19, 20, 21, 22, 23, 24, 25, 26, 27, 28, 29]\n",
      "[0, 1, 4, 9, 16, 25, 36, 49, 64, 81, 100, 121, 144, 169, 196, 225, 256, 289, 324, 361, 400, 441, 484, 529, 576, 625, 676, 729, 784, 841]\n",
      "[0, 4, 16, 36, 64, 100, 144, 196, 256, 324, 400, 484, 576, 676, 784]\n",
      "[0, 4, 16, 36, 64, 100, 144, 196, 256, 324, 400, 484, 576, 676, 784]\n"
     ]
    }
   ],
   "source": [
    "L= [x for x in range(30)]\n",
    "print(L)\n",
    "\n",
    "squares= [x**2 for x in range(30)]\n",
    "print(squares)\n",
    "\n",
    "squareseven= [ x**2 for x in range(30) if x%2 == 0 ]\n",
    "print(squareseven)\n",
    "\n",
    "squareseven_= [y for y in squares if y%2 == 0] \n",
    "print(squareseven_)\n",
    "\n",
    "sum_squares= [ x**2 + y**2  for x in range(10) for y in range(10)]\n",
    "print(sum_squares)"
   ]
  },
  {
   "cell_type": "markdown",
   "metadata": {},
   "source": [
    "**Exercises**\n",
    "\n",
    ">Given the following list l = [34, 45, 67, 89], display the 3rd element on screen.\n",
    "\n",
    ">Given the following list l = [34, 45, 67, 89], increment the 2nd element by 1.\n",
    "\n",
    ">Given a list l = [1, 2, 3, 4, 5], reverse l.\n",
    "\n",
    ">Given an empty list l = [], create a program that fills the list with all integers up to 20 included. Use the range function.\n",
    "\n",
    ">Same as above, but do NOT use the range function.\n",
    "\n",
    ">Same as above, but only include the even integers. You may or may not use the range function.\n",
    "\n",
    ">Given the following list l = [2, 4, 6, 7, 8, 9], display the minimum number in the list.\n",
    "\n",
    ">Same as above for the maximum.\n",
    "\n",
    ">Given the following list l = [2, 4, 6, 7, 8, 9], remove the last element from the list.\n",
    "\n",
    ">Same as above, but for the element at index 2.\n",
    "\n",
    ">Given the following list l = [2, 4, 6, 7, 8, 9], create a program that displays the number of element in the list without using the built-in function \"len\".\n",
    "\n",
    ">Given a list l = [45, 34, 25, 105, 546, 1, 32], sort the list in ascending order.\n",
    "\n",
    ">Create a program that displays a list containing the square of each integer from 1 to 10 included, and do so using list comprehension."
   ]
  },
  {
   "cell_type": "markdown",
   "metadata": {},
   "source": [
    "### b. Sets\n",
    "#### Definition\n",
    "A **set** is an unordered collection of unique and immutable elements in Python. Sets are used to store multiple items in a single variable without any particular order and ensure that each element is distinct.\n",
    "\n",
    "#### Characteristics\n",
    "- **Unordered:** Elements in a set do not have a defined order, and their position can change.\n",
    "- **Unique Elements:** Sets automatically eliminate duplicate elements.\n",
    "- **Mutable:** You can add or remove elements from a set after its creation.\n",
    "- **Immutable Elements:** While the set itself is mutable, the elements contained within must be immutable (e.g., numbers, strings, tuples).\n",
    "\n",
    "#### Creating a Set\n",
    "You can create a set using curly braces `{}` or the `set()` constructor.\n",
    "\n",
    "#### Common Operations and Methods\n",
    "\n",
    "| **Operation/Method**   | **Description**                                                                 |\n",
    "|------------------------|---------------------------------------------------------------------------------|\n",
    "| **Adding Elements**    | `add(element)` adds a single element to the set.                                 |\n",
    "| **Removing Elements**  | `remove(element)` removes a specific element; raises an error if not found. `discard(element)` removes an element without raising an error if it's absent. `pop()` removes and returns an arbitrary element. |\n",
    "| **Set Operations**     | `union()`, `intersection()`, `difference()`, and `symmetric_difference()` perform standard set operations. |\n",
    "| **Membership Testing** | Use the `in` keyword to check if an element exists in the set.                   |\n",
    "| **Clearing a Set**     | `clear()` removes all elements from the set.                                     |\n"
   ]
  },
  {
   "cell_type": "code",
   "execution_count": null,
   "metadata": {},
   "outputs": [
    {
     "name": "stdout",
     "output_type": "stream",
     "text": [
      "{'blue', 'red', 'yellow', 'green'}\n",
      "{'blue', 'red', 'yellow'}\n",
      "{1, 2, 3, 4, 5}\n",
      "{3}\n",
      "{1, 2}\n",
      "{1, 2, 4, 5}\n"
     ]
    }
   ],
   "source": [
    "# Creating a set\n",
    "colors = {\"red\", \"green\", \"blue\"}\n",
    "\n",
    "# Adding an element\n",
    "colors.add(\"yellow\")\n",
    "print(colors)  # Output might be: {'red', 'green', 'blue', 'yellow'}\n",
    "\n",
    "# Removing an element\n",
    "colors.remove(\"green\")\n",
    "print(colors)  # Output might be: {'red', 'blue', 'yellow'}\n",
    "\n",
    "# Set operations\n",
    "a = {1, 2, 3}\n",
    "b = {3, 4, 5}\n",
    "\n",
    "# Union\n",
    "print(a.union(b))  # Output: {1, 2, 3, 4, 5}\n",
    "\n",
    "# Intersection\n",
    "print(a.intersection(b))  # Output: {3}\n",
    "\n",
    "# Difference\n",
    "print(a.difference(b))  # Output: {1, 2}\n",
    "\n",
    "# Symmetric Difference\n",
    "print(a.symmetric_difference(b))  # Output: {1, 2, 4, 5}\n"
   ]
  },
  {
   "cell_type": "markdown",
   "metadata": {},
   "source": [
    "#### Use Cases\n",
    "- **Removing Duplicates:** Efficiently eliminate duplicate entries from a collection.\n",
    "- **Membership Testing:** Quickly check the existence of an element.\n",
    "- **Set Operations:** Perform mathematical set operations like unions and intersections, which are useful in various algorithms and data processing tasks.\n",
    "\n",
    "#### Key Points\n",
    "- Sets are ideal for situations where the uniqueness of elements is required.\n",
    "- Being unordered, sets do not support indexing, slicing, or other sequence-like behavior.\n",
    "- Sets are mutable, but they cannot contain mutable elements like lists or other sets.\n"
   ]
  },
  {
   "cell_type": "markdown",
   "metadata": {},
   "source": [
    "**Exercises**\n",
    "\n",
    ">Given a list l = [1, 1, 2, 3], cast the list to type \"set\" and display the result. Notice what happened ?\n",
    "\n",
    ">Given 2 sets s1 = {1, 2} and s2 = {1, 3}, create a program that displays the intersection of these 2 sets.\n",
    "\n",
    ">Given 2 sets s1 = {1, 2} and s2 = {1, 3}, create a program that returns True if s1 is a subset of s2, or False otherwise.\n",
    "\n",
    ">Same as above, but for the following new sets s1 = {1, 2} and s2 = {1, 2, 3}."
   ]
  },
  {
   "cell_type": "markdown",
   "metadata": {},
   "source": [
    "### c. Tuples\n",
    "\n",
    "#### Definition\n",
    "A **tuple** is an ordered, immutable collection of elements in Python. Tuples can contain elements of different data types and are used to group related data together.\n",
    "\n",
    "#### Characteristics\n",
    "- **Ordered:** Elements have a defined order, and this order is preserved.\n",
    "- **Immutable:** Once created, the elements of a tuple cannot be changed, added, or removed.\n",
    "- **Allows Duplicates:** Tuples can contain duplicate elements.\n",
    "- **Heterogeneous:** Tuples can store elements of different data types (e.g., integers, strings, lists).\n",
    "\n",
    "#### Creating a Tuple\n",
    "You can create a tuple by placing comma-separated values within parentheses `()` or without them.\n"
   ]
  },
  {
   "cell_type": "code",
   "execution_count": null,
   "metadata": {},
   "outputs": [],
   "source": [
    "# Using parentheses\n",
    "person = (\"John\", 25, \"Engineer\")\n",
    "\n",
    "# Without parentheses (tuple packing)\n",
    "coordinates = 10.0, 20.0\n",
    "\n",
    "# Empty tuple\n",
    "empty = ()\n",
    "\n",
    "# Single element tuple (note the comma)\n",
    "single = (\"only\",)\n"
   ]
  },
  {
   "cell_type": "markdown",
   "metadata": {},
   "source": [
    "### Common Operations and Methods\n",
    "\n",
    "| **Operation/Method**    | **Description**                                                   |\n",
    "|-------------------------|-------------------------------------------------------------------|\n",
    "| **Accessing Elements**  | Use indexing (`tuple[index]`) and slicing (`tuple[start:stop]`) to access elements. |\n",
    "| **Concatenation**       | Use the `+` operator to concatenate two tuples.                   |\n",
    "| **Repetition**          | Use the `*` operator to repeat a tuple multiple times.            |\n",
    "| **Membership Testing**  | Use the `in` keyword to check if an element exists in the tuple.  |\n",
    "| **Counting Elements**   | `count(element)` returns the number of times an element appears.  |\n",
    "| **Finding Index**       | `index(element)` returns the first index of the specified element.|\n"
   ]
  },
  {
   "cell_type": "code",
   "execution_count": null,
   "metadata": {},
   "outputs": [
    {
     "name": "stdout",
     "output_type": "stream",
     "text": [
      "Alice\n",
      "('Physics', 23)\n",
      "(1, 2, 3, 4, 5)\n",
      "(1, 2, 3, 1, 2, 3)\n",
      "True\n",
      "False\n",
      "3\n",
      "3\n"
     ]
    }
   ],
   "source": [
    "# Creating a tuple\n",
    "student = (\"Alice\", \"Physics\", 23)\n",
    "\n",
    "# Accessing elements\n",
    "print(student[0])  # Output: Alice\n",
    "print(student[1:3])  # Output: ('Physics', 23)\n",
    "\n",
    "# Concatenation\n",
    "tuple1 = (1, 2, 3)\n",
    "tuple2 = (4, 5)\n",
    "combined = tuple1 + tuple2\n",
    "print(combined)  # Output: (1, 2, 3, 4, 5)\n",
    "\n",
    "# Repetition\n",
    "repeated = tuple1 * 2\n",
    "print(repeated)  # Output: (1, 2, 3, 1, 2, 3)\n",
    "\n",
    "# Membership Testing\n",
    "print(2 in tuple1)  # Output: True\n",
    "print(4 in tuple1)  # Output: False\n",
    "\n",
    "# Counting Elements\n",
    "duplicate_tuple = (1, 2, 2, 3, 2)\n",
    "print(duplicate_tuple.count(2))  # Output: 3\n",
    "\n",
    "# Finding Index\n",
    "print(duplicate_tuple.index(3))  # Output: 3\n"
   ]
  },
  {
   "cell_type": "markdown",
   "metadata": {},
   "source": [
    "#### Use Cases\n",
    "- **Data Integrity:** Use tuples when you want to ensure that the data cannot be modified, maintaining data integrity.\n",
    "- **Dictionary Keys:** Tuples can be used as keys in dictionaries because they are immutable.\n",
    "- **Returning Multiple Values:** Functions can return multiple values packaged in a tuple.\n",
    "- **Fixed Collections:** Represent fixed collections of items, such as coordinates, RGB values, etc.\n",
    "\n",
    "#### Key Points\n",
    "- Tuples are lightweight and have a smaller memory footprint compared to lists.\n",
    "- Being immutable, tuples provide a level of protection against accidental modifications.\n",
    "- Tuples support all the operations that sequences do, except those that modify the tuple.\n"
   ]
  },
  {
   "cell_type": "markdown",
   "metadata": {},
   "source": [
    "### d. Dictionaries\n",
    "\n",
    "#### Definition\n",
    "A **dictionary** is an unordered collection of key-value pairs in Python. Each key in a dictionary is unique and is used to store and retrieve values efficiently.\n",
    "\n",
    "#### Characteristics\n",
    "- **Unordered:** Dictionaries do not maintain the order of elements. As of Python 3.7, dictionaries preserve insertion order, but this should not be relied upon for algorithmic logic.\n",
    "- **Unique Keys:** Each key in a dictionary must be unique. Duplicate keys are not allowed.\n",
    "- **Mutable:** Dictionaries can be changed after creation. You can add, remove, or modify key-value pairs.\n",
    "- **Keys Must Be Immutable:** Keys must be of an immutable type, such as strings, numbers, or tuples containing immutable elements.\n",
    "\n",
    "#### Creating a Dictionary\n",
    "You can create a dictionary using curly braces `{}` with key-value pairs separated by colons, or by using the `dict()` constructor."
   ]
  },
  {
   "cell_type": "code",
   "execution_count": null,
   "metadata": {},
   "outputs": [],
   "source": [
    "# Using curly braces\n",
    "person = {\"name\": \"John\", \"age\": 30, \"occupation\": \"Engineer\"}\n",
    "\n",
    "# Using the dict() constructor\n",
    "numbers = dict(one=1, two=2, three=3)\n",
    "\n",
    "# Empty dictionary\n",
    "empty = {}\n",
    "\n",
    "# Dictionary with mixed data types\n",
    "mixed = {\"name\": \"Alice\", \"age\": 25, \"scores\": [85, 90, 95]}\n"
   ]
  },
  {
   "cell_type": "markdown",
   "metadata": {},
   "source": [
    "#### Common Operations and Methods\n",
    "\n",
    "| **Operation/Method**   | **Description**                                                   |\n",
    "|------------------------|-------------------------------------------------------------------|\n",
    "| **Accessing Values**   | Use indexing with keys (`dict[key]`) to access values.            |\n",
    "| **Adding/Updating**    | Assign values to keys to add or update entries (`dict[key] = value`). |\n",
    "| **Removing Items**     | Use `pop(key)` to remove an item and return its value, `popitem()` to remove and return the last inserted item, and `del dict[key]` to delete an item. |\n",
    "| **Checking Existence** | Use the `in` keyword to check if a key exists in the dictionary.  |\n",
    "| **Keys and Values**    | Use `keys()` to get a view of keys, `values()` to get a view of values, and `items()` to get a view of key-value pairs. |\n",
    "| **Clearing a Dictionary** | Use `clear()` to remove all items from the dictionary.            |\n"
   ]
  },
  {
   "cell_type": "code",
   "execution_count": null,
   "metadata": {},
   "outputs": [
    {
     "name": "stdout",
     "output_type": "stream",
     "text": [
      "John\n",
      "Engineer\n",
      "True\n",
      "False\n",
      "dict_keys(['name', 'age'])\n",
      "dict_values(['John', 31])\n",
      "dict_items([('name', 'John'), ('age', 31)])\n",
      "{}\n"
     ]
    }
   ],
   "source": [
    "# Creating a dictionary\n",
    "person = {\"name\": \"John\", \"age\": 30, \"occupation\": \"Engineer\"}\n",
    "\n",
    "# Accessing values\n",
    "print(person[\"name\"])  # Output: John\n",
    "\n",
    "# Adding/Updating\n",
    "person[\"age\"] = 31  # Update existing key\n",
    "person[\"city\"] = \"New York\"  # Add new key-value pair\n",
    "\n",
    "# Removing Items\n",
    "removed_value = person.pop(\"occupation\")  # Output: Engineer\n",
    "print(removed_value)\n",
    "del person[\"city\"]\n",
    "\n",
    "# Checking Existence\n",
    "print(\"name\" in person)  # Output: True\n",
    "print(\"city\" in person)  # Output: False\n",
    "\n",
    "# Keys, Values, and Items\n",
    "print(person.keys())  # Output: dict_keys(['name', 'age'])\n",
    "print(person.values())  # Output: dict_values(['John', 31])\n",
    "print(person.items())  # Output: dict_items([('name', 'John'), ('age', 31)])\n",
    "\n",
    "# Clearing a Dictionary\n",
    "person.clear()\n",
    "print(person)  # Output: {}\n"
   ]
  },
  {
   "cell_type": "markdown",
   "metadata": {},
   "source": [
    "#### Use Cases\n",
    "- **Data Storage:** Store and manage data in key-value pairs, useful for configuration settings, database records, etc.\n",
    "- **Fast Lookups:** Quickly retrieve values based on unique keys, ideal for situations where quick access to data is required.\n",
    "- **Flexible Data Structures:** Represent complex data structures, including nested dictionaries.\n",
    "\n",
    "#### Key Points\n",
    "- Dictionaries are ideal for cases where data is best represented as key-value pairs.\n",
    "- Keys must be immutable and unique, while values can be of any type and can be duplicated.\n",
    "- Being mutable, dictionaries allow for dynamic updates and modifications.\n"
   ]
  },
  {
   "cell_type": "markdown",
   "metadata": {},
   "source": [
    "| **Data Structure** | **Mutable/Immutable** | **Duplicates Allowed** | **Ordered/Unordered** | **Indexing** | **Keys/Values** | **Use Case** |\n",
    "|--------------------|-----------------------|------------------------|-----------------------|--------------|----------------|--------------|\n",
    "| **List**           | Mutable               | Yes                    | Ordered               | Yes          | No             | Dynamic collection of ordered items with duplicates. |\n",
    "| **Set**            | Mutable (but elements must be immutable) | No                     | Unordered              | No           | No             | Collection of unique items for fast membership testing and set operations. |\n",
    "| **Tuple**          | Immutable             | Yes                    | Ordered               | Yes          | No             | Immutable sequences where order and data integrity are important (e.g., coordinates, fixed configurations). |\n",
    "| **Dictionary**     | Mutable (keys must be immutable) | No (for keys)          | Ordered (Python 3.7+) | No (keys used instead) | Yes (key-value pairs) | Mapping of unique keys to values for fast lookups and data retrieval. |\n"
   ]
  },
  {
   "cell_type": "markdown",
   "metadata": {},
   "source": [
    "**Exercise 1**\n",
    "\n",
    ">Given a list l = [1, 1, 1, 2, 2, 3], create a dict that contains the elements from the list l as a key and the number of occurences of that element in l as a value.\n",
    "\n",
    "\n",
    "**Exercise 2**\n",
    ">Given a dictionary d = {\"a\": 23, \"b\": 45, \"c\": 2}, create a program that displays the keys of the dict d. Hint: Try using the \"keys\" method.\n",
    "\n",
    "\n",
    "**Exercise 3**\n",
    ">Given a dictionary d = {\"a\": 23, \"b\": 45, \"c\": 2}, create a program that displays the values of the dict d. Hint: Try using the \"values\" method.\n",
    "\n",
    "\n",
    "**Exercise 4**\n",
    ">Given a dictionary d = {\"a\": 23, \"b\": 45, \"c\": 2}, create a program that displays the key-value pairs in the following format:\n",
    "\n",
    "```text\n",
    "key = a value = 23\n",
    "key = b value = 45\n",
    "key = c value = 2\n",
    "```\n",
    "\n",
    "\n",
    "**Exercise 5**\n",
    ">Given a dictionary d = {\"a\": 23, \"b\": 45, \"c\": 2}, create a program that removes the key-value pair associated to the \"a\" key and displays it on screen.\n",
    "\n",
    "\n",
    "**Exercise 6**\n",
    ">Given an integer s = 10 and a list l = [1, 3, 5, 5, 7, 10], create a program that creates a set of all pairs of integers (i, j) such that i + j = s. The output given the variables s and l above should be {(3, 7), (5, 5)} (notice (3, 7) a,d (7, 3) are duplicates so only one is needed.)\n",
    "Can you do it in O(n) time ?\n",
    "\n",
    "\n",
    "**Exercise 7**\n",
    "> Consider the limit $\\displaystyle \\sum_{n=1}^\\infty \\frac 1 {n^2}$. This limit is equal to $\\displaystyle \\frac{\\pi^2}{k}$ with $k$ is an integer . Find the value of $k$ using the function **sum** of a list. \n",
    "\n",
    "\n",
    "**Exercise 8 (diophantien)**\n",
    ">Find all solutions of $x^3  + 2xy = 82$ with $x, y \\in \\mathbb{N}$.\n",
    ">Same with $x^3  + 2xy = 81$.\n",
    "\n",
    "\n",
    "**Exercise 9**\n",
    ">Find an integer that cannot be written as the sum of three squares. Then, explore the integers that can be written as the sum of four squares. (You will discover a famous theorem.)\n",
    "\n",
    "\n",
    "\n",
    "**Exercise 10**\n",
    ">For each $s\\ge 2$, we will study the sum $a_s = \\displaystyle \\frac 1 {\\pi^{2s}} \\sum_{n=1}^\\infty \\frac 1 {n^{2s}}$. We know that $a_1 = \\frac 1 6$.\n",
    ">Check that $a_2^{-1}, a_3^{-1}, a_4^{-1}, a_5^{-1}$ seem to be integers, but it's not the case for $a_6$ et $a_7$.\n",
    "\n",
    "\n",
    "**Exercice 11 (pyramidal integers)**\n",
    ">We say that an integer is pyramidal if its form is $\\frac{1}{6}n(n+1)(2n+1)$. A classic exercise is to prove by induction that $\\frac{1}{6}n(n+1)(2n+1)$ is the sum of $1^2 + 2^2 + 3^2 + \\cdots + n^2$, but that is not the goal here—unless you'd like to practice your mathematical skills.\n",
    "\n",
    ">Find the pyramidal integer greater than 1 that is also a perfect square. Then, find another one.\n"
   ]
  },
  {
   "cell_type": "markdown",
   "metadata": {},
   "source": [
    "## <a>Functions</a>\n"
   ]
  },
  {
   "cell_type": "markdown",
   "metadata": {},
   "source": [
    "### Introduction to Functions\n",
    "Functions are reusable blocks of code that perform a specific task. They help in making your code modular, more readable, and easier to debug. A function can take inputs (called arguments or parameters), process them, and return an output.\n",
    "\n",
    "### Defining a Function\n",
    "To define a function in Python, use the def keyword followed by the function name and parentheses ()."
   ]
  },
  {
   "cell_type": "code",
   "execution_count": null,
   "metadata": {},
   "outputs": [
    {
     "name": "stdout",
     "output_type": "stream",
     "text": [
      "The history saving thread hit an unexpected error (OperationalError('attempt to write a readonly database')).History will not be written to the database.\n"
     ]
    }
   ],
   "source": [
    "def calculate_price(price, tax_rate=0.05):\n",
    "    \"\"\"\n",
    "    This function calculates the total price including tax.\n",
    "    \"\"\"\n",
    "    total_price = price + (price * tax_rate)\n",
    "    return total_price\n"
   ]
  },
  {
   "cell_type": "code",
   "execution_count": null,
   "metadata": {},
   "outputs": [
    {
     "name": "stdout",
     "output_type": "stream",
     "text": [
      "107.0\n"
     ]
    }
   ],
   "source": [
    "total = calculate_price(tax_rate=0.07, price=100)\n",
    "print(total)  # Output: 107.0"
   ]
  },
  {
   "cell_type": "markdown",
   "metadata": {},
   "source": [
    "### Returning multiple values"
   ]
  },
  {
   "cell_type": "code",
   "execution_count": null,
   "metadata": {},
   "outputs": [
    {
     "name": "stdout",
     "output_type": "stream",
     "text": [
      "Min: 10, Max: 50, Avg: 30.0\n"
     ]
    }
   ],
   "source": [
    "def get_stats(numbers):\n",
    "    \"\"\"\n",
    "    This function returns the minimum, maximum, and average of a list of numbers.\n",
    "    \"\"\"\n",
    "    min_num = min(numbers)\n",
    "    max_num = max(numbers)\n",
    "    avg_num = sum(numbers) / len(numbers)\n",
    "    return min_num, max_num, avg_num\n",
    "min_val, max_val, avg_val = get_stats([10, 20, 30, 40, 50])\n",
    "print(f\"Min: {min_val}, Max: {max_val}, Avg: {avg_val}\")\n"
   ]
  },
  {
   "cell_type": "markdown",
   "metadata": {},
   "source": [
    "### Lambda functions"
   ]
  },
  {
   "cell_type": "markdown",
   "metadata": {},
   "source": [
    "A **lambda function** in Python is an anonymous function, meaning it is a function that is defined without a name. It is often used for short, simple operations where defining a full function using **def** would be excessive.\n",
    "\n",
    "The syntax for a lambda function is: \n",
    "\n",
    "```python\n",
    "lambda arguments: expression\n",
    "```\n",
    "\n",
    "- **lambda** is the keyword.\n",
    "- **arguments** are the input parameters.\n",
    "- **expression** is the computation performed and returned by the lambda function.\n"
   ]
  },
  {
   "cell_type": "code",
   "execution_count": null,
   "metadata": {},
   "outputs": [
    {
     "name": "stdout",
     "output_type": "stream",
     "text": [
      "15\n"
     ]
    }
   ],
   "source": [
    "multiply = lambda x, y: x * y\n",
    "result = multiply(5, 3)\n",
    "print(result)  # Output: 15\n"
   ]
  },
  {
   "cell_type": "markdown",
   "metadata": {},
   "source": [
    "**Exercise 1**\n",
    "\n",
    ">Write a function that takes an integer greater than or equal to 0 and returns the factorial of that integer.\n",
    "NOTE: the factorial sequence is defined using the following recurrence formula: a_0 = 1, a_n = n * a_n-1 for all n >= 1\n",
    "\n",
    "\n",
    "**Exercise 2**\n",
    "\n",
    ">Write a function that takes a string as a parameter and returns a boolean that is True if the string is a palindrome and False otherwise\n",
    "NOTE: A palindrome is a string that reads the same forward and backward (eg. \"albla\", \"adrieirda\" are palindromes)\n",
    "\n",
    "\n",
    "**Exercise 3**\n",
    "\n",
    ">Write a function that takes an arbitrary number of integer arguments and return the sum of these integers\n",
    "\n",
    "\n",
    "**Exercise 4**\n",
    "\n",
    ">Write a function that takes in a float argument called radius and returns a float value which is the area of the associated circle.\n",
    "\n",
    "Hint: for the irrationnal number pi you can either:\n",
    "\n",
    "i) import math\n",
    "math.pi\n",
    "\n",
    "ii) import numpy\n",
    "numpy.pi\n",
    "\n",
    "iii) simply use 3.14 as a rough approximation\n",
    "\n",
    "\n",
    "**Exercise 5**\n",
    "\n",
    ">Same as exercise 4, but return both the area and the perimeter of the circle. I want you to return a **tuple** of 2 values.\n",
    "\n",
    "\n",
    "**Exercise 6**\n",
    "\n",
    ">i) Write a function that takes in a float argument x and return a float value x^2 (x squared)\n",
    "\n",
    ">ii) Write a function df which takes in a float argument x and an optional parameter that accepts functions (kwarg with default value None) and return the derivative of your function f (from (i)) evaluated at x\n",
    "          - do this with an explicit formula\n",
    "          - if the optional parameter is passed in, let's call it f, do this using the variation (f(x + h) - f(x)) / h for small h\n",
    "\n",
    ">iii) use the area function from exercise 4, as an optional parameter and return the perimeter of the circle using df\n",
    "\n",
    "\n",
    "**Exercise 7**\n",
    "\n",
    ">Write a function that takes a matrix (a list of lists) as a parameter and returns its transpose (M -> M^T).\n",
    "Test using [[1, 2, 3], [4, 5, 6], [7, 8, 9]]\n",
    "\n",
    "\n",
    "**Exercise 8**\n",
    "\n",
    ">Write a function that takes two matrices (2 lists of lists) as parameters and returns the addition of the two matrices\n",
    "Test using [[1, 2, 3], [4, 5, 6], [7, 8, 9]] by adding it with itself\n",
    "\n",
    "\n",
    "**Exercise 9**\n",
    "\n",
    ">Write a one liner \"lambda\" function that takes a parameter x and return x^2\n",
    "Test it with the parameter 3\n",
    "\n",
    "\n",
    "**Exercise 10**\n",
    "\n",
    ">Write a one liner \"lambda\" function that takes two parameters x and y and return x^2 + y^2\n",
    "Test it with the parameter 1, 2\n",
    "\n",
    "\n",
    "**Exercise 11**\n",
    "\n",
    ">Write a function that takes a positive integer as parameter and returns True if that integer is a prime number, False otherwise."
   ]
  },
  {
   "cell_type": "markdown",
   "metadata": {},
   "source": [
    "## <a>Recursion</a>\n"
   ]
  },
  {
   "cell_type": "markdown",
   "metadata": {},
   "source": [
    "### Introduction to Recursion\n",
    "\n",
    "Recursion occurs when a function calls itself to solve a smaller instance of the same problem. It is a powerful technique often used in algorithmic problem-solving, especially when a problem can be divided into similar subproblems.\n",
    "\n",
    "### Key Concepts\n",
    "\n",
    "- **Base Case**: The condition under which the recursive function stops calling itself. This prevents infinite recursion.\n",
    "- **Recursive Case**: The part of the function that includes the function calling itself to solve a smaller instance of the problem.\n",
    "\n",
    "### Example: Factorial Function\n",
    "\n",
    "The factorial of a number `n` is the product of all positive integers less than or equal to `n`. The factorial function can be defined recursively:\n",
    "\n",
    "- **Base Case**: `factorial(0) = 1`\n",
    "- **Recursive Case**: `factorial(n) = n * factorial(n-1)`\n",
    "\n",
    "Here’s how you can implement it in Python:"
   ]
  },
  {
   "cell_type": "code",
   "execution_count": null,
   "metadata": {},
   "outputs": [
    {
     "name": "stdout",
     "output_type": "stream",
     "text": [
      "120\n"
     ]
    }
   ],
   "source": [
    "def factorial(n):\n",
    "    \"\"\"\n",
    "    This function returns the factorial of a given number using recursion.\n",
    "    \"\"\"\n",
    "    if n == 0:\n",
    "        return 1  # Base case\n",
    "    else:\n",
    "        return n * factorial(n - 1)  # Recursive case\n",
    "\n",
    "result = factorial(5)\n",
    "print(result)  # Output: 120\n"
   ]
  },
  {
   "cell_type": "markdown",
   "metadata": {},
   "source": [
    "### Visualizing Recursion\n",
    "\n",
    "Let's visualize how `factorial(5)` is computed:\n",
    "\n",
    "- `factorial(5)` calls `factorial(4)`\n",
    "- `factorial(4)` calls `factorial(3)`\n",
    "- `factorial(3)` calls `factorial(2)`\n",
    "- `factorial(2)` calls `factorial(1)`\n",
    "- `factorial(1)` calls `factorial(0)`\n",
    "- `factorial(0)` returns `1`\n",
    "\n",
    "Now, the stack of recursive calls starts to unwind:\n",
    "\n",
    "- `factorial(1)` returns `1 * 1 = 1`\n",
    "- `factorial(2)` returns `2 * 1 = 2`\n",
    "- `factorial(3)` returns `3 * 2 = 6`\n",
    "- `factorial(4)` returns `4 * 6 = 24`\n",
    "- `factorial(5)` returns `5 * 24 = 120`\n"
   ]
  },
  {
   "cell_type": "markdown",
   "metadata": {},
   "source": [
    "\n",
    "**Exercises**\n",
    "    \n",
    ">Implement fibonacci with recursive and iterative modes. Which one is the best in term of time and space complexity?\n",
    "\n",
    ">Implement it using cache (functools.cache) \n",
    "\n",
    ">Implement it using indirect cache (lists or dictionary since they are mutable)"
   ]
  }
 ],
 "metadata": {
  "kernelspec": {
   "display_name": "Python 3 (ipykernel)",
   "language": "python",
   "name": "python3"
  },
  "language_info": {
   "codemirror_mode": {
    "name": "ipython",
    "version": 3
   },
   "file_extension": ".py",
   "mimetype": "text/x-python",
   "name": "python",
   "nbconvert_exporter": "python",
   "pygments_lexer": "ipython3",
   "version": "3.10.9"
  }
 },
 "nbformat": 4,
 "nbformat_minor": 4
}
