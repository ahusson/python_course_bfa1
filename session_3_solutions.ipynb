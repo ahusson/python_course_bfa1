{
 "cells": [
  {
   "cell_type": "markdown",
   "metadata": {},
   "source": [
    "## Introduction to NumPy"
   ]
  },
  {
   "cell_type": "code",
   "execution_count": 2,
   "metadata": {},
   "outputs": [],
   "source": [
    "import numpy as np"
   ]
  },
  {
   "cell_type": "code",
   "execution_count": 4,
   "metadata": {},
   "outputs": [
    {
     "name": "stdout",
     "output_type": "stream",
     "text": [
      "[0 2 4 6 8]\n"
     ]
    }
   ],
   "source": [
    "## Exercice 1\n",
    "l = np.array([0, 1, 2, 3, 4, 5, 6, 7, 8, 9])\n",
    "even_numbers = l[l % 2 == 0]\n",
    "print(even_numbers)"
   ]
  },
  {
   "cell_type": "code",
   "execution_count": 6,
   "metadata": {},
   "outputs": [
    {
     "data": {
      "text/plain": [
       "array([[0, 1, 2, 3, 4],\n",
       "       [5, 6, 7, 8, 9]])"
      ]
     },
     "execution_count": 6,
     "metadata": {},
     "output_type": "execute_result"
    }
   ],
   "source": [
    "## Exercice 2\n",
    "new_matrix = np.reshape(l, (2,5))\n",
    "new_matrix"
   ]
  },
  {
   "cell_type": "code",
   "execution_count": 8,
   "metadata": {},
   "outputs": [
    {
     "name": "stdout",
     "output_type": "stream",
     "text": [
      "[0.3783072  0.23051039 0.60665597 0.19458561 0.97070101 0.57832775\n",
      " 0.59500914 0.79580744 0.86617634 0.82238561 0.20740527 0.2672606\n",
      " 0.05670303 0.00788066 0.25882373 0.63332919 0.64091584 0.34586257\n",
      " 0.93586375 0.18717971 0.01287252 0.23916766 0.10181059 0.48643352\n",
      " 0.36553129 0.36258876 0.19121426 0.91082593 0.05563569 0.67575531\n",
      " 0.21651642 0.14276252 0.99000389 0.90508481 0.83573281 0.06250072\n",
      " 0.86669643 0.20770813 0.13769615 0.78310501 0.63040457 0.88857465\n",
      " 0.26876399 0.57814655 0.62792783 0.6703138  0.06334464 0.45246689\n",
      " 0.3336043  0.95265934 0.81754556 0.95178583 0.82569247 0.57928331\n",
      " 0.23714551 0.85278289 0.35049578 0.5405708  0.76663618 0.73717722\n",
      " 0.65182982 0.78759425 0.7585401  0.28776117 0.92533357 0.67232218\n",
      " 0.74800535 0.77460921 0.20746114 0.38949196 0.79284686 0.80278985\n",
      " 0.0649596  0.89678526 0.96706759 0.07099262 0.91399231 0.98274924\n",
      " 0.47554318 0.28953252 0.59404386 0.1757025  0.57004177 0.5383265\n",
      " 0.69102625 0.01032864 0.71688423 0.27687965 0.70706928 0.76494903\n",
      " 0.10915736 0.61799952 0.57396817 0.76050216 0.02417593 0.45482841\n",
      " 0.385385   0.47875338 0.13424765 0.0336985 ]\n",
      "[ 8.33308722e-02 -2.03097237e+00  5.10396807e-01 -1.18414707e+00\n",
      "  9.02270240e-01  1.57647867e+00 -2.37895456e+00 -1.18708906e+00\n",
      "  1.67107195e-01  3.10569062e-01 -7.07725249e-01  5.72278241e-01\n",
      "  3.38548147e-01 -8.44106405e-03 -5.68679059e-01  2.08076601e-01\n",
      "  2.77610587e-01 -2.38101108e-01 -1.20475039e-01 -1.42665918e+00\n",
      " -1.82150112e+00  3.24377114e-01 -5.42161911e-01 -3.54350916e-01\n",
      " -5.84241743e-01  3.65421730e-01 -1.40901238e+00 -1.07091490e+00\n",
      "  1.32794349e+00  9.46897732e-02  3.72715394e-01  7.78332766e-01\n",
      "  9.76580310e-01 -1.66993185e-02  6.22910567e-01  5.42484153e-01\n",
      "  6.91260161e-03  3.67583871e+00 -7.09538073e-01 -9.51577200e-01\n",
      "  4.39086697e-02  7.50228265e-01 -1.72560156e+00 -6.56447646e-01\n",
      "  1.38491691e+00 -1.10928230e-01  1.27441663e+00 -1.11213773e-01\n",
      "  5.50561524e-01 -5.66466216e-01  1.49438421e+00  1.21297207e+00\n",
      "  1.73397003e+00 -6.55355788e-01  4.06638170e-01 -8.38477596e-01\n",
      "  4.98566393e-01 -1.78341791e-01  9.92105242e-01  1.16464014e+00\n",
      "  3.22303151e-01 -1.88202797e+00  1.81786514e+00  1.06404894e+00\n",
      "  2.79761565e+00  4.89249319e-01  5.84984853e-01  7.77674108e-01\n",
      "  5.81060829e-01  1.12120231e+00  6.91622817e-01  6.75566235e-01\n",
      "  2.77186759e-01  5.24046010e-01  1.45632837e+00  1.51768673e+00\n",
      "  6.91382291e-01 -5.79430395e-01 -1.38692861e+00  6.00602700e-01\n",
      "  2.03643045e+00  1.10996961e+00  1.75234901e-03 -8.13277541e-02\n",
      " -1.26304115e+00  4.77332276e-02  7.34180198e-01 -4.09891932e-02\n",
      "  1.55289692e+00 -1.63508373e+00 -1.11432341e-01  8.23616658e-01\n",
      "  4.97467976e-01  3.97313344e-01  7.90375537e-01 -1.71040291e+00\n",
      "  2.19410174e+00  9.93537399e-01  1.46365591e+00  2.29143744e-02]\n"
     ]
    }
   ],
   "source": [
    "## Exercice 3\n",
    "u = np.random.uniform(0,1,100)\n",
    "print(u)\n",
    "n = np.random.normal(0, 1, 100)\n",
    "print(n)"
   ]
  },
  {
   "cell_type": "code",
   "execution_count": 9,
   "metadata": {},
   "outputs": [
    {
     "data": {
      "text/plain": [
       "array([[1, 4, 7],\n",
       "       [2, 5, 8],\n",
       "       [3, 6, 9]])"
      ]
     },
     "execution_count": 9,
     "metadata": {},
     "output_type": "execute_result"
    }
   ],
   "source": [
    "## Exercice 4\n",
    "M = np.array([[1,2,3], [4,5,6], [7,8,9]])\n",
    "M.transpose()"
   ]
  },
  {
   "cell_type": "code",
   "execution_count": 10,
   "metadata": {},
   "outputs": [
    {
     "data": {
      "text/plain": [
       "array([[1., 2., 3.],\n",
       "       [4., 5., 6.],\n",
       "       [7., 8., 9.]])"
      ]
     },
     "execution_count": 10,
     "metadata": {},
     "output_type": "execute_result"
    }
   ],
   "source": [
    "## Exercice 5\n",
    "\n",
    "M = np.array([[1,2,3], [4,5,6], [7,8,9]])\n",
    "eigenvalues, eigenvectors = np.linalg.eig(M)\n",
    "\n",
    "D = np.diag(eigenvalues)\n",
    "P = eigenvectors\n",
    "P_inv = np.linalg.inv(P)\n",
    "\n",
    "M_reconstructed = P @ D @ P_inv\n",
    "M_reconstructed"
   ]
  },
  {
   "cell_type": "code",
   "execution_count": 3,
   "metadata": {},
   "outputs": [
    {
     "data": {
      "text/plain": [
       "[<matplotlib.lines.Line2D at 0x26048a58b20>]"
      ]
     },
     "execution_count": 3,
     "metadata": {},
     "output_type": "execute_result"
    },
    {
     "data": {
      "image/png": "[encoded data removed]",
      "text/plain": [
       "<Figure size 640x480 with 1 Axes>"
      ]
     },
     "metadata": {},
     "output_type": "display_data"
    }
   ],
   "source": [
    "## Exercice 6\n",
    "import numpy as np\n",
    "from matplotlib import pyplot as plt\n",
    "\n",
    "X = np.genfromtxt(\"linreg_data.csv\", delimiter=\",\", dtype=np.float64)\n",
    "A = np.stack(\n",
    "    [\n",
    "        np.ones(X.shape[0]),\n",
    "        X[:,0]\n",
    "    ],\n",
    "    axis=1\n",
    ")\n",
    "beta = np.linalg.inv(A.T @ A) @ A.T @ X[:,1]\n",
    "\n",
    "x_domain = np.arange(X[:,0].min(), X[:,0].max(), 1 / X.shape[0])\n",
    "f = lambda x: beta.dot([1, x])\n",
    "\n",
    "plt.figure(0)\n",
    "plt.scatter(X[:,0], X[:,1], color=\"blue\")\n",
    "plt.plot(x_domain, np.vectorize(f)(x_domain), color=\"red\")"
   ]
  },
  {
   "cell_type": "code",
   "execution_count": 34,
   "metadata": {},
   "outputs": [
    {
     "data": {
      "text/plain": [
       "8.291747983994327"
      ]
     },
     "execution_count": 34,
     "metadata": {},
     "output_type": "execute_result"
    }
   ],
   "source": [
    "## Exercise 7\n",
    "\n",
    "import numpy as np\n",
    "\n",
    "S_0 = 100       \n",
    "K = 105\n",
    "T = 1\n",
    "r = 0.05\n",
    "sigma = 0.2\n",
    "N = 10000\n",
    "num_steps = 252\n",
    "\n",
    "dt = T / num_steps\n",
    "\n",
    "S_paths = np.zeros((N, num_steps + 1))\n",
    "S_paths[:, 0] = S_0\n",
    "\n",
    "for t in range(1, num_steps + 1):\n",
    "    Z = np.random.standard_normal(N)\n",
    "    S_paths[:, t] = S_paths[:, t - 1] * np.exp((r - 0.5 * sigma**2) * dt + sigma * np.sqrt(dt) * Z)\n",
    "\n",
    "C = np.exp(-r * T) * np.maximum(S_paths[:, -1] - K, 0).mean()\n",
    "C"
   ]
  },
  {
   "cell_type": "markdown",
   "metadata": {},
   "source": [
    "## Introduction to Polars"
   ]
  },
  {
   "cell_type": "code",
   "execution_count": 4,
   "metadata": {},
   "outputs": [
    {
     "name": "stdout",
     "output_type": "stream",
     "text": [
      "Collecting polars\n",
      "  Downloading polars-1.8.2-cp38-abi3-macosx_11_0_arm64.whl.metadata (14 kB)\n",
      "Downloading polars-1.8.2-cp38-abi3-macosx_11_0_arm64.whl (27.5 MB)\n",
      "\u001b[2K   \u001b[90m━━━━━━━━━━━━━━━━━━━━━━━━━━━━━━━━━━━━━━━━\u001b[0m \u001b[32m27.5/27.5 MB\u001b[0m \u001b[31m54.3 MB/s\u001b[0m eta \u001b[36m0:00:00\u001b[0m00:01\u001b[0m00:01\u001b[0m\n",
      "\u001b[?25hInstalling collected packages: polars\n",
      "Successfully installed polars-1.8.2\n",
      "\n",
      "\u001b[1m[\u001b[0m\u001b[34;49mnotice\u001b[0m\u001b[1;39;49m]\u001b[0m\u001b[39;49m A new release of pip is available: \u001b[0m\u001b[31;49m23.3.1\u001b[0m\u001b[39;49m -> \u001b[0m\u001b[32;49m24.2\u001b[0m\n",
      "\u001b[1m[\u001b[0m\u001b[34;49mnotice\u001b[0m\u001b[1;39;49m]\u001b[0m\u001b[39;49m To update, run: \u001b[0m\u001b[32;49mpython3.10 -m pip install --upgrade pip\u001b[0m\n",
      "Note: you may need to restart the kernel to use updated packages.\n"
     ]
    }
   ],
   "source": [
    "pip install polars"
   ]
  },
  {
   "cell_type": "code",
   "execution_count": 9,
   "metadata": {},
   "outputs": [
    {
     "name": "stdout",
     "output_type": "stream",
     "text": [
      "shape: (3, 3)\n",
      "┌─────────┬─────┬────────┐\n",
      "│ Name    ┆ Age ┆ Salary │\n",
      "│ ---     ┆ --- ┆ ---    │\n",
      "│ str     ┆ i64 ┆ i64    │\n",
      "╞═════════╪═════╪════════╡\n",
      "│ Alice   ┆ 25  ┆ 50000  │\n",
      "│ Bob     ┆ 30  ┆ 60000  │\n",
      "│ Charlie ┆ 35  ┆ 70000  │\n",
      "└─────────┴─────┴────────┘\n",
      "--------------------\n",
      "shape: (1, 3)\n",
      "┌──────┬─────┬────────┐\n",
      "│ Name ┆ Age ┆ Salary │\n",
      "│ ---  ┆ --- ┆ ---    │\n",
      "│ str  ┆ i64 ┆ i64    │\n",
      "╞══════╪═════╪════════╡\n",
      "│ Bob  ┆ 30  ┆ 60000  │\n",
      "└──────┴─────┴────────┘\n",
      "--------------------\n",
      "('Bob', 30, 60000)\n",
      "--------------------\n",
      "shape: (1,)\n",
      "Series: 'Name' [str]\n",
      "[\n",
      "\t\"Bob\"\n",
      "]\n"
     ]
    }
   ],
   "source": [
    "import polars as pl\n",
    "\n",
    "# Creating a Pandas DataFrame\n",
    "data = {\n",
    "    'Name': ['Alice', 'Bob', 'Charlie'],\n",
    "    'Age': [25, 30, 35],\n",
    "    'Salary': [50000, 60000, 70000]\n",
    "}\n",
    "\n",
    "df = pl.DataFrame(data)\n",
    "\n",
    "# Reaching elements in a dataframe\n",
    "print(df)\n",
    "print(\"--------------------\")\n",
    "print(df[1])\n",
    "print(\"--------------------\")\n",
    "print(df.row(1))\n",
    "print(\"--------------------\")\n",
    "print(df[1][\"Name\"])\n"
   ]
  },
  {
   "cell_type": "code",
   "execution_count": 32,
   "metadata": {},
   "outputs": [
    {
     "data": {
      "text/html": [
       "<div><style>\n",
       ".dataframe > thead > tr,\n",
       ".dataframe > tbody > tr {\n",
       "  text-align: right;\n",
       "  white-space: pre-wrap;\n",
       "}\n",
       "</style>\n",
       "<small>shape: (5, 7)</small><table border=\"1\" class=\"dataframe\"><thead><tr><th>date</th><th>open</th><th>high</th><th>low</th><th>close</th><th>volume</th><th>Name</th></tr><tr><td>str</td><td>f64</td><td>f64</td><td>f64</td><td>f64</td><td>i64</td><td>str</td></tr></thead><tbody><tr><td>&quot;2013-02-08&quot;</td><td>15.07</td><td>15.12</td><td>14.63</td><td>14.75</td><td>8407500</td><td>&quot;AAL&quot;</td></tr><tr><td>&quot;2013-02-11&quot;</td><td>14.89</td><td>15.01</td><td>14.26</td><td>14.46</td><td>8882000</td><td>&quot;AAL&quot;</td></tr><tr><td>&quot;2013-02-12&quot;</td><td>14.45</td><td>14.51</td><td>14.1</td><td>14.27</td><td>8126000</td><td>&quot;AAL&quot;</td></tr><tr><td>&quot;2013-02-13&quot;</td><td>14.3</td><td>14.94</td><td>14.25</td><td>14.66</td><td>10259500</td><td>&quot;AAL&quot;</td></tr><tr><td>&quot;2013-02-14&quot;</td><td>14.94</td><td>14.96</td><td>13.16</td><td>13.99</td><td>31879900</td><td>&quot;AAL&quot;</td></tr></tbody></table></div>"
      ],
      "text/plain": [
       "shape: (5, 7)\n",
       "┌────────────┬───────┬───────┬───────┬───────┬──────────┬──────┐\n",
       "│ date       ┆ open  ┆ high  ┆ low   ┆ close ┆ volume   ┆ Name │\n",
       "│ ---        ┆ ---   ┆ ---   ┆ ---   ┆ ---   ┆ ---      ┆ ---  │\n",
       "│ str        ┆ f64   ┆ f64   ┆ f64   ┆ f64   ┆ i64      ┆ str  │\n",
       "╞════════════╪═══════╪═══════╪═══════╪═══════╪══════════╪══════╡\n",
       "│ 2013-02-08 ┆ 15.07 ┆ 15.12 ┆ 14.63 ┆ 14.75 ┆ 8407500  ┆ AAL  │\n",
       "│ 2013-02-11 ┆ 14.89 ┆ 15.01 ┆ 14.26 ┆ 14.46 ┆ 8882000  ┆ AAL  │\n",
       "│ 2013-02-12 ┆ 14.45 ┆ 14.51 ┆ 14.1  ┆ 14.27 ┆ 8126000  ┆ AAL  │\n",
       "│ 2013-02-13 ┆ 14.3  ┆ 14.94 ┆ 14.25 ┆ 14.66 ┆ 10259500 ┆ AAL  │\n",
       "│ 2013-02-14 ┆ 14.94 ┆ 14.96 ┆ 13.16 ┆ 13.99 ┆ 31879900 ┆ AAL  │\n",
       "└────────────┴───────┴───────┴───────┴───────┴──────────┴──────┘"
      ]
     },
     "metadata": {},
     "output_type": "display_data"
    },
    {
     "data": {
      "text/html": [
       "<div><style>\n",
       ".dataframe > thead > tr,\n",
       ".dataframe > tbody > tr {\n",
       "  text-align: right;\n",
       "  white-space: pre-wrap;\n",
       "}\n",
       "</style>\n",
       "<small>shape: (3, 7)</small><table border=\"1\" class=\"dataframe\"><thead><tr><th>date</th><th>open</th><th>high</th><th>low</th><th>close</th><th>volume</th><th>Name</th></tr><tr><td>str</td><td>f64</td><td>f64</td><td>f64</td><td>f64</td><td>i64</td><td>str</td></tr></thead><tbody><tr><td>&quot;2018-02-05&quot;</td><td>76.64</td><td>76.92</td><td>73.18</td><td>73.83</td><td>2962031</td><td>&quot;ZTS&quot;</td></tr><tr><td>&quot;2018-02-06&quot;</td><td>72.74</td><td>74.56</td><td>72.13</td><td>73.27</td><td>4924323</td><td>&quot;ZTS&quot;</td></tr><tr><td>&quot;2018-02-07&quot;</td><td>72.7</td><td>75.0</td><td>72.69</td><td>73.86</td><td>4534912</td><td>&quot;ZTS&quot;</td></tr></tbody></table></div>"
      ],
      "text/plain": [
       "shape: (3, 7)\n",
       "┌────────────┬───────┬───────┬───────┬───────┬─────────┬──────┐\n",
       "│ date       ┆ open  ┆ high  ┆ low   ┆ close ┆ volume  ┆ Name │\n",
       "│ ---        ┆ ---   ┆ ---   ┆ ---   ┆ ---   ┆ ---     ┆ ---  │\n",
       "│ str        ┆ f64   ┆ f64   ┆ f64   ┆ f64   ┆ i64     ┆ str  │\n",
       "╞════════════╪═══════╪═══════╪═══════╪═══════╪═════════╪══════╡\n",
       "│ 2018-02-05 ┆ 76.64 ┆ 76.92 ┆ 73.18 ┆ 73.83 ┆ 2962031 ┆ ZTS  │\n",
       "│ 2018-02-06 ┆ 72.74 ┆ 74.56 ┆ 72.13 ┆ 73.27 ┆ 4924323 ┆ ZTS  │\n",
       "│ 2018-02-07 ┆ 72.7  ┆ 75.0  ┆ 72.69 ┆ 73.86 ┆ 4534912 ┆ ZTS  │\n",
       "└────────────┴───────┴───────┴───────┴───────┴─────────┴──────┘"
      ]
     },
     "metadata": {},
     "output_type": "display_data"
    },
    {
     "name": "stdout",
     "output_type": "stream",
     "text": [
      "[String, Float64, Float64, Float64, Float64, Int64, String]\n",
      "##########################################################\n",
      "The number of (rows, columns) in our dataframe: (619040, 7)\n",
      "The number of non null elements in every column: shape: (1, 7)\n",
      "┌────────┬────────┬────────┬────────┬────────┬────────┬────────┐\n",
      "│ date   ┆ open   ┆ high   ┆ low    ┆ close  ┆ volume ┆ Name   │\n",
      "│ ---    ┆ ---    ┆ ---    ┆ ---    ┆ ---    ┆ ---    ┆ ---    │\n",
      "│ u32    ┆ u32    ┆ u32    ┆ u32    ┆ u32    ┆ u32    ┆ u32    │\n",
      "╞════════╪════════╪════════╪════════╪════════╪════════╪════════╡\n",
      "│ 619040 ┆ 619029 ┆ 619032 ┆ 619032 ┆ 619040 ┆ 619040 ┆ 619040 │\n",
      "└────────┴────────┴────────┴────────┴────────┴────────┴────────┘\n",
      "##########################################################\n"
     ]
    },
    {
     "data": {
      "text/html": [
       "<div><style>\n",
       ".dataframe > thead > tr,\n",
       ".dataframe > tbody > tr {\n",
       "  text-align: right;\n",
       "  white-space: pre-wrap;\n",
       "}\n",
       "</style>\n",
       "<small>shape: (9, 8)</small><table border=\"1\" class=\"dataframe\"><thead><tr><th>statistic</th><th>date</th><th>open</th><th>high</th><th>low</th><th>close</th><th>volume</th><th>Name</th></tr><tr><td>str</td><td>str</td><td>f64</td><td>f64</td><td>f64</td><td>f64</td><td>f64</td><td>str</td></tr></thead><tbody><tr><td>&quot;count&quot;</td><td>&quot;619040&quot;</td><td>619029.0</td><td>619032.0</td><td>619032.0</td><td>619040.0</td><td>619040.0</td><td>&quot;619040&quot;</td></tr><tr><td>&quot;null_count&quot;</td><td>&quot;0&quot;</td><td>11.0</td><td>8.0</td><td>8.0</td><td>0.0</td><td>0.0</td><td>&quot;0&quot;</td></tr><tr><td>&quot;mean&quot;</td><td>null</td><td>83.023334</td><td>83.778311</td><td>82.256096</td><td>83.043763</td><td>4.3218e6</td><td>null</td></tr><tr><td>&quot;std&quot;</td><td>null</td><td>97.378769</td><td>98.207519</td><td>96.507421</td><td>97.389748</td><td>8.6936e6</td><td>null</td></tr><tr><td>&quot;min&quot;</td><td>&quot;2013-02-08&quot;</td><td>1.62</td><td>1.69</td><td>1.5</td><td>1.59</td><td>0.0</td><td>&quot;A&quot;</td></tr><tr><td>&quot;25%&quot;</td><td>null</td><td>40.22</td><td>40.62</td><td>39.83</td><td>40.245</td><td>1.070325e6</td><td>null</td></tr><tr><td>&quot;50%&quot;</td><td>null</td><td>62.59</td><td>63.15</td><td>62.02</td><td>62.62</td><td>2.082097e6</td><td>null</td></tr><tr><td>&quot;75%&quot;</td><td>null</td><td>94.37</td><td>95.18</td><td>93.54</td><td>94.41</td><td>4.284507e6</td><td>null</td></tr><tr><td>&quot;max&quot;</td><td>&quot;2018-02-07&quot;</td><td>2044.0</td><td>2067.99</td><td>2035.11</td><td>2049.0</td><td>6.1823763e8</td><td>&quot;ZTS&quot;</td></tr></tbody></table></div>"
      ],
      "text/plain": [
       "shape: (9, 8)\n",
       "┌────────────┬────────────┬───────────┬───────────┬───────────┬───────────┬─────────────┬────────┐\n",
       "│ statistic  ┆ date       ┆ open      ┆ high      ┆ low       ┆ close     ┆ volume      ┆ Name   │\n",
       "│ ---        ┆ ---        ┆ ---       ┆ ---       ┆ ---       ┆ ---       ┆ ---         ┆ ---    │\n",
       "│ str        ┆ str        ┆ f64       ┆ f64       ┆ f64       ┆ f64       ┆ f64         ┆ str    │\n",
       "╞════════════╪════════════╪═══════════╪═══════════╪═══════════╪═══════════╪═════════════╪════════╡\n",
       "│ count      ┆ 619040     ┆ 619029.0  ┆ 619032.0  ┆ 619032.0  ┆ 619040.0  ┆ 619040.0    ┆ 619040 │\n",
       "│ null_count ┆ 0          ┆ 11.0      ┆ 8.0       ┆ 8.0       ┆ 0.0       ┆ 0.0         ┆ 0      │\n",
       "│ mean       ┆ null       ┆ 83.023334 ┆ 83.778311 ┆ 82.256096 ┆ 83.043763 ┆ 4.3218e6    ┆ null   │\n",
       "│ std        ┆ null       ┆ 97.378769 ┆ 98.207519 ┆ 96.507421 ┆ 97.389748 ┆ 8.6936e6    ┆ null   │\n",
       "│ min        ┆ 2013-02-08 ┆ 1.62      ┆ 1.69      ┆ 1.5       ┆ 1.59      ┆ 0.0         ┆ A      │\n",
       "│ 25%        ┆ null       ┆ 40.22     ┆ 40.62     ┆ 39.83     ┆ 40.245    ┆ 1.070325e6  ┆ null   │\n",
       "│ 50%        ┆ null       ┆ 62.59     ┆ 63.15     ┆ 62.02     ┆ 62.62     ┆ 2.082097e6  ┆ null   │\n",
       "│ 75%        ┆ null       ┆ 94.37     ┆ 95.18     ┆ 93.54     ┆ 94.41     ┆ 4.284507e6  ┆ null   │\n",
       "│ max        ┆ 2018-02-07 ┆ 2044.0    ┆ 2067.99   ┆ 2035.11   ┆ 2049.0    ┆ 6.1823763e8 ┆ ZTS    │\n",
       "└────────────┴────────────┴───────────┴───────────┴───────────┴───────────┴─────────────┴────────┘"
      ]
     },
     "metadata": {},
     "output_type": "display_data"
    },
    {
     "name": "stdout",
     "output_type": "stream",
     "text": [
      "The first date in the data: 2013-02-08\n",
      "The last date in the data: 2018-02-07\n",
      "The different stocks' names: shape: (505,)\n",
      "Series: 'Name' [str]\n",
      "[\n",
      "\t\"PG\"\n",
      "\t\"NAVI\"\n",
      "\t\"SWK\"\n",
      "\t\"ANDV\"\n",
      "\t\"WFC\"\n",
      "\t…\n",
      "\t\"HSY\"\n",
      "\t\"CSX\"\n",
      "\t\"SBUX\"\n",
      "\t\"ADP\"\n",
      "\t\"FAST\"\n",
      "]\n",
      "The number of different stocks: 505\n",
      "##########################################################\n",
      "The number of null values in the column date: 0\n",
      "The number of null values in the column open: 11\n",
      "The number of null values in the column high: 8\n",
      "The number of null values in the column low: 8\n",
      "The number of null values in the column close: 0\n",
      "The number of null values in the column volume: 0\n",
      "The number of null values in the column Name: 0\n"
     ]
    },
    {
     "data": {
      "text/html": [
       "<div><style>\n",
       ".dataframe > thead > tr,\n",
       ".dataframe > tbody > tr {\n",
       "  text-align: right;\n",
       "  white-space: pre-wrap;\n",
       "}\n",
       "</style>\n",
       "<small>shape: (11, 7)</small><table border=\"1\" class=\"dataframe\"><thead><tr><th>date</th><th>open</th><th>high</th><th>low</th><th>close</th><th>volume</th><th>Name</th></tr><tr><td>str</td><td>f64</td><td>f64</td><td>f64</td><td>f64</td><td>i64</td><td>str</td></tr></thead><tbody><tr><td>&quot;2017-07-26&quot;</td><td>null</td><td>null</td><td>null</td><td>69.0842</td><td>3</td><td>&quot;BHF&quot;</td></tr><tr><td>&quot;2015-07-17&quot;</td><td>null</td><td>88.76</td><td>88.24</td><td>88.72</td><td>2056819</td><td>&quot;DHR&quot;</td></tr><tr><td>&quot;2016-01-12&quot;</td><td>null</td><td>null</td><td>null</td><td>88.55</td><td>0</td><td>&quot;DHR&quot;</td></tr><tr><td>&quot;2015-07-17&quot;</td><td>null</td><td>48.49</td><td>47.85</td><td>47.92</td><td>1246786</td><td>&quot;ES&quot;</td></tr><tr><td>&quot;2016-07-01&quot;</td><td>null</td><td>null</td><td>null</td><td>49.54</td><td>0</td><td>&quot;FTV&quot;</td></tr><tr><td>&hellip;</td><td>&hellip;</td><td>&hellip;</td><td>&hellip;</td><td>&hellip;</td><td>&hellip;</td><td>&hellip;</td></tr><tr><td>&quot;2016-01-12&quot;</td><td>null</td><td>null</td><td>null</td><td>52.43</td><td>0</td><td>&quot;O&quot;</td></tr><tr><td>&quot;2015-06-09&quot;</td><td>null</td><td>null</td><td>null</td><td>526.09</td><td>12135</td><td>&quot;REGN&quot;</td></tr><tr><td>&quot;2016-04-07&quot;</td><td>null</td><td>null</td><td>null</td><td>41.56</td><td>0</td><td>&quot;UA&quot;</td></tr><tr><td>&quot;2015-05-12&quot;</td><td>null</td><td>null</td><td>null</td><td>124.08</td><td>569747</td><td>&quot;VRTX&quot;</td></tr><tr><td>&quot;2015-06-26&quot;</td><td>null</td><td>null</td><td>null</td><td>61.9</td><td>100</td><td>&quot;WRK&quot;</td></tr></tbody></table></div>"
      ],
      "text/plain": [
       "shape: (11, 7)\n",
       "┌────────────┬──────┬───────┬───────┬─────────┬─────────┬──────┐\n",
       "│ date       ┆ open ┆ high  ┆ low   ┆ close   ┆ volume  ┆ Name │\n",
       "│ ---        ┆ ---  ┆ ---   ┆ ---   ┆ ---     ┆ ---     ┆ ---  │\n",
       "│ str        ┆ f64  ┆ f64   ┆ f64   ┆ f64     ┆ i64     ┆ str  │\n",
       "╞════════════╪══════╪═══════╪═══════╪═════════╪═════════╪══════╡\n",
       "│ 2017-07-26 ┆ null ┆ null  ┆ null  ┆ 69.0842 ┆ 3       ┆ BHF  │\n",
       "│ 2015-07-17 ┆ null ┆ 88.76 ┆ 88.24 ┆ 88.72   ┆ 2056819 ┆ DHR  │\n",
       "│ 2016-01-12 ┆ null ┆ null  ┆ null  ┆ 88.55   ┆ 0       ┆ DHR  │\n",
       "│ 2015-07-17 ┆ null ┆ 48.49 ┆ 47.85 ┆ 47.92   ┆ 1246786 ┆ ES   │\n",
       "│ 2016-07-01 ┆ null ┆ null  ┆ null  ┆ 49.54   ┆ 0       ┆ FTV  │\n",
       "│ …          ┆ …    ┆ …     ┆ …     ┆ …       ┆ …       ┆ …    │\n",
       "│ 2016-01-12 ┆ null ┆ null  ┆ null  ┆ 52.43   ┆ 0       ┆ O    │\n",
       "│ 2015-06-09 ┆ null ┆ null  ┆ null  ┆ 526.09  ┆ 12135   ┆ REGN │\n",
       "│ 2016-04-07 ┆ null ┆ null  ┆ null  ┆ 41.56   ┆ 0       ┆ UA   │\n",
       "│ 2015-05-12 ┆ null ┆ null  ┆ null  ┆ 124.08  ┆ 569747  ┆ VRTX │\n",
       "│ 2015-06-26 ┆ null ┆ null  ┆ null  ┆ 61.9    ┆ 100     ┆ WRK  │\n",
       "└────────────┴──────┴───────┴───────┴─────────┴─────────┴──────┘"
      ]
     },
     "metadata": {},
     "output_type": "display_data"
    }
   ],
   "source": [
    "# Reading csv file\n",
    "df_stocks = pl.read_csv(\"all_stocks_5yr.csv\")\n",
    "\n",
    "# Displaying samples of data\n",
    "display(df_stocks.head()) # displaying the first 5 rows\n",
    "display(df_stocks.tail(3)) # Displaying the last 3 rows\n",
    "print(df_stocks.dtypes)\n",
    "\n",
    "# Counting the number of rows\n",
    "print(\"##########################################################\")\n",
    "print(f\"The number of (rows, columns) in our dataframe: {df_stocks.shape}\")\n",
    "print(f\"The number of non null elements in every column: {df_stocks.count()}\")\n",
    "\n",
    "# Displaying statistical information about our data\n",
    "print(\"##########################################################\")\n",
    "display(df_stocks.describe())\n",
    "print(f\"The first date in the data: {df_stocks['date'].min()}\")\n",
    "print(f\"The last date in the data: {df_stocks['date'].max()}\")\n",
    "print(f\"The different stocks' names: {df_stocks['Name'].unique()}\")\n",
    "print(f\"The number of different stocks: {len(df_stocks['Name'].unique())}\")\n",
    "\n",
    "# Explore null values\n",
    "print(\"##########################################################\")\n",
    "for col in df_stocks.columns:\n",
    "    print(f\"The number of null values in the column {col}: {df_stocks[col].is_null().sum()}\") \n",
    "    \n",
    "display(df_stocks.filter(pl.any_horizontal(pl.all().is_null())))"
   ]
  },
  {
   "cell_type": "code",
   "execution_count": 60,
   "metadata": {},
   "outputs": [
    {
     "data": {
      "text/html": [
       "<div><style>\n",
       ".dataframe > thead > tr,\n",
       ".dataframe > tbody > tr {\n",
       "  text-align: right;\n",
       "  white-space: pre-wrap;\n",
       "}\n",
       "</style>\n",
       "<small>shape: (2, 7)</small><table border=\"1\" class=\"dataframe\"><thead><tr><th>date</th><th>open</th><th>high</th><th>low</th><th>close</th><th>volume</th><th>Name</th></tr><tr><td>datetime[μs]</td><td>f64</td><td>f64</td><td>f64</td><td>f64</td><td>i64</td><td>str</td></tr></thead><tbody><tr><td>2016-07-01 00:00:00</td><td>null</td><td>49.54</td><td>49.54</td><td>49.54</td><td>0</td><td>&quot;FTV&quot;</td></tr><tr><td>2016-04-07 00:00:00</td><td>null</td><td>41.56</td><td>41.56</td><td>41.56</td><td>0</td><td>&quot;UA&quot;</td></tr></tbody></table></div>"
      ],
      "text/plain": [
       "shape: (2, 7)\n",
       "┌─────────────────────┬──────┬───────┬───────┬───────┬────────┬──────┐\n",
       "│ date                ┆ open ┆ high  ┆ low   ┆ close ┆ volume ┆ Name │\n",
       "│ ---                 ┆ ---  ┆ ---   ┆ ---   ┆ ---   ┆ ---    ┆ ---  │\n",
       "│ datetime[μs]        ┆ f64  ┆ f64   ┆ f64   ┆ f64   ┆ i64    ┆ str  │\n",
       "╞═════════════════════╪══════╪═══════╪═══════╪═══════╪════════╪══════╡\n",
       "│ 2016-07-01 00:00:00 ┆ null ┆ 49.54 ┆ 49.54 ┆ 49.54 ┆ 0      ┆ FTV  │\n",
       "│ 2016-04-07 00:00:00 ┆ null ┆ 41.56 ┆ 41.56 ┆ 41.56 ┆ 0      ┆ UA   │\n",
       "└─────────────────────┴──────┴───────┴───────┴───────┴────────┴──────┘"
      ]
     },
     "metadata": {},
     "output_type": "display_data"
    }
   ],
   "source": [
    "\n",
    "# The date column should be of the `datetime` type.\n",
    "#df_stocks = df_stocks.with_columns(pl.col('date').str.to_datetime(\"%Y-%m-%d\"))\n",
    "\n",
    "# The analysis will be conducted from the beginning of 2014 until the end of 2017.\n",
    "df_stocks = df_stocks.filter((df_stocks[\"date\"].dt.year() <= 2017) & (df_stocks[\"date\"].dt.year() >= 2014))\n",
    "\n",
    "\n",
    "# If the open price is missing, it should be filled with the close price of the previous day.\n",
    "df_stocks = (\n",
    "    df_stocks.sort(['Name', 'date'])  \n",
    "    .with_columns(\n",
    "        pl.col(\"close\").shift(1).over(\"Name\").alias(\"close_lagged\")  # Create a lag column\n",
    "    )\n",
    ")\n",
    "df_stocks = df_stocks.with_columns(\n",
    "    pl.col(\"open\").fill_null(pl.col(\"close_lagged\")).alias(\"open\")\n",
    ").drop(pl.col(\"close_lagged\"))\n",
    "\n",
    "\n",
    "\n",
    "df_stocks = df_stocks.with_columns(pl.col(\"high\").fill_null(pl.max_horizontal(pl.col(\"close\"), pl.col(\"open\"))))\n",
    "\n",
    "df_stocks = df_stocks.with_columns(pl.col(\"low\").fill_null(pl.min_horizontal(pl.col(\"close\"), pl.col(\"open\"))))\n",
    "\n",
    "display(df_stocks.filter(pl.any_horizontal(pl.all().is_null())))"
   ]
  },
  {
   "cell_type": "code",
   "execution_count": 71,
   "metadata": {},
   "outputs": [
    {
     "data": {
      "text/html": [
       "<div><style>\n",
       ".dataframe > thead > tr,\n",
       ".dataframe > tbody > tr {\n",
       "  text-align: right;\n",
       "  white-space: pre-wrap;\n",
       "}\n",
       "</style>\n",
       "<small>shape: (23_721, 4)</small><table border=\"1\" class=\"dataframe\"><thead><tr><th>year_month</th><th>Name</th><th>close</th><th>volume</th></tr><tr><td>str</td><td>str</td><td>f64</td><td>i64</td></tr></thead><tbody><tr><td>&quot;2015-11&quot;</td><td>&quot;EXPD&quot;</td><td>49.20125</td><td>28049704</td></tr><tr><td>&quot;2017-01&quot;</td><td>&quot;RHT&quot;</td><td>73.7695</td><td>39446631</td></tr><tr><td>&quot;2014-07&quot;</td><td>&quot;GM&quot;</td><td>36.814545</td><td>305523210</td></tr><tr><td>&quot;2017-12&quot;</td><td>&quot;BHGE&quot;</td><td>31.217</td><td>107551865</td></tr><tr><td>&quot;2014-07&quot;</td><td>&quot;EQIX&quot;</td><td>212.887273</td><td>13169131</td></tr><tr><td>&hellip;</td><td>&hellip;</td><td>&hellip;</td><td>&hellip;</td></tr><tr><td>&quot;2017-07&quot;</td><td>&quot;WBA&quot;</td><td>78.7185</td><td>107617807</td></tr><tr><td>&quot;2017-04&quot;</td><td>&quot;CI&quot;</td><td>152.841579</td><td>21861744</td></tr><tr><td>&quot;2016-01&quot;</td><td>&quot;AIV&quot;</td><td>38.642105</td><td>28213329</td></tr><tr><td>&quot;2017-09&quot;</td><td>&quot;BMY&quot;</td><td>62.503</td><td>122595299</td></tr><tr><td>&quot;2016-12&quot;</td><td>&quot;FDX&quot;</td><td>194.160476</td><td>43591179</td></tr></tbody></table></div>"
      ],
      "text/plain": [
       "shape: (23_721, 4)\n",
       "┌────────────┬──────┬────────────┬───────────┐\n",
       "│ year_month ┆ Name ┆ close      ┆ volume    │\n",
       "│ ---        ┆ ---  ┆ ---        ┆ ---       │\n",
       "│ str        ┆ str  ┆ f64        ┆ i64       │\n",
       "╞════════════╪══════╪════════════╪═══════════╡\n",
       "│ 2015-11    ┆ EXPD ┆ 49.20125   ┆ 28049704  │\n",
       "│ 2017-01    ┆ RHT  ┆ 73.7695    ┆ 39446631  │\n",
       "│ 2014-07    ┆ GM   ┆ 36.814545  ┆ 305523210 │\n",
       "│ 2017-12    ┆ BHGE ┆ 31.217     ┆ 107551865 │\n",
       "│ 2014-07    ┆ EQIX ┆ 212.887273 ┆ 13169131  │\n",
       "│ …          ┆ …    ┆ …          ┆ …         │\n",
       "│ 2017-07    ┆ WBA  ┆ 78.7185    ┆ 107617807 │\n",
       "│ 2017-04    ┆ CI   ┆ 152.841579 ┆ 21861744  │\n",
       "│ 2016-01    ┆ AIV  ┆ 38.642105  ┆ 28213329  │\n",
       "│ 2017-09    ┆ BMY  ┆ 62.503     ┆ 122595299 │\n",
       "│ 2016-12    ┆ FDX  ┆ 194.160476 ┆ 43591179  │\n",
       "└────────────┴──────┴────────────┴───────────┘"
      ]
     },
     "metadata": {},
     "output_type": "display_data"
    }
   ],
   "source": [
    "## display the mean of close price by YYYY-mm for the stock AAL\n",
    "\n",
    "# create a new column containing the year and the month YYYY-mm\n",
    "df_stocks = df_stocks.with_columns(pl.concat_str([pl.col(\"date\").dt.year(), pl.col(\"date\").dt.month().cast(pl.Utf8).str.zfill(2)], separator=\"-\").alias(\"year_month\"))\n",
    "# filter on AAL stock and group by the new column with computing the average of the column close\n",
    "mean_values = df_stocks.filter(pl.col(\"Name\") == \"AAL\").group_by(\"year_month\").agg(pl.col(\"close\").mean().alias(\"mean_close\"))\n",
    "display(mean_values)\n",
    "\n",
    "mean_sum_values = df_stocks.group_by([\"year_month\", \"Name\"]).agg([pl.mean(\"close\"), pl.sum(\"volume\")])\n",
    "display(mean_sum_values)"
   ]
  },
  {
   "cell_type": "code",
   "execution_count": 73,
   "metadata": {},
   "outputs": [
    {
     "data": {
      "text/html": [
       "<div><style>\n",
       ".dataframe > thead > tr,\n",
       ".dataframe > tbody > tr {\n",
       "  text-align: right;\n",
       "  white-space: pre-wrap;\n",
       "}\n",
       "</style>\n",
       "<small>shape: (497_472, 11)</small><table border=\"1\" class=\"dataframe\"><thead><tr><th>date</th><th>open</th><th>high</th><th>low</th><th>close</th><th>volume</th><th>Name</th><th>year_month</th><th>company_name</th><th>sector</th><th>country</th></tr><tr><td>datetime[μs]</td><td>f64</td><td>f64</td><td>f64</td><td>f64</td><td>i64</td><td>str</td><td>str</td><td>str</td><td>str</td><td>str</td></tr></thead><tbody><tr><td>2014-01-02 00:00:00</td><td>57.1</td><td>57.1</td><td>56.15</td><td>56.21</td><td>1916160</td><td>&quot;A&quot;</td><td>&quot;2014-01&quot;</td><td>&quot;Agilent Technologies, Inc.&quot;</td><td>&quot;Healthcare&quot;</td><td>&quot;United States&quot;</td></tr><tr><td>2014-01-03 00:00:00</td><td>56.39</td><td>57.345</td><td>56.26</td><td>56.92</td><td>1866651</td><td>&quot;A&quot;</td><td>&quot;2014-01&quot;</td><td>&quot;Agilent Technologies, Inc.&quot;</td><td>&quot;Healthcare&quot;</td><td>&quot;United States&quot;</td></tr><tr><td>2014-01-06 00:00:00</td><td>57.4</td><td>57.7</td><td>56.56</td><td>56.64</td><td>1777472</td><td>&quot;A&quot;</td><td>&quot;2014-01&quot;</td><td>&quot;Agilent Technologies, Inc.&quot;</td><td>&quot;Healthcare&quot;</td><td>&quot;United States&quot;</td></tr><tr><td>2014-01-07 00:00:00</td><td>56.95</td><td>57.63</td><td>56.93</td><td>57.45</td><td>1463208</td><td>&quot;A&quot;</td><td>&quot;2014-01&quot;</td><td>&quot;Agilent Technologies, Inc.&quot;</td><td>&quot;Healthcare&quot;</td><td>&quot;United States&quot;</td></tr><tr><td>2014-01-08 00:00:00</td><td>57.33</td><td>58.54</td><td>57.17</td><td>58.39</td><td>2659468</td><td>&quot;A&quot;</td><td>&quot;2014-01&quot;</td><td>&quot;Agilent Technologies, Inc.&quot;</td><td>&quot;Healthcare&quot;</td><td>&quot;United States&quot;</td></tr><tr><td>&hellip;</td><td>&hellip;</td><td>&hellip;</td><td>&hellip;</td><td>&hellip;</td><td>&hellip;</td><td>&hellip;</td><td>&hellip;</td><td>&hellip;</td><td>&hellip;</td><td>&hellip;</td></tr><tr><td>2017-12-22 00:00:00</td><td>72.3</td><td>72.37</td><td>71.79</td><td>71.99</td><td>1345683</td><td>&quot;ZTS&quot;</td><td>&quot;2017-12&quot;</td><td>&quot;Zoetis Inc.&quot;</td><td>&quot;Healthcare&quot;</td><td>&quot;United States&quot;</td></tr><tr><td>2017-12-26 00:00:00</td><td>72.4</td><td>72.55</td><td>71.9</td><td>72.34</td><td>792134</td><td>&quot;ZTS&quot;</td><td>&quot;2017-12&quot;</td><td>&quot;Zoetis Inc.&quot;</td><td>&quot;Healthcare&quot;</td><td>&quot;United States&quot;</td></tr><tr><td>2017-12-27 00:00:00</td><td>72.59</td><td>72.69</td><td>72.25</td><td>72.45</td><td>1159771</td><td>&quot;ZTS&quot;</td><td>&quot;2017-12&quot;</td><td>&quot;Zoetis Inc.&quot;</td><td>&quot;Healthcare&quot;</td><td>&quot;United States&quot;</td></tr><tr><td>2017-12-28 00:00:00</td><td>72.49</td><td>72.6</td><td>72.14</td><td>72.39</td><td>710499</td><td>&quot;ZTS&quot;</td><td>&quot;2017-12&quot;</td><td>&quot;Zoetis Inc.&quot;</td><td>&quot;Healthcare&quot;</td><td>&quot;United States&quot;</td></tr><tr><td>2017-12-29 00:00:00</td><td>72.55</td><td>72.76</td><td>72.04</td><td>72.04</td><td>1704122</td><td>&quot;ZTS&quot;</td><td>&quot;2017-12&quot;</td><td>&quot;Zoetis Inc.&quot;</td><td>&quot;Healthcare&quot;</td><td>&quot;United States&quot;</td></tr></tbody></table></div>"
      ],
      "text/plain": [
       "shape: (497_472, 11)\n",
       "┌────────────────┬───────┬────────┬───────┬───┬────────────┬────────────────┬────────────┬─────────┐\n",
       "│ date           ┆ open  ┆ high   ┆ low   ┆ … ┆ year_month ┆ company_name   ┆ sector     ┆ country │\n",
       "│ ---            ┆ ---   ┆ ---    ┆ ---   ┆   ┆ ---        ┆ ---            ┆ ---        ┆ ---     │\n",
       "│ datetime[μs]   ┆ f64   ┆ f64    ┆ f64   ┆   ┆ str        ┆ str            ┆ str        ┆ str     │\n",
       "╞════════════════╪═══════╪════════╪═══════╪═══╪════════════╪════════════════╪════════════╪═════════╡\n",
       "│ 2014-01-02     ┆ 57.1  ┆ 57.1   ┆ 56.15 ┆ … ┆ 2014-01    ┆ Agilent        ┆ Healthcare ┆ United  │\n",
       "│ 00:00:00       ┆       ┆        ┆       ┆   ┆            ┆ Technologies,  ┆            ┆ States  │\n",
       "│                ┆       ┆        ┆       ┆   ┆            ┆ Inc.           ┆            ┆         │\n",
       "│ 2014-01-03     ┆ 56.39 ┆ 57.345 ┆ 56.26 ┆ … ┆ 2014-01    ┆ Agilent        ┆ Healthcare ┆ United  │\n",
       "│ 00:00:00       ┆       ┆        ┆       ┆   ┆            ┆ Technologies,  ┆            ┆ States  │\n",
       "│                ┆       ┆        ┆       ┆   ┆            ┆ Inc.           ┆            ┆         │\n",
       "│ 2014-01-06     ┆ 57.4  ┆ 57.7   ┆ 56.56 ┆ … ┆ 2014-01    ┆ Agilent        ┆ Healthcare ┆ United  │\n",
       "│ 00:00:00       ┆       ┆        ┆       ┆   ┆            ┆ Technologies,  ┆            ┆ States  │\n",
       "│                ┆       ┆        ┆       ┆   ┆            ┆ Inc.           ┆            ┆         │\n",
       "│ 2014-01-07     ┆ 56.95 ┆ 57.63  ┆ 56.93 ┆ … ┆ 2014-01    ┆ Agilent        ┆ Healthcare ┆ United  │\n",
       "│ 00:00:00       ┆       ┆        ┆       ┆   ┆            ┆ Technologies,  ┆            ┆ States  │\n",
       "│                ┆       ┆        ┆       ┆   ┆            ┆ Inc.           ┆            ┆         │\n",
       "│ 2014-01-08     ┆ 57.33 ┆ 58.54  ┆ 57.17 ┆ … ┆ 2014-01    ┆ Agilent        ┆ Healthcare ┆ United  │\n",
       "│ 00:00:00       ┆       ┆        ┆       ┆   ┆            ┆ Technologies,  ┆            ┆ States  │\n",
       "│                ┆       ┆        ┆       ┆   ┆            ┆ Inc.           ┆            ┆         │\n",
       "│ …              ┆ …     ┆ …      ┆ …     ┆ … ┆ …          ┆ …              ┆ …          ┆ …       │\n",
       "│ 2017-12-22     ┆ 72.3  ┆ 72.37  ┆ 71.79 ┆ … ┆ 2017-12    ┆ Zoetis Inc.    ┆ Healthcare ┆ United  │\n",
       "│ 00:00:00       ┆       ┆        ┆       ┆   ┆            ┆                ┆            ┆ States  │\n",
       "│ 2017-12-26     ┆ 72.4  ┆ 72.55  ┆ 71.9  ┆ … ┆ 2017-12    ┆ Zoetis Inc.    ┆ Healthcare ┆ United  │\n",
       "│ 00:00:00       ┆       ┆        ┆       ┆   ┆            ┆                ┆            ┆ States  │\n",
       "│ 2017-12-27     ┆ 72.59 ┆ 72.69  ┆ 72.25 ┆ … ┆ 2017-12    ┆ Zoetis Inc.    ┆ Healthcare ┆ United  │\n",
       "│ 00:00:00       ┆       ┆        ┆       ┆   ┆            ┆                ┆            ┆ States  │\n",
       "│ 2017-12-28     ┆ 72.49 ┆ 72.6   ┆ 72.14 ┆ … ┆ 2017-12    ┆ Zoetis Inc.    ┆ Healthcare ┆ United  │\n",
       "│ 00:00:00       ┆       ┆        ┆       ┆   ┆            ┆                ┆            ┆ States  │\n",
       "│ 2017-12-29     ┆ 72.55 ┆ 72.76  ┆ 72.04 ┆ … ┆ 2017-12    ┆ Zoetis Inc.    ┆ Healthcare ┆ United  │\n",
       "│ 00:00:00       ┆       ┆        ┆       ┆   ┆            ┆                ┆            ┆ States  │\n",
       "└────────────────┴───────┴────────┴───────┴───┴────────────┴────────────────┴────────────┴─────────┘"
      ]
     },
     "metadata": {},
     "output_type": "display_data"
    }
   ],
   "source": [
    "## joining the stocks dataframe to another one to have more information about the stocks\n",
    "\n",
    "df_stocks_info = pl.read_csv(\"stock_info.csv\")\n",
    "df_stocks_enriched = df_stocks.join(df_stocks_info, how=\"left\", left_on=\"Name\", right_on=\"abbreviation\")\n",
    "display(df_stocks_enriched)"
   ]
  },
  {
   "cell_type": "code",
   "execution_count": 81,
   "metadata": {},
   "outputs": [
    {
     "data": {
      "text/html": [
       "<div><style>\n",
       ".dataframe > thead > tr,\n",
       ".dataframe > tbody > tr {\n",
       "  text-align: right;\n",
       "  white-space: pre-wrap;\n",
       "}\n",
       "</style>\n",
       "<small>shape: (497_472, 12)</small><table border=\"1\" class=\"dataframe\"><thead><tr><th>date</th><th>open</th><th>high</th><th>low</th><th>close</th><th>volume</th><th>Name</th><th>year_month</th><th>company_name</th><th>sector</th><th>country</th><th>5_day_moving_avg</th></tr><tr><td>datetime[μs]</td><td>f64</td><td>f64</td><td>f64</td><td>f64</td><td>i64</td><td>str</td><td>str</td><td>str</td><td>str</td><td>str</td><td>f64</td></tr></thead><tbody><tr><td>2014-01-02 00:00:00</td><td>57.1</td><td>57.1</td><td>56.15</td><td>56.21</td><td>1916160</td><td>&quot;A&quot;</td><td>&quot;2014-01&quot;</td><td>&quot;Agilent Technologies, Inc.&quot;</td><td>&quot;Healthcare&quot;</td><td>&quot;United States&quot;</td><td>null</td></tr><tr><td>2014-01-03 00:00:00</td><td>56.39</td><td>57.345</td><td>56.26</td><td>56.92</td><td>1866651</td><td>&quot;A&quot;</td><td>&quot;2014-01&quot;</td><td>&quot;Agilent Technologies, Inc.&quot;</td><td>&quot;Healthcare&quot;</td><td>&quot;United States&quot;</td><td>null</td></tr><tr><td>2014-01-06 00:00:00</td><td>57.4</td><td>57.7</td><td>56.56</td><td>56.64</td><td>1777472</td><td>&quot;A&quot;</td><td>&quot;2014-01&quot;</td><td>&quot;Agilent Technologies, Inc.&quot;</td><td>&quot;Healthcare&quot;</td><td>&quot;United States&quot;</td><td>null</td></tr><tr><td>2014-01-07 00:00:00</td><td>56.95</td><td>57.63</td><td>56.93</td><td>57.45</td><td>1463208</td><td>&quot;A&quot;</td><td>&quot;2014-01&quot;</td><td>&quot;Agilent Technologies, Inc.&quot;</td><td>&quot;Healthcare&quot;</td><td>&quot;United States&quot;</td><td>null</td></tr><tr><td>2014-01-08 00:00:00</td><td>57.33</td><td>58.54</td><td>57.17</td><td>58.39</td><td>2659468</td><td>&quot;A&quot;</td><td>&quot;2014-01&quot;</td><td>&quot;Agilent Technologies, Inc.&quot;</td><td>&quot;Healthcare&quot;</td><td>&quot;United States&quot;</td><td>57.122</td></tr><tr><td>&hellip;</td><td>&hellip;</td><td>&hellip;</td><td>&hellip;</td><td>&hellip;</td><td>&hellip;</td><td>&hellip;</td><td>&hellip;</td><td>&hellip;</td><td>&hellip;</td><td>&hellip;</td><td>&hellip;</td></tr><tr><td>2017-12-22 00:00:00</td><td>72.3</td><td>72.37</td><td>71.79</td><td>71.99</td><td>1345683</td><td>&quot;ZTS&quot;</td><td>&quot;2017-12&quot;</td><td>&quot;Zoetis Inc.&quot;</td><td>&quot;Healthcare&quot;</td><td>&quot;United States&quot;</td><td>72.482</td></tr><tr><td>2017-12-26 00:00:00</td><td>72.4</td><td>72.55</td><td>71.9</td><td>72.34</td><td>792134</td><td>&quot;ZTS&quot;</td><td>&quot;2017-12&quot;</td><td>&quot;Zoetis Inc.&quot;</td><td>&quot;Healthcare&quot;</td><td>&quot;United States&quot;</td><td>72.424</td></tr><tr><td>2017-12-27 00:00:00</td><td>72.59</td><td>72.69</td><td>72.25</td><td>72.45</td><td>1159771</td><td>&quot;ZTS&quot;</td><td>&quot;2017-12&quot;</td><td>&quot;Zoetis Inc.&quot;</td><td>&quot;Healthcare&quot;</td><td>&quot;United States&quot;</td><td>72.354</td></tr><tr><td>2017-12-28 00:00:00</td><td>72.49</td><td>72.6</td><td>72.14</td><td>72.39</td><td>710499</td><td>&quot;ZTS&quot;</td><td>&quot;2017-12&quot;</td><td>&quot;Zoetis Inc.&quot;</td><td>&quot;Healthcare&quot;</td><td>&quot;United States&quot;</td><td>72.29</td></tr><tr><td>2017-12-29 00:00:00</td><td>72.55</td><td>72.76</td><td>72.04</td><td>72.04</td><td>1704122</td><td>&quot;ZTS&quot;</td><td>&quot;2017-12&quot;</td><td>&quot;Zoetis Inc.&quot;</td><td>&quot;Healthcare&quot;</td><td>&quot;United States&quot;</td><td>72.242</td></tr></tbody></table></div>"
      ],
      "text/plain": [
       "shape: (497_472, 12)\n",
       "┌───────────────┬───────┬────────┬───────┬───┬───────────────┬────────────┬─────────┬──────────────┐\n",
       "│ date          ┆ open  ┆ high   ┆ low   ┆ … ┆ company_name  ┆ sector     ┆ country ┆ 5_day_moving │\n",
       "│ ---           ┆ ---   ┆ ---    ┆ ---   ┆   ┆ ---           ┆ ---        ┆ ---     ┆ _avg         │\n",
       "│ datetime[μs]  ┆ f64   ┆ f64    ┆ f64   ┆   ┆ str           ┆ str        ┆ str     ┆ ---          │\n",
       "│               ┆       ┆        ┆       ┆   ┆               ┆            ┆         ┆ f64          │\n",
       "╞═══════════════╪═══════╪════════╪═══════╪═══╪═══════════════╪════════════╪═════════╪══════════════╡\n",
       "│ 2014-01-02    ┆ 57.1  ┆ 57.1   ┆ 56.15 ┆ … ┆ Agilent       ┆ Healthcare ┆ United  ┆ null         │\n",
       "│ 00:00:00      ┆       ┆        ┆       ┆   ┆ Technologies, ┆            ┆ States  ┆              │\n",
       "│               ┆       ┆        ┆       ┆   ┆ Inc.          ┆            ┆         ┆              │\n",
       "│ 2014-01-03    ┆ 56.39 ┆ 57.345 ┆ 56.26 ┆ … ┆ Agilent       ┆ Healthcare ┆ United  ┆ null         │\n",
       "│ 00:00:00      ┆       ┆        ┆       ┆   ┆ Technologies, ┆            ┆ States  ┆              │\n",
       "│               ┆       ┆        ┆       ┆   ┆ Inc.          ┆            ┆         ┆              │\n",
       "│ 2014-01-06    ┆ 57.4  ┆ 57.7   ┆ 56.56 ┆ … ┆ Agilent       ┆ Healthcare ┆ United  ┆ null         │\n",
       "│ 00:00:00      ┆       ┆        ┆       ┆   ┆ Technologies, ┆            ┆ States  ┆              │\n",
       "│               ┆       ┆        ┆       ┆   ┆ Inc.          ┆            ┆         ┆              │\n",
       "│ 2014-01-07    ┆ 56.95 ┆ 57.63  ┆ 56.93 ┆ … ┆ Agilent       ┆ Healthcare ┆ United  ┆ null         │\n",
       "│ 00:00:00      ┆       ┆        ┆       ┆   ┆ Technologies, ┆            ┆ States  ┆              │\n",
       "│               ┆       ┆        ┆       ┆   ┆ Inc.          ┆            ┆         ┆              │\n",
       "│ 2014-01-08    ┆ 57.33 ┆ 58.54  ┆ 57.17 ┆ … ┆ Agilent       ┆ Healthcare ┆ United  ┆ 57.122       │\n",
       "│ 00:00:00      ┆       ┆        ┆       ┆   ┆ Technologies, ┆            ┆ States  ┆              │\n",
       "│               ┆       ┆        ┆       ┆   ┆ Inc.          ┆            ┆         ┆              │\n",
       "│ …             ┆ …     ┆ …      ┆ …     ┆ … ┆ …             ┆ …          ┆ …       ┆ …            │\n",
       "│ 2017-12-22    ┆ 72.3  ┆ 72.37  ┆ 71.79 ┆ … ┆ Zoetis Inc.   ┆ Healthcare ┆ United  ┆ 72.482       │\n",
       "│ 00:00:00      ┆       ┆        ┆       ┆   ┆               ┆            ┆ States  ┆              │\n",
       "│ 2017-12-26    ┆ 72.4  ┆ 72.55  ┆ 71.9  ┆ … ┆ Zoetis Inc.   ┆ Healthcare ┆ United  ┆ 72.424       │\n",
       "│ 00:00:00      ┆       ┆        ┆       ┆   ┆               ┆            ┆ States  ┆              │\n",
       "│ 2017-12-27    ┆ 72.59 ┆ 72.69  ┆ 72.25 ┆ … ┆ Zoetis Inc.   ┆ Healthcare ┆ United  ┆ 72.354       │\n",
       "│ 00:00:00      ┆       ┆        ┆       ┆   ┆               ┆            ┆ States  ┆              │\n",
       "│ 2017-12-28    ┆ 72.49 ┆ 72.6   ┆ 72.14 ┆ … ┆ Zoetis Inc.   ┆ Healthcare ┆ United  ┆ 72.29        │\n",
       "│ 00:00:00      ┆       ┆        ┆       ┆   ┆               ┆            ┆ States  ┆              │\n",
       "│ 2017-12-29    ┆ 72.55 ┆ 72.76  ┆ 72.04 ┆ … ┆ Zoetis Inc.   ┆ Healthcare ┆ United  ┆ 72.242       │\n",
       "│ 00:00:00      ┆       ┆        ┆       ┆   ┆               ┆            ┆ States  ┆              │\n",
       "└───────────────┴───────┴────────┴───────┴───┴───────────────┴────────────┴─────────┴──────────────┘"
      ]
     },
     "execution_count": 81,
     "metadata": {},
     "output_type": "execute_result"
    }
   ],
   "source": [
    "## Computing the moving average to have a smooth curve of close prices\n",
    "df_stocks_enriched = (\n",
    "    df_stocks_enriched.sort([\"Name\", \"date\"])  \n",
    "    .with_columns(\n",
    "        pl.col(\"close\")\n",
    "        .rolling_mean(window_size=5, min_periods=5)  \n",
    "        .over(\"Name\")  \n",
    "        .alias(\"5_day_moving_avg\")\n",
    "    )\n",
    ") \n",
    "df_stocks_enriched"
   ]
  },
  {
   "cell_type": "code",
   "execution_count": 78,
   "metadata": {},
   "outputs": [
    {
     "data": {
      "text/plain": [
       "polars.dataframe.frame.DataFrame"
      ]
     },
     "execution_count": 78,
     "metadata": {},
     "output_type": "execute_result"
    }
   ],
   "source": [
    "type(df_stocks_enriched)"
   ]
  }
 ],
 "metadata": {
  "kernelspec": {
   "display_name": "Python 3 (ipykernel)",
   "language": "python",
   "name": "python3"
  },
  "language_info": {
   "codemirror_mode": {
    "name": "ipython",
    "version": 3
   },
   "file_extension": ".py",
   "mimetype": "text/x-python",
   "name": "python",
   "nbconvert_exporter": "python",
   "pygments_lexer": "ipython3",
   "version": "3.10.9"
  }
 },
 "nbformat": 4,
 "nbformat_minor": 4
}
