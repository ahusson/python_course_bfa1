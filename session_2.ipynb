{
 "cells": [
  {
   "cell_type": "markdown",
   "metadata": {},
   "source": [
    "<hr style=\"border-width:2px;border-color:#094780\">\n",
    "<center><h1> Code Like a Pro in Python </h1></center>\n",
    "<hr style=\"border-width:2px;border-color:#094780\">\n",
    "\n",
    "In the first session, we explored the fundamental building blocks of Python, such as conditional statements, loops and functions. These concepts have equipped you to write simple scripts and understand the basics of Python coding. However, to develop more efficient and robust applications, it's essential to delve deeper into Python's built-in functions, powerful libraries, and techniques for handling errors. In this course, we'll cover these advanced concepts, allowing you to write cleaner, more professional code and tackle more complex problems with confidence.\n",
    "\n",
    "### Summary :\n",
    "\n",
    " - Error handling\n",
    " - Build-in functions\n",
    " - Standard libraries\n"
   ]
  },
  {
   "cell_type": "markdown",
   "metadata": {},
   "source": [
    "## <a>Error handling and Exceptions</a>\n"
   ]
  },
  {
   "cell_type": "markdown",
   "metadata": {},
   "source": [
    "An exception is an error that occurs during the execution of a program. When an exception occurs, it interrupts the normal flow of execution unless it is handled."
   ]
  },
  {
   "cell_type": "code",
   "execution_count": 1,
   "metadata": {},
   "outputs": [
    {
     "ename": "ZeroDivisionError",
     "evalue": "division by zero",
     "output_type": "error",
     "traceback": [
      "\u001b[1;31m---------------------------------------------------------------------------\u001b[0m",
      "\u001b[1;31mZeroDivisionError\u001b[0m                         Traceback (most recent call last)",
      "Cell \u001b[1;32mIn[1], line 2\u001b[0m\n\u001b[0;32m      1\u001b[0m \u001b[38;5;66;03m# Division by zero\u001b[39;00m\n\u001b[1;32m----> 2\u001b[0m \u001b[38;5;28mprint\u001b[39m(\u001b[38;5;241;43m10\u001b[39;49m\u001b[43m \u001b[49m\u001b[38;5;241;43m/\u001b[39;49m\u001b[43m \u001b[49m\u001b[38;5;241;43m0\u001b[39;49m)\n",
      "\u001b[1;31mZeroDivisionError\u001b[0m: division by zero"
     ]
    }
   ],
   "source": [
    "# Division by zero\n",
    "print(10 / 0)"
   ]
  },
  {
   "cell_type": "markdown",
   "metadata": {},
   "source": [
    "Exception handling in Python is mainly done with **try-except** blocks. When an exception is raised, Python looks for the corresponding except block to handle the error."
   ]
  },
  {
   "cell_type": "code",
   "execution_count": 2,
   "metadata": {},
   "outputs": [
    {
     "name": "stdout",
     "output_type": "stream",
     "text": [
      "Error: Division by zero\n"
     ]
    }
   ],
   "source": [
    "try:\n",
    "    # Code that might raise an exception\n",
    "    x = 10 / 0\n",
    "except ZeroDivisionError:\n",
    "    # Code executed if a ZeroDivisionError is raised\n",
    "    print(\"Error: Division by zero\")"
   ]
  },
  {
   "cell_type": "markdown",
   "metadata": {},
   "source": [
    "The **else** block is optional and is executed if no exception was raised in the try block."
   ]
  },
  {
   "cell_type": "code",
   "execution_count": 4,
   "metadata": {},
   "outputs": [
    {
     "name": "stdout",
     "output_type": "stream",
     "text": [
      "The result is 5.0\n"
     ]
    }
   ],
   "source": [
    "try:\n",
    "    result = 10 / 2\n",
    "except ZeroDivisionError:\n",
    "    print(\"Error: Division by zero\")\n",
    "else:\n",
    "    print(f\"The result is {result}\")"
   ]
  },
  {
   "cell_type": "markdown",
   "metadata": {},
   "source": [
    "The **finally** block is always executed, whether an exception was raised or not. It is often used for resource cleanup (files, network connections, etc.)."
   ]
  },
  {
   "cell_type": "code",
   "execution_count": 5,
   "metadata": {},
   "outputs": [
    {
     "name": "stdout",
     "output_type": "stream",
     "text": [
      "File not found.\n",
      "Finally block executed.\n"
     ]
    }
   ],
   "source": [
    "try:\n",
    "    file = open(\"test.txt\", \"r\")\n",
    "    content = file.read()\n",
    "except FileNotFoundError:\n",
    "    print(\"File not found.\")\n",
    "finally:\n",
    "    print(\"Finally block executed.\")\n",
    "    if 'file' in locals() and not file.closed:\n",
    "        file.close()"
   ]
  },
  {
   "cell_type": "markdown",
   "metadata": {},
   "source": [
    "You can explicitly raise exceptions using the **raise** statement."
   ]
  },
  {
   "cell_type": "code",
   "execution_count": 6,
   "metadata": {},
   "outputs": [
    {
     "name": "stdout",
     "output_type": "stream",
     "text": [
      "Age must be 18 or older.\n"
     ]
    }
   ],
   "source": [
    "def check_age(age):\n",
    "    if age < 18:\n",
    "        raise ValueError(\"Age must be 18 or older.\")\n",
    "    return True\n",
    "\n",
    "try:\n",
    "    check_age(15)\n",
    "except ValueError as e:\n",
    "    print(e)"
   ]
  },
  {
   "cell_type": "markdown",
   "metadata": {},
   "source": [
    "You can define your own types of exceptions by creating a new class that inherits from **Exception**"
   ]
  },
  {
   "cell_type": "code",
   "execution_count": 7,
   "metadata": {},
   "outputs": [
    {
     "name": "stdout",
     "output_type": "stream",
     "text": [
      "This is a custom exception.\n"
     ]
    }
   ],
   "source": [
    "class MyException(Exception):\n",
    "    pass\n",
    "\n",
    "try:\n",
    "    raise MyException(\"This is a custom exception.\")\n",
    "except MyException as e:\n",
    "    print(e)"
   ]
  },
  {
   "cell_type": "markdown",
   "metadata": {},
   "source": [
    "| **Exception**           | **Description**                                                                 |\n",
    "|-------------------------|---------------------------------------------------------------------------------|\n",
    "| **`BaseException`**      | The base class for all built-in exceptions. It is the root of the exception hierarchy. |\n",
    "| **`Exception`**          | The base class for all exceptions that are not system-exiting. Most user-defined exceptions should be derived from this class. |\n",
    "| **`ArithmeticError`**    | The base class for all errors related to arithmetic operations.                 |\n",
    "| **`ZeroDivisionError`**  | Raised when division or modulo by zero occurs.                                  |\n",
    "| **`OverflowError`**      | Raised when a result of an arithmetic operation is too large to be expressed.   |\n",
    "| **`FloatingPointError`** | Raised when a floating-point operation fails.                                   |\n",
    "| **`AttributeError`**     | Raised when an attribute reference or assignment fails.                         |\n",
    "| **`ImportError`**        | Raised when an import statement fails to find the module or name to import.     |\n",
    "| **`ModuleNotFoundError`**| A subclass of `ImportError`, raised when a module cannot be found.              |\n",
    "| **`IndexError`**         | Raised when a sequence (e.g., list, tuple) is accessed with an invalid index.   |\n",
    "| **`KeyError`**           | Raised when a dictionary is accessed with a key that doesn't exist.             |\n",
    "| **`NameError`**          | Raised when a local or global name is not found.                               |\n",
    "| **`UnboundLocalError`**  | A subclass of `NameError`, raised when a local variable is referenced before it has been assigned. |\n",
    "| **`TypeError`**          | Raised when an operation or function is applied to an object of inappropriate type. |\n",
    "| **`ValueError`**         | Raised when a function gets an argument of correct type but an inappropriate value. |\n",
    "| **`FileNotFoundError`**  | Raised when an attempt to open a file fails because it does not exist.          |\n",
    "| **`EOFError`**           | Raised when the `input()` function hits an end-of-file condition (no input).    |\n",
    "| **`OSError`**            | Raised for various operating system-related errors (file system, I/O, etc.).    |\n",
    "| **`PermissionError`**    | A subclass of `OSError`, raised when a file operation lacks proper permissions. |\n",
    "| **`FileExistsError`**    | A subclass of `OSError`, raised when trying to create a file or directory that already exists. |\n",
    "| **`IsADirectoryError`**  | Raised when a file operation is attempted on a directory that is not appropriate. |\n",
    "| **`NotADirectoryError`** | Raised when a directory operation is requested on something that is not a directory. |\n",
    "| **`IOError`**            | An alias of `OSError`, raised when an input/output operation fails.             |\n",
    "| **`RuntimeError`**       | Raised when an error occurs that doesn’t fall into any other category.          |\n",
    "| **`RecursionError`**     | A subclass of `RuntimeError`, raised when the maximum recursion depth is exceeded. |\n",
    "| **`NotImplementedError`**| Raised when an abstract method that needs to be implemented in a subclass is called. |\n",
    "| **`StopIteration`**      | Raised by an iterator’s `__next__()` method to signal that there are no further items. |\n",
    "| **`StopAsyncIteration`** | Raised by an asynchronous iterator’s `__anext__()` method to signal that there are no further items. |\n",
    "| **`SyntaxError`**        | Raised when the parser encounters a syntax error.                               |\n",
    "| **`IndentationError`**   | A subclass of `SyntaxError`, raised when there’s an indentation-related error.   |\n",
    "| **`TabError`**           | A subclass of `IndentationError`, raised when tabs and spaces are mixed improperly in indentation. |\n",
    "| **`SystemError`**        | Raised when the interpreter encounters an internal error.                       |\n",
    "| **`SystemExit`**         | Raised when the interpreter is asked to terminate via `sys.exit()`.             |\n",
    "| **`KeyboardInterrupt`**  | Raised when the user interrupts the program’s execution (usually by pressing `Ctrl+C`). |\n",
    "| **`MemoryError`**        | Raised when an operation runs out of memory.                                    |\n",
    "| **`TimeoutError`**       | Raised when a system function exceeds the allowed time to complete its operation. |\n",
    "| **`AssertionError`**     | Raised when an `assert` statement fails.                                        |\n",
    "| **`DeprecationWarning`** | Raised for warnings about deprecated features.                                  |\n",
    "| **`FutureWarning`**      | Raised for warnings about features that will change in future releases.         |"
   ]
  },
  {
   "cell_type": "markdown",
   "metadata": {},
   "source": [
    "**Summary**\n",
    "\n",
    ">try: Block where potentially \"dangerous\" code is executed.\n",
    "\n",
    ">except: Block that catches and handles exceptions.\n",
    "\n",
    ">else: Block that runs if no exception is raised.\n",
    "\n",
    ">finally: Block that always runs, whether there is an exception or not.\n",
    "\n",
    ">raise: To manually raise exceptions.\n",
    "\n",
    ">Custom exceptions: You can create your own exceptions by inheriting from the Exception clas"
   ]
  },
  {
   "cell_type": "markdown",
   "metadata": {},
   "source": [
    "**Exercise 1**\n",
    "\n",
    ">Write a program that attempts to open a file that does not exist. Use try-except to display a message indicating that the file was not found."
   ]
  },
  {
   "cell_type": "markdown",
   "metadata": {},
   "source": [
    "**Exercise 2**\n",
    "\n",
    ">Write a function that takes two numbers and returns the result of their division. Use a try-except block to handle the case where the second number is zero"
   ]
  },
  {
   "cell_type": "markdown",
   "metadata": {},
   "source": [
    "**Exercise 3**\n",
    "\n",
    ">Write a function that takes a string and tries to convert it to an integer. If the conversion fails, return an error message."
   ]
  },
  {
   "cell_type": "markdown",
   "metadata": {},
   "source": [
    "**Exercise 4**\n",
    "\n",
    ">Write a function that asks the user to enter their age. If the age is less than 18, raise a ValueError with an appropriate message. Use a try-except block to handle this exception."
   ]
  },
  {
   "cell_type": "markdown",
   "metadata": {},
   "source": [
    "**Exercise 5**\n",
    "\n",
    ">Write a function calculate that takes two numbers and an operation (+, -, *, /). Use try-except to handle possible errors such as division by zero or invalid operations."
   ]
  },
  {
   "cell_type": "markdown",
   "metadata": {},
   "source": [
    "**Exercise 6**\n",
    "\n",
    ">Write a program that attempts to open three files. Use try-except-finally to handle errors, and ensure all files are properly closed even if an opening operation fails."
   ]
  },
  {
   "cell_type": "markdown",
   "metadata": {},
   "source": [
    "**Exercise 7**\n",
    "\n",
    ">Create a custom exception called InvalidOperationError. Write a function that takes a number and attempts to divide it by another number. If the denominator is zero, raise this custom exception with an appropriate message."
   ]
  },
  {
   "cell_type": "markdown",
   "metadata": {},
   "source": [
    "## <a>Built-in functions</a>\n",
    "\n",
    "Built-in functions in Python are predefined functions that are always available for use without needing to import any modules or libraries. These functions are part of Python's core language and provide a wide range of utilities for performing common tasks such as input/output, data manipulation, and type conversions."
   ]
  },
  {
   "cell_type": "markdown",
   "metadata": {},
   "source": [
    "#### Build-in function for string"
   ]
  },
  {
   "cell_type": "code",
   "execution_count": null,
   "metadata": {},
   "outputs": [],
   "source": [
    "# print(): Outputs text or data to the console.\n",
    "print(\"Hello, Python!\")\n",
    "\n",
    "# list(): Converts an iterable (e.g., string, tuple) to a list.\n",
    "s = \"hello\"\n",
    "print(list(s))  # Output: ['h', 'e', 'l', 'l', 'o']\n",
    "\n",
    "# strip(): Removes leading and trailing whitespace (or specified characters) from a string.\n",
    "text = \"   Hello, Python!   \"\n",
    "print(text.strip())  # Output: \"Hello, Python!\"\n",
    "\n",
    "# lower(): Converts all characters in a string to lowercase.\n",
    "text = \"HELLO, Python!\"\n",
    "print(text.lower())  # Output: \"hello, python!\"\n",
    "\n",
    "# upper(): Converts all characters in a string to uppercase.\n",
    "print(text.upper())  # Output: \"HELLO, PYTHON!\"\n",
    "\n",
    "# replace(): Replaces occurrences of a substring with another substring.\n",
    "text = \"Hello, Python!\"\n",
    "print(text.replace(\"Python\", \"World\"))  # Output: \"Hello, World!\"\n",
    "\n",
    "# split(): Splits a string into a list of substrings based on a delimiter (default is space).\n",
    "text = \"Hello Python World\"\n",
    "print(text.split())  # Output: ['Hello', 'Python', 'World']\n",
    "\n",
    "# join(): Joins elements of an iterable (like a list) into a string, using a specified delimiter.\n",
    "words = ['Hello', 'Python', 'World']\n",
    "print(\" \".join(words))  # Output: \"Hello Python World\"\n",
    "\n",
    "# int(): Converts a string or float to an integer.\n",
    "num = int(\"10\")\n",
    "print(num)  # Output: 10"
   ]
  },
  {
   "cell_type": "markdown",
   "metadata": {},
   "source": [
    "#### Built-in function for integers/floats"
   ]
  },
  {
   "cell_type": "code",
   "execution_count": null,
   "metadata": {},
   "outputs": [],
   "source": [
    "# float(): Converts an integer or string to a float (decimal number).\n",
    "num_float = float(5)\n",
    "print(num_float)  # Output: 5.0\n",
    "\n",
    "# str(): Converts an object (number, list, etc.) to a string.\n",
    "num_str = 100\n",
    "print(str(num_str))  # Output: '100'\n",
    "\n",
    "# abs(): Returns the absolute value of a number (removes any negative sign).\n",
    "negative_num = -10\n",
    "print(abs(negative_num))  # Output: 10\n",
    "\n",
    "# round(): Rounds a number to a specified number of decimal places.\n",
    "pi = 3.14159\n",
    "print(round(pi, 2))  # Output: 3.14"
   ]
  },
  {
   "cell_type": "code",
   "execution_count": null,
   "metadata": {},
   "outputs": [],
   "source": [
    "# Particularity of the function round\n",
    "print(round(2.5)) # Output: 2 since 2 is even\n",
    "print(round(3.5)) # Output: 3 since 3 is odd"
   ]
  },
  {
   "cell_type": "markdown",
   "metadata": {},
   "source": [
    "#### Built-in function for lists/sets/dict"
   ]
  },
  {
   "cell_type": "code",
   "execution_count": null,
   "metadata": {},
   "outputs": [],
   "source": [
    "\n",
    "# len(): Returns the length (number of items) of an iterable (e.g., list, string).\n",
    "my_list = [1, 2, 3, 4]\n",
    "print(len(my_list))  # Output: 4\n",
    "\n",
    "# sum(): Returns the sum of all elements in an iterable (like a list or tuple).\n",
    "numbers = [1, 2, 3, 4]\n",
    "print(sum(numbers))  # Output: 10\n",
    "\n",
    "# max() / min(): Returns the maximum/minimum value in an iterable.\n",
    "print(max(numbers))  # Output: 4\n",
    "print(min(numbers))  # Output: 1\n",
    "\n",
    "# sorted(): Returns a sorted version of the iterable (does not change the original).\n",
    "unsorted_numbers = [5, 1, 7, 3]\n",
    "print(sorted(unsorted_numbers))  # Output: [1, 3, 5, 7]\n",
    "\n",
    "# dict(): Creates a dictionary from key-value pairs.\n",
    "pairs = [('name', 'Alice'), ('age', 30)]\n",
    "print(dict(pairs))  # Output: {'name': 'Alice', 'age': 30}\n",
    "\n",
    "# set(): Converts an iterable into a set (removes duplicates).\n",
    "nums = [1, 2, 2, 3, 4]\n",
    "unique_nums = set(nums)\n",
    "print(unique_nums)  # Output: {1, 2, 3, 4}\n",
    "\n",
    "# zip(): Combines elements from two or more iterables into tuples, element-wise.\n",
    "a = [1, 2, 3]\n",
    "b = ['one', 'two', 'three']\n",
    "print(list(zip(a, b)))  # Output: [(1, 'one'), (2, 'two'), (3, 'three')]\n",
    "\n",
    "# enumerate(): Adds a counter (index) to each element of an iterable.\n",
    "colors = ['red', 'blue', 'green']\n",
    "for index, color in enumerate(colors):\n",
    "    print(index, color)\n",
    "# Output:\n",
    "# 0 red\n",
    "# 1 blue\n",
    "# 2 green\n"
   ]
  },
  {
   "cell_type": "markdown",
   "metadata": {},
   "source": [
    "#### Built-in function for iterables "
   ]
  },
  {
   "cell_type": "code",
   "execution_count": null,
   "metadata": {},
   "outputs": [],
   "source": [
    "# map(): Applies a given function to each item in an iterable (such as a list) and returns an iterator.\n",
    "# It's useful when you want to transform each element in a collection (e.g., applying a function to all elements in a list).\n",
    "numbers = [1, 2, 3, 4, 5]\n",
    "squared_numbers = list(map(lambda x: x ** 2, numbers))\n",
    "print(squared_numbers)  # Output: [1, 4, 9, 16, 25]\n",
    "\n",
    "# filter(): Filters elements from an iterable based on a function that returns True or False.\n",
    "# It's useful when you want to remove elements that don't satisfy a particular condition.\n",
    "numbers = [1, 2, 3, 4, 5, 6]\n",
    "even_numbers = list(filter(lambda x: x % 2 == 0, numbers))\n",
    "print(even_numbers)  # Output: [2, 4, 6]"
   ]
  },
  {
   "cell_type": "markdown",
   "metadata": {},
   "source": [
    "#### Other built-in functions"
   ]
  },
  {
   "cell_type": "code",
   "execution_count": null,
   "metadata": {},
   "outputs": [],
   "source": [
    "# type(): Returns the type of an object (e.g., int, str, list).\n",
    "x = 42\n",
    "print(type(x))  # Output: <class 'int'>\n",
    "\n",
    "# isinstance(): Checks if an object is of a particular type/class.\n",
    "x = [1, 2, 3]\n",
    "print(isinstance(x, list))  # Output: True\n",
    "\n"
   ]
  },
  {
   "cell_type": "markdown",
   "metadata": {},
   "source": [
    "## <a> Standard libraries </a>"
   ]
  },
  {
   "cell_type": "markdown",
   "metadata": {},
   "source": [
    "### Library `math`\n",
    "\n",
    "The `math` library in Python provides a wide range of mathematical functions that allow you to perform complex calculations with ease. It includes basic operations such as exponentiation, logarithms, and trigonometric functions, as well as constants like π (pi) and e (Euler's number).\n",
    "\n",
    "The `math` library is especially useful when working on tasks involving finance, engineering, data science, or any field that requires precise mathematical operations. By leveraging functions such as `math.sqrt()` for square roots, `math.pow()` for exponents, and `math.log()` for logarithms, you can handle both basic and advanced calculations efficiently."
   ]
  },
  {
   "cell_type": "markdown",
   "metadata": {},
   "source": [
    "#### Exercise 1: Compound Interest Calculation using the `math` Library\n",
    "\n",
    "In this exercise, you will calculate the future value of an investment using both **compound interest** and **continuous compounding** formulas. You’ll leverage functions from Python's `math` library to perform these calculations.\n",
    "\n",
    "##### Problem Statement:\n",
    "\n",
    "You are investing an initial amount (principal) in a financial market, and you want to know the future value of this investment based on the annual interest rate, the number of years, and the frequency of compounding per year. Additionally, you will compute the value of the investment if the interest is compounded continuously.\n",
    "\n",
    "##### Formulas:\n",
    "\n",
    "1. **Compound Interest Formula**:\n",
    "   $$\n",
    "   A = P \\times \\left(1 + \\frac{r}{n}\\right)^{n \\times t}\n",
    "   $$\n",
    "   Where:\n",
    "   - $ A $ is the future value of the investment.\n",
    "   - $ P $ is the principal amount (initial investment).\n",
    "   - $ r $ is the annual interest rate (as a decimal).\n",
    "   - $ n $ is the number of times interest is compounded per year.\n",
    "   - $ t $ is the number of years.\n",
    "\n",
    "2. **Continuous Compounding Formula**:\n",
    "   $$\n",
    "   A = P \\times e^{r \\times t}\n",
    "   $$\n",
    "   Where:\n",
    "   - $ e $ is the mathematical constant (Euler’s number, ~2.71828).\n",
    "\n",
    "##### Example:\n",
    "\n",
    "Assume you are investing $1000 with an annual interest rate of 5% for 10 years, and interest is compounded quarterly. Additionally, calculate the future value with continuous compounding.\n",
    "\n",
    "##### Required Math Functions:\n",
    "- `math.pow()`: To calculate the power for the compound interest formula.\n",
    "- `math.exp()`: To calculate continuous compounding.\n"
   ]
  },
  {
   "cell_type": "markdown",
   "metadata": {},
   "source": [
    "#### Exercise 2: Volatility Calculation and Option Pricing using the `math` Library\n",
    "\n",
    "In this exercise, you will calculate the **logarithmic returns** of a stock, estimate its volatility (standard deviation), and use these values to calculate the price of a European call option using the **Black-Scholes formula**.\n",
    "\n",
    "##### Problem Statement:\n",
    "\n",
    "1. Given a list of stock prices over time, calculate the **logarithmic returns** for each consecutive price using the natural logarithm function.\n",
    "2. Use the **volatility formula** (standard deviation) to measure the risk of the stock, which uses the square root and power functions.\n",
    "3. Calculate the price of a European call option using the **Black-Scholes formula**, focusing on the mathematical functions from the `math` library.\n",
    "\n",
    "##### Formulas:\n",
    "\n",
    "1. **Logarithmic Returns Formula**:\n",
    "   $$\n",
    "   \\text{Log Return} = \\ln\\left(\\frac{P_t}{P_{t-1}}\\right)\n",
    "   $$\n",
    "   Where:\n",
    "   - $ P_t $ is the stock price at time $ t $.\n",
    "   - $ P_{t-1} $ is the stock price at time $ t-1 $.\n",
    "   - $ \\ln $ is the natural logarithm (use `math.log()` in Python).\n",
    "\n",
    "2. **Volatility (Standard Deviation) Formula**:\n",
    "   $$\n",
    "   \\text{Volatility} = \\sqrt{\\frac{\\sum (\\text{Log Returns} - \\text{Mean})^2}{N-1}}\n",
    "   $$\n",
    "   Where:\n",
    "   - $ N $ is the number of data points (stock prices).\n",
    "   - The square root function is available as `math.sqrt()` and the power function as `math.pow()`.\n",
    "\n",
    "3. **Black-Scholes Formula for a Call Option** (Simplified):\n",
    "   $$\n",
    "   C = P \\times \\Phi(d_1) - K \\times e^{-r \\times t} \\times \\Phi(d_2)\n",
    "   $$\n",
    "   Where:\n",
    "   - $ P $ is the current stock price.\n",
    "   - $ K $ is the strike price of the option.\n",
    "   - $ r $ is the risk-free interest rate.\n",
    "   - $ t $ is the time to maturity.\n",
    "   - $ \\Phi(d_1) $ and $ \\Phi(d_2) $ are the cumulative distribution functions (for simplicity, we'll simulate them using the `math.erf()` function).\n",
    "   - $ d_1 $ and $ d_2 $ are computed using stock price, volatility, etc.\n",
    "\n",
    "##### Required Math Functions:\n",
    "- `math.log()`: Natural logarithm for log returns.\n",
    "- `math.sqrt()`: Square root for calculating volatility.\n",
    "- `math.pow()`: Exponentiation in volatility and option pricing.\n",
    "- `math.exp()`: Exponential for continuous growth in option pricing.\n",
    "- `math.erf()`: Error function to simulate cumulative normal distribution in option pricing.\n"
   ]
  },
  {
   "cell_type": "markdown",
   "metadata": {},
   "source": [
    "### Library `random`\n",
    "\n",
    "The `random` library in Python is used for generating simple random numbers. It's also used for simulating a variety of probability distributions. This makes it an essential tool in fields such as data science, finance, and physics, where randomness often follows specific patterns or laws.\n",
    "\n",
    "In addition to basic randomization functions like `random.randint()` and `random.choice()`, the library provides advanced functions that generate random values following well-known probability distributions. For example:\n",
    "\n",
    "- **Uniform Distribution**: `random.uniform(a, b)` generates numbers that are uniformly distributed, meaning each number in the range [a, b] has an equal chance of being selected.\n",
    "- **Normal (Gaussian) Distribution**: `random.gauss(mu, sigma)` returns values that follow a bell-shaped curve, where most values are clustered around the mean (`mu`), and the spread is determined by the standard deviation (`sigma`).\n",
    "- **Log-normal Distribution**: A log-normal distribution is used in modeling quantities that grow exponentially, such as stock prices in finance or certain biological phenomena. The function `random.lognormvariate(mu, sigma)` generates numbers where the logarithm of the variable follows a normal distribution, making it useful for systems with multiplicative processes.\n",
    "- **Exponential Distribution**: `random.expovariate(lambd)` models the time between events in a Poisson process, useful in queueing theory or reliability testing.\n",
    "\n",
    "Understanding these distributions allows us to simulate real-world processes that are inherently random but follow specific probabilistic rules. For example, stock prices often follow a log-normal distribution because they can’t fall below zero, but their percentage changes are normally distributed."
   ]
  },
  {
   "cell_type": "markdown",
   "metadata": {},
   "source": [
    "#### Exercise 3:\n",
    "\n",
    "Modify the exercise 1 to generate some variables using `random` library with different distribution laws."
   ]
  },
  {
   "cell_type": "markdown",
   "metadata": {},
   "source": [
    "### Library `datetime`\n",
    "\n",
    "The `datetime` library in Python is a powerful tool for working with dates, times, and time intervals. It allows you to handle real-world scenarios involving time calculations, formatting, and manipulation. Whether you're building a scheduling system, logging events, or analyzing time-series data, the `datetime` library provides all the essential functionality you need."
   ]
  },
  {
   "cell_type": "code",
   "execution_count": null,
   "metadata": {},
   "outputs": [],
   "source": [
    "## Calculate the Number of Days Until a Future Date\n",
    "\n",
    "from datetime import datetime\n",
    "\n",
    "# Get the current date and time\n",
    "current_date = datetime.now()\n",
    "\n",
    "# Define a future date (e.g., a project deadline)\n",
    "future_date = datetime(2024, 12, 31)\n",
    "\n",
    "# Calculate the number of days between the current date and the future date\n",
    "days_until_future = (future_date - current_date).days\n",
    "\n",
    "print(f\"There are {days_until_future} days until the project deadline.\")\n"
   ]
  },
  {
   "cell_type": "markdown",
   "metadata": {},
   "source": [
    "#### Exercises: \n",
    "> Write a Python program that asks the user for their birthdate (in \"YYYY-MM-DD\" format) and calculates their current age in years.\n",
    "\n",
    "> Write a Python function that calculates the number of days between two dates. Ask the user to input both dates in \"YYYY-MM-DD\" format.\n",
    "\n",
    "> Write a Python function that adds a certain number of days to the current date and prints the new date. Ask the user to input the number of days to add.\n",
    "\n",
    "> Write a Python program that asks the user to input a date in \"YYYY-MM-DD\" format and prints the day of the week for that date (e.g., \"Monday\", \"Tuesday\")."
   ]
  },
  {
   "cell_type": "markdown",
   "metadata": {},
   "source": [
    "### Library `os`\n",
    "\n",
    "The `os` library in Python provides a way to interact with the **operating system**. It allows you to perform tasks such as **creating** and **removing files**, **navigating the file system**, **handling directories**, and **retrieving environment variables**. The os module is especially useful when building scripts that need to work with files or directories across different operating systems.\n"
   ]
  },
  {
   "cell_type": "code",
   "execution_count": null,
   "metadata": {},
   "outputs": [],
   "source": [
    "## List Files in the Current Directory\n",
    "\n",
    "import os\n",
    "\n",
    "# Get the current working directory\n",
    "current_directory = os.getcwd()\n",
    "print(f\"Current Directory: {current_directory}\")\n",
    "\n",
    "# List all files and directories in the current directory\n",
    "files = os.listdir(current_directory)\n",
    "print(\"Files and directories in the current directory:\")\n",
    "for file in files:\n",
    "    print(file)\n"
   ]
  },
  {
   "cell_type": "markdown",
   "metadata": {},
   "source": [
    "#### Exercises:\n",
    "> Write a Python program that creates a new directory called \"test_directory\" in the current working directory. Check if the directory already exists before creating it.\n",
    "\n",
    "> Write a Python program that renames a file in the current directory. Ask the user to input the current file name and the new file name.\n",
    "\n",
    "> Write a Python function that lists only the files (not directories) in a given directory.\n",
    "\n",
    "> Write a Python program that deletes a file in the current directory. Ask the user to input the file name and check if the file exists before deleting it."
   ]
  },
  {
   "cell_type": "markdown",
   "metadata": {},
   "source": [
    "### Library `sys`\n",
    "\n",
    "The `sys` library in Python provides access to system-specific parameters and functions. It is useful for interacting with the Python runtime environment and the command-line interface. The `sys` library allows you to manage the system path, access command-line arguments, manipulate the Python interpreter, and handle standard input/output streams.\n",
    "\n",
    "Some key functionalities include:\n",
    "- **`sys.argv`**: Access command-line arguments passed to a script.\n",
    "- **`sys.exit()`**: Exit the program.\n",
    "- **`sys.path`**: A list of directories that the interpreter searches for modules.\n",
    "- **`sys.platform`**: Identifies the platform (e.g., Windows, Linux).\n",
    "- **`sys.stdout`**: Standard output stream, which can be redirected.\n",
    "\n",
    "The `sys` library is particularly useful in scripts that require command-line interaction or need to control the interpreter's behavior.\n"
   ]
  },
  {
   "cell_type": "code",
   "execution_count": null,
   "metadata": {},
   "outputs": [],
   "source": [
    "## Print Command-Line Arguments\n",
    "\n",
    "import sys\n",
    "\n",
    "# Print the command-line arguments passed to the script\n",
    "print(\"Command-line arguments passed to the script:\")\n",
    "for arg in sys.argv:\n",
    "    print(arg)\n"
   ]
  },
  {
   "cell_type": "code",
   "execution_count": null,
   "metadata": {},
   "outputs": [],
   "source": [
    "## Display python version\n",
    "\n",
    "import sys\n",
    "\n",
    "# Print the Python version\n",
    "print(\"Python version:\", sys.version)\n"
   ]
  },
  {
   "cell_type": "code",
   "execution_count": null,
   "metadata": {},
   "outputs": [],
   "source": [
    "import sys\n",
    "\n",
    "# Open a file to write output\n",
    "with open(\"output.txt\", \"w\") as f:\n",
    "    # Redirect stdout to the file\n",
    "    sys.stdout = f\n",
    "\n",
    "    # Print some text (this will go to the file)\n",
    "    print(\"This text will be written to the output.txt file.\")\n",
    "\n",
    "# Reset stdout to its original state (console output)\n",
    "sys.stdout = sys.__stdout__\n",
    "\n",
    "# Print to the console to confirm redirection is reset\n",
    "print(\"Output redirection reset. Now printing to the console again.\")\n"
   ]
  },
  {
   "cell_type": "markdown",
   "metadata": {},
   "source": [
    "### Library `re`\n",
    "\n",
    "The `re` library in Python provides support for working with **regular expressions**, which are powerful tools for searching, matching, and manipulating strings based on specific patterns. Regular expressions allow you to search for patterns in text, extract specific substrings, and replace parts of a string efficiently.\n",
    "\n",
    "Some key functions in the `re` library include:\n",
    "- **`re.search()`**: Searches for a pattern anywhere in the string.\n",
    "- **`re.match()`**: Matches a pattern at the beginning of the string.\n",
    "- **`re.findall()`**: Finds all occurrences of a pattern in a string.\n",
    "- **`re.sub()`**: Replaces parts of a string that match a pattern.\n",
    "\n",
    "Regular expressions are widely used in text processing, web scraping, data cleaning, and pattern matching tasks, making the `re` library an essential tool for many Python applications.\n",
    "\n",
    "To explore all regex patterns in python, check out the official python documentation https://docs.python.org/3/library/re.html \n"
   ]
  },
  {
   "cell_type": "code",
   "execution_count": null,
   "metadata": {},
   "outputs": [],
   "source": [
    "## Regex for Phone Number Validation\n",
    "## formats are like 01 23 45 67 89, +33 1 23 45 67 89, +33 (0)1 23 45 67 89, or 0123456789.\n",
    "\n",
    "import re\n",
    "\n",
    "# Sample French phone number\n",
    "phone_number = \"+33 1 23 45 67 89\"\n",
    "\n",
    "# Regular expression pattern for French phone numbers\n",
    "phone_pattern = r\"^(\\+33|0)[1-9](\\s?\\d{2}){4}$\"\n",
    "\n",
    "# Search for the pattern in the phone number\n",
    "match = re.fullmatch(phone_pattern, phone_number)\n",
    "\n",
    "if match:\n",
    "    print(f\"'{phone_number}' is a valid French phone number.\")\n",
    "else:\n",
    "    print(f\"'{phone_number}' is not a valid French phone number.\")\n"
   ]
  },
  {
   "cell_type": "code",
   "execution_count": null,
   "metadata": {},
   "outputs": [],
   "source": [
    "## Regex for URL Validation\n",
    "## URLs are like https://www.example.com, http://example.com, or www.example.com.\n",
    "\n",
    "import re\n",
    "\n",
    "# Sample URL\n",
    "url = \"https://www.example.com\"\n",
    "\n",
    "# Regular expression pattern for URL\n",
    "url_pattern = r\"^(https?:\\/\\/)?(www\\.)?[a-zA-Z0-9-]+\\.[a-zA-Z]{2,6}(\\.[a-zA-Z]{2,6})?(/[a-zA-Z0-9#]+/?)*$\"\n",
    "\n",
    "# Search for the pattern in the URL\n",
    "if re.fullmatch(url_pattern, url):\n",
    "    print(f\"'{url}' is a valid URL.\")\n",
    "else:\n",
    "    print(f\"'{url}' is not a valid URL.\")\n"
   ]
  },
  {
   "cell_type": "code",
   "execution_count": null,
   "metadata": {},
   "outputs": [],
   "source": [
    "## Regex for Email Validation\n",
    "## Email formats are like name@example.com, name.lastname@example.co.uk, or user+tag@domain.org.\n",
    "\n",
    "import re\n",
    "\n",
    "# Sample email\n",
    "email = \"test.email+alex@leetcode.com\"\n",
    "\n",
    "# Regular expression pattern for email\n",
    "email_pattern = r\"^[a-zA-Z0-9_.+-]+@[a-zA-Z0-9-]+\\.[a-zA-Z0-9-.]+$\"\n",
    "\n",
    "# Search for the pattern in the email\n",
    "if re.fullmatch(email_pattern, email):\n",
    "    print(f\"'{email}' is a valid email address.\")\n",
    "else:\n",
    "    print(f\"'{email}' is not a valid email address.\")\n"
   ]
  },
  {
   "cell_type": "markdown",
   "metadata": {},
   "source": [
    "**Exercises**\n",
    "\n",
    "> Write a Python function that extracts all dates in the format DD-MM-YYYY from a given text.\n",
    "\n",
    "> Write a Python program that extracts all hashtags from a string representing a social media post.\n",
    "\n",
    "> Write a Python function that checks if a password entered by the user is valid. The password must:\n",
    "\n",
    "   - Be at least 8 characters long.\n",
    "   - Contain at least one uppercase letter.\n",
    "   - Contain at least one lowercase letter.\n",
    "   - Contain at least one number."
   ]
  },
  {
   "cell_type": "markdown",
   "metadata": {},
   "source": [
    "### Library `collections`\n",
    "\n",
    "The **collections** module in Python provides specialized container data types beyond the built-in types like lists, tuples, and dictionaries. These data types are designed to handle more complex data manipulation tasks efficiently and with cleaner syntax."
   ]
  },
  {
   "cell_type": "markdown",
   "metadata": {},
   "source": [
    "**Exercises**\n",
    "\n",
    "> Write a Python function that counts the frequency of each word in a given sentence using the collections module.\n",
    "\n",
    "> Write a Python function that rotates the elements of a list using the `deque` class. The program should allow the user to specify the number of positions to rotate the list. Rotation can be to the right (positive number) or to the left (negative number)."
   ]
  },
  {
   "cell_type": "markdown",
   "metadata": {},
   "source": [
    "### Library `itertools`\n",
    "\n",
    "The `itertools`*library in Python provides a collection of fast, memory-efficient tools that allow you to work with iterators and perform complex operations on them. \n",
    "\n",
    "Some of the most commonly used functions include:\n",
    "- **`itertools.product()`**: Computes the cartesian product of input iterables.\n",
    "- **`itertools.permutations()`**: Generates all possible permutations of an iterable.\n",
    "- **`itertools.combinations()`**: Generates combinations of a specified length from an iterable.\n",
    "- **`itertools.cycle()`**: Creates an infinite cycle over an iterable.\n",
    "- **`itertools.chain()`**: Chains multiple iterables into a single sequence.\n",
    "\n",
    "These tools can significantly improve the efficiency and readability of code that involves complex iteration tasks.\n"
   ]
  },
  {
   "cell_type": "markdown",
   "metadata": {},
   "source": [
    "**Exercises**\n",
    "\n",
    "> Write a python function that generates all 2-combinations of a given list using `itertools.combinations()`.\n",
    "\n",
    "> Write a Python program that takes two lists and computes their cartesian product using `itertools.product()`.\n",
    "\n",
    "> Write a Python program that cycles through a list infinitely using `itertools.cycle()` and prints the first 10 elements.\n",
    "\n",
    "> Write a Python program that generates all possible permutations of a list of numbers using `itertools.permutations()`.\n",
    "\n",
    "> Write a Python program that computes the cumulative sum of a list of numbers using `itertools.accumulate()`."
   ]
  },
  {
   "cell_type": "markdown",
   "metadata": {},
   "source": [
    "### Library `functools`\n",
    "\n",
    "The `functools` library in Python provides higher-order functions that work with or return other functions. These functions can be used to enhance the behavior of other functions, allowing you to manipulate or extend their functionality. \n",
    "\n",
    "Some of the most commonly used functions in the `functools` module include:\n",
    "- **`functools.reduce()`**: Reduces an iterable to a single value by applying a binary function (e.g., summing a list).\n",
    "- **`functools.partial()`**: Allows you to fix a certain number of arguments for a function, returning a new function with those arguments set.\n",
    "- **`functools.lru_cache()`**: Provides a decorator that caches the results of function calls, making repeated calls faster.\n",
    "- **`functools.wraps()`**: A decorator for preserving the original function’s metadata when it is wrapped by another function.\n",
    "\n",
    "These functions make it easier to write cleaner, more efficient code, especially when working with function-based approaches or when optimizing performance through techniques like caching.\n",
    "\n"
   ]
  },
  {
   "cell_type": "code",
   "execution_count": null,
   "metadata": {},
   "outputs": [],
   "source": [
    "from functools import reduce\n",
    "\n",
    "# Sample list of numbers\n",
    "numbers = [1, 2, 3, 4, 5]\n",
    "\n",
    "# Function to multiply two numbers\n",
    "def multiply(x, y):\n",
    "    return x * y\n",
    "\n",
    "# Use reduce to multiply all elements in the list\n",
    "result = reduce(multiply, numbers)\n",
    "\n",
    "print(\"Product of all numbers:\", result)\n"
   ]
  },
  {
   "cell_type": "markdown",
   "metadata": {},
   "source": [
    "**Exercises**\n",
    "\n",
    "> Write a Python program that computes the Fibonacci sequence using recursion and optimizes it with `functools.lru_cache()` to avoid redundant calculations.\n",
    "\n",
    "> Write a Python program that uses `functools.partial()` to create a function that always multiplies a number by 2. We start by creating a function `multiply` that multiplies 2 numbers (x * y), and then, using this function, we create a second one that multiplies a number by 2.\n",
    "\n",
    "> Write a Python program that uses `functools.reduce()` to compute the sum of squares of elements in a list."
   ]
  }
 ],
 "metadata": {
  "kernelspec": {
   "display_name": "Python 3 (ipykernel)",
   "language": "python",
   "name": "python3"
  },
  "language_info": {
   "codemirror_mode": {
    "name": "ipython",
    "version": 3
   },
   "file_extension": ".py",
   "mimetype": "text/x-python",
   "name": "python",
   "nbconvert_exporter": "python",
   "pygments_lexer": "ipython3",
   "version": "3.10.9"
  }
 },
 "nbformat": 4,
 "nbformat_minor": 4
}
