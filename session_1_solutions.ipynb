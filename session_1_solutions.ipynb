{
 "cells": [
  {
   "cell_type": "markdown",
   "id": "50d3327d-3a19-4722-9777-83562cf4f8ea",
   "metadata": {},
   "source": [
    "**Control flow**"
   ]
  },
  {
   "cell_type": "code",
   "execution_count": 18,
   "id": "37c079dd-f2b3-41df-9032-c1ce3fa1d1f6",
   "metadata": {},
   "outputs": [
    {
     "name": "stdin",
     "output_type": "stream",
     "text": [
      "Enter your latest grade:  15\n"
     ]
    },
    {
     "name": "stdout",
     "output_type": "stream",
     "text": [
      "B\n"
     ]
    }
   ],
   "source": [
    "# Exercise 1\n",
    "\n",
    "grade = -1\n",
    "while grade < 0 or grade > 20:\n",
    "    grade = input(\"Enter your latest grade: \")\n",
    "    grade = int(grade)\n",
    "\n",
    "if 0 <= grade < 5:\n",
    "    print(\"F\")\n",
    "elif 5 <= grade < 10:\n",
    "    print(\"D\")\n",
    "elif 10 <= grade < 15:\n",
    "    print(\"C\")\n",
    "elif 15 <= grade < 18:\n",
    "    print(\"B\")\n",
    "else:\n",
    "    print(\"A\")"
   ]
  },
  {
   "cell_type": "code",
   "execution_count": 3,
   "id": "43e7155a-32e5-418a-bf64-a58571d038e5",
   "metadata": {},
   "outputs": [
    {
     "name": "stdout",
     "output_type": "stream",
     "text": [
      "The current value is: 1\n",
      "The current value is: 2\n",
      "The current value is: 3\n",
      "The current value is: 4\n",
      "The current value is: 5\n"
     ]
    }
   ],
   "source": [
    "# Exercice 2\n",
    "\n",
    "l = [1, 2, 3, 4, 5]\n",
    "for el in l:\n",
    "    print(f\"The current value is: {el}\")"
   ]
  },
  {
   "cell_type": "code",
   "execution_count": 4,
   "id": "4d3d9deb-c31b-46ed-99e8-402216d52974",
   "metadata": {},
   "outputs": [
    {
     "name": "stdout",
     "output_type": "stream",
     "text": [
      "The current value is: 1\n",
      "The current value is: 2\n",
      "The current value is: 3\n",
      "The current value is: 4\n",
      "The current value is: 5\n"
     ]
    }
   ],
   "source": [
    "# Exercice 3\n",
    "\n",
    "l = [1, 2, 3, 4, 5]\n",
    "n = len(l)\n",
    "i = 0\n",
    "while i < n:\n",
    "    print(f\"The current value is: {l[i]}\")\n",
    "    i += 1"
   ]
  },
  {
   "cell_type": "code",
   "execution_count": 19,
   "id": "407aeffb-22d4-4088-aeff-a445bdfab738",
   "metadata": {},
   "outputs": [
    {
     "name": "stdout",
     "output_type": "stream",
     "text": [
      "Sum of the elements in the list is 15\n"
     ]
    }
   ],
   "source": [
    "# Exercice 4\n",
    "\n",
    "l = list(\"12345\")  # list(\"12345\") -> [\"1\", \"2\", \"3\", \"4\", \"5\"]\n",
    "s = sum([int(el) for el in l])\n",
    "print(f\"Sum of the elements in the list is {s}\")"
   ]
  },
  {
   "cell_type": "markdown",
   "id": "0c8f3809-aa7f-42d3-8013-036e33b147d4",
   "metadata": {},
   "source": [
    "**List**"
   ]
  },
  {
   "cell_type": "code",
   "execution_count": 20,
   "id": "f771126e-c2c2-498d-8804-bc4d58a2153f",
   "metadata": {},
   "outputs": [
    {
     "name": "stdout",
     "output_type": "stream",
     "text": [
      "67\n"
     ]
    }
   ],
   "source": [
    "# Exercise 1\n",
    "\n",
    "l = [34, 45, 67, 89]\n",
    "print(l[2])"
   ]
  },
  {
   "cell_type": "code",
   "execution_count": 21,
   "id": "a0a3c9fe-f8a8-4810-b4b3-5581c7b9ba7b",
   "metadata": {},
   "outputs": [
    {
     "name": "stdout",
     "output_type": "stream",
     "text": [
      "Second element before increment 45\n",
      "Second element after increment 46\n"
     ]
    }
   ],
   "source": [
    "# Exercise 2\n",
    "\n",
    "l = [34, 45, 67, 89]\n",
    "print(f\"Second element before increment {l[1]}\")\n",
    "l[1] += 1\n",
    "print(f\"Second element after increment {l[1]}\")"
   ]
  },
  {
   "cell_type": "code",
   "execution_count": 22,
   "id": "25e8fd70-3555-4202-ace0-d29898d832e5",
   "metadata": {},
   "outputs": [
    {
     "name": "stdout",
     "output_type": "stream",
     "text": [
      "[5, 4, 3, 2, 1]\n"
     ]
    }
   ],
   "source": [
    "# Exercise 3\n",
    "\n",
    "l = [1, 2, 3, 4, 5]\n",
    "l = l[::-1]\n",
    "print(l)"
   ]
  },
  {
   "cell_type": "code",
   "execution_count": 23,
   "id": "c269be94-852c-46c0-bf29-ad70f2a09fc1",
   "metadata": {},
   "outputs": [
    {
     "name": "stdout",
     "output_type": "stream",
     "text": [
      "[1, 2, 3, 4, 5, 6, 7, 8, 9, 10, 11, 12, 13, 14, 15, 16, 17, 18, 19, 20]\n",
      "[1, 2, 3, 4, 5, 6, 7, 8, 9, 10, 11, 12, 13, 14, 15, 16, 17, 18, 19, 20]\n",
      "[1, 2, 3, 4, 5, 6, 7, 8, 9, 10, 11, 12, 13, 14, 15, 16, 17, 18, 19, 20]\n",
      "[1, 2, 3, 4, 5, 6, 7, 8, 9, 10, 11, 12, 13, 14, 15, 16, 17, 18, 19, 20]\n"
     ]
    }
   ],
   "source": [
    "# Exercise 4\n",
    "\n",
    "# method 1\n",
    "l = []\n",
    "for i in range(1, 21):\n",
    "    l.append(i)\n",
    "print(l)\n",
    "\n",
    "# method 2\n",
    "l = []\n",
    "for i in range(1, 21):\n",
    "    l += [i]\n",
    "print(l)\n",
    "\n",
    "# method 3\n",
    "l = list(range(1, 21))\n",
    "print(l)\n",
    "\n",
    "# method 4\n",
    "l = [i for i in range(1, 21)]\n",
    "print(l)"
   ]
  },
  {
   "cell_type": "code",
   "execution_count": 24,
   "id": "d798590c-cfe9-461c-9fdb-a2430bad2b52",
   "metadata": {},
   "outputs": [
    {
     "name": "stdout",
     "output_type": "stream",
     "text": [
      "[1, 2, 3, 4, 5, 6, 7, 8, 9, 10, 11, 12, 13, 14, 15, 16, 17, 18, 19, 20]\n"
     ]
    }
   ],
   "source": [
    "# Exercise 5\n",
    "\n",
    "l = []\n",
    "i = 1\n",
    "while i < 21:\n",
    "    l.append(i)\n",
    "    i += 1\n",
    "print(l)"
   ]
  },
  {
   "cell_type": "code",
   "execution_count": 25,
   "id": "f1039c03-ca61-4206-985b-169f59ebb4df",
   "metadata": {},
   "outputs": [
    {
     "name": "stdout",
     "output_type": "stream",
     "text": [
      "[2, 4, 6, 8, 10, 12, 14, 16, 18, 20]\n"
     ]
    }
   ],
   "source": [
    "# Exercise 6\n",
    "\n",
    "l = [i for i in range(1, 21) if i % 2 == 0]\n",
    "print(l)"
   ]
  },
  {
   "cell_type": "code",
   "execution_count": 26,
   "id": "701fbce1-8c34-4fe4-8cbf-23d5f9976f32",
   "metadata": {},
   "outputs": [
    {
     "name": "stdout",
     "output_type": "stream",
     "text": [
      "2\n"
     ]
    }
   ],
   "source": [
    "# Exercise 7\n",
    "\n",
    "l = [2, 4, 6, 7, 8, 9]\n",
    "print(min(l))"
   ]
  },
  {
   "cell_type": "code",
   "execution_count": 27,
   "id": "5899a80b-189a-431f-bddf-d21cbade6199",
   "metadata": {},
   "outputs": [
    {
     "name": "stdout",
     "output_type": "stream",
     "text": [
      "9\n"
     ]
    }
   ],
   "source": [
    "# Exercise 8\n",
    "\n",
    "l = [2, 4, 6, 7, 8, 9]\n",
    "print(max(l))"
   ]
  },
  {
   "cell_type": "code",
   "execution_count": 28,
   "id": "45ec8ea8-bd9b-4452-ad6b-971ff4c3f070",
   "metadata": {},
   "outputs": [
    {
     "name": "stdout",
     "output_type": "stream",
     "text": [
      "The last element in l was 9\n"
     ]
    }
   ],
   "source": [
    "# Exercise 9\n",
    "\n",
    "l = [2, 4, 6, 7, 8, 9]\n",
    "last = l.pop()\n",
    "print(f\"The last element in l was {last}\")"
   ]
  },
  {
   "cell_type": "code",
   "execution_count": 29,
   "id": "e86e2e8f-8301-402c-a5ea-f7bc94d0152b",
   "metadata": {},
   "outputs": [
    {
     "name": "stdout",
     "output_type": "stream",
     "text": [
      "The element at index 2 was 6\n"
     ]
    }
   ],
   "source": [
    "# Exercise 10\n",
    "\n",
    "l = [2, 4, 6, 7, 8, 9]\n",
    "el = l.pop(2)\n",
    "print(f\"The element at index 2 was {el}\")"
   ]
  },
  {
   "cell_type": "code",
   "execution_count": 30,
   "id": "e412e92b-d9c1-43d7-843c-eafbfc8f4498",
   "metadata": {},
   "outputs": [
    {
     "name": "stdout",
     "output_type": "stream",
     "text": [
      "The number of element(s) in the list is 6\n"
     ]
    }
   ],
   "source": [
    "# Exercise 11\n",
    "\n",
    "l = [2, 4, 6, 7, 8, 9]\n",
    "count = 0\n",
    "for el in l:\n",
    "    count += 1\n",
    "print(f\"The number of element(s) in the list is {count}\") "
   ]
  },
  {
   "cell_type": "code",
   "execution_count": 31,
   "id": "af474945-7a77-44f7-a304-606f026fd129",
   "metadata": {},
   "outputs": [
    {
     "name": "stdout",
     "output_type": "stream",
     "text": [
      "[1, 25, 32, 34, 45, 105, 546]\n",
      "[1, 25, 32, 34, 45, 105, 546]\n",
      "[1, 25, 32, 34, 45, 105, 546]\n",
      "[1, 25, 32, 34, 45, 105, 546]\n"
     ]
    }
   ],
   "source": [
    "# Exercise 12\n",
    "\n",
    "# method 1\n",
    "l = [45, 34, 25, 105, 546, 1, 32]\n",
    "l.sort()\n",
    "print(l)\n",
    "\n",
    "# method 2\n",
    "l = [45, 34, 25, 105, 546, 1, 32]\n",
    "l.sort(reverse=False)\n",
    "print(l)\n",
    "\n",
    "# method 3\n",
    "print(sorted(l))\n",
    "\n",
    "# method 4\n",
    "print(sorted(l, reverse=False))"
   ]
  },
  {
   "cell_type": "code",
   "execution_count": 32,
   "id": "fb3a2f69-a072-43f9-8e1e-34b059545acd",
   "metadata": {},
   "outputs": [
    {
     "name": "stdout",
     "output_type": "stream",
     "text": [
      "[1, 4, 9, 16, 25, 36, 49, 64, 81, 100]\n"
     ]
    }
   ],
   "source": [
    "# Exercise 13\n",
    "\n",
    "l = [i * i for i in range(1, 11)]\n",
    "print(l)"
   ]
  },
  {
   "cell_type": "markdown",
   "id": "c07b6113-ae75-4387-b1c1-b25715fbaf81",
   "metadata": {},
   "source": [
    "**Set**"
   ]
  },
  {
   "cell_type": "code",
   "execution_count": 34,
   "id": "2c82a82f-21c5-49e4-86b9-b9702e5ce7b3",
   "metadata": {},
   "outputs": [
    {
     "name": "stdout",
     "output_type": "stream",
     "text": [
      "{1, 2, 3}\n",
      "The set removes the duplicate 1 element\n",
      "In a way, sets are the python data structure analogous to mathematical set objects\n"
     ]
    }
   ],
   "source": [
    "# Exercise 1\n",
    "\n",
    "l = [1, 1, 2, 3]\n",
    "print(set(l))\n",
    "print(\"The set removes the duplicate 1 element\")\n",
    "print(\"In a way, sets are the python data structure analogous to mathematical set objects\")"
   ]
  },
  {
   "cell_type": "code",
   "execution_count": 37,
   "id": "d942d4ec-93ac-407f-800a-491aa51cb044",
   "metadata": {},
   "outputs": [
    {
     "name": "stdout",
     "output_type": "stream",
     "text": [
      "{1}\n"
     ]
    }
   ],
   "source": [
    "# Exercise 2\n",
    "\n",
    "s1 = {1, 2}\n",
    "s2 = {1, 3}\n",
    "print(s1.intersection(s2))"
   ]
  },
  {
   "cell_type": "code",
   "execution_count": 38,
   "id": "bbfa7b3d-47f2-4315-ba23-89aaaa64fda0",
   "metadata": {},
   "outputs": [
    {
     "name": "stdout",
     "output_type": "stream",
     "text": [
      "False\n"
     ]
    }
   ],
   "source": [
    "# Exercise 3\n",
    "\n",
    "s1 = {1, 2}\n",
    "s2 = {1, 3}\n",
    "print(s1.issubset(s2))"
   ]
  },
  {
   "cell_type": "code",
   "execution_count": 39,
   "id": "9b0c533c-4d77-4989-9a19-e40f15d02642",
   "metadata": {},
   "outputs": [
    {
     "name": "stdout",
     "output_type": "stream",
     "text": [
      "True\n"
     ]
    }
   ],
   "source": [
    "# Exercise 4\n",
    "\n",
    "s1 = {1, 2}\n",
    "s2 = {1, 2, 3}\n",
    "print(s1.issubset(s2))"
   ]
  },
  {
   "cell_type": "markdown",
   "id": "04661c14-44d8-4138-a90e-17a4a763d27c",
   "metadata": {},
   "source": [
    "**Dict**"
   ]
  },
  {
   "cell_type": "code",
   "execution_count": 49,
   "id": "7050ff07-1ad9-4d20-bbc6-27cf6a7a8483",
   "metadata": {},
   "outputs": [
    {
     "name": "stdout",
     "output_type": "stream",
     "text": [
      "{1: 3, 2: 2, 3: 1}\n",
      "Counter({1: 3, 2: 2, 3: 1})\n"
     ]
    }
   ],
   "source": [
    "# Exercise 1\n",
    "\n",
    "l = [1, 1, 1, 2, 2, 3]\n",
    "\n",
    "# method 1\n",
    "d = {}\n",
    "for el in l:\n",
    "    if el in d:\n",
    "        d[el] += 1\n",
    "    else:\n",
    "        d[el] = 1  # must be the first occurence\n",
    "print(d)\n",
    "\n",
    "# method 2\n",
    "import collections\n",
    "d = collections.Counter(l)  # works just like a dict\n",
    "print(d)\n",
    "\n",
    "# NOTE: Python built-in libraries are sometimes very useful !"
   ]
  },
  {
   "cell_type": "code",
   "execution_count": 50,
   "id": "6561d6f6-fe37-477c-8a00-31c88affd312",
   "metadata": {},
   "outputs": [
    {
     "name": "stdout",
     "output_type": "stream",
     "text": [
      "dict_keys(['a', 'b', 'c'])\n",
      "a\n",
      "b\n",
      "c\n"
     ]
    }
   ],
   "source": [
    "# Exercise 2\n",
    "\n",
    "d = {\"a\": 23, \"b\": 45, \"c\": 2}\n",
    "\n",
    "print(d.keys())\n",
    "\n",
    "# you can actually iterate through keys, like so:\n",
    "for k in d.keys():\n",
    "    print(k)"
   ]
  },
  {
   "cell_type": "code",
   "execution_count": 51,
   "id": "90a991c5-2129-4cd5-8066-4d1a4bddc22d",
   "metadata": {},
   "outputs": [
    {
     "name": "stdout",
     "output_type": "stream",
     "text": [
      "dict_values([23, 45, 2])\n",
      "23\n",
      "45\n",
      "2\n"
     ]
    }
   ],
   "source": [
    "# Exercise 3\n",
    "\n",
    "d = {\"a\": 23, \"b\": 45, \"c\": 2}\n",
    "\n",
    "print(d.values())\n",
    "\n",
    "# you can actually iterate through values, like so:\n",
    "for v in d.values():\n",
    "    print(v)"
   ]
  },
  {
   "cell_type": "code",
   "execution_count": 52,
   "id": "1ad2d4c2-1ccf-44e6-95a6-4aaa0ff0bcc0",
   "metadata": {},
   "outputs": [
    {
     "name": "stdout",
     "output_type": "stream",
     "text": [
      "dict_items([('a', 23), ('b', 45), ('c', 2)])\n",
      "key = a, value = 23\n",
      "key = b, value = 45\n",
      "key = c, value = 2\n"
     ]
    }
   ],
   "source": [
    "# Exercise 4\n",
    "\n",
    "d = {\"a\": 23, \"b\": 45, \"c\": 2}\n",
    "\n",
    "print(d.items())\n",
    "\n",
    "# you can actually iterate through values, like so:\n",
    "for k, v in d.items():\n",
    "    print(f\"key = {k}, value = {v}\")\n",
    "\n",
    "# NOTE: Notice how python dict are essentially a list of tuples where each tuple is of the form (key, value)\n",
    "#       Tuples are immutables and can be used in a set as a unique element, in fact, under the hood, a dict is nothing other\n",
    "#       than a set of unique key items mapping to an index in an array of value."
   ]
  },
  {
   "cell_type": "code",
   "execution_count": 53,
   "id": "a267ae59-0b6d-41dd-b1cf-ae49b6c7d093",
   "metadata": {},
   "outputs": [
    {
     "name": "stdout",
     "output_type": "stream",
     "text": [
      "23\n"
     ]
    }
   ],
   "source": [
    "# Exercise 5\n",
    "\n",
    "d = {\"a\": 23, \"b\": 45, \"c\": 2}\n",
    "print(d.pop(\"a\"))"
   ]
  },
  {
   "cell_type": "code",
   "execution_count": 54,
   "id": "2118459c-8059-48b9-8b3d-550137f33231",
   "metadata": {},
   "outputs": [
    {
     "name": "stdout",
     "output_type": "stream",
     "text": [
      "{(3, 7), (5, 5)}\n",
      "{(3, 7), (5, 5)}\n",
      "{(3, 7), (5, 5)}\n"
     ]
    }
   ],
   "source": [
    "# Exercise 6\n",
    "\n",
    "s = 10\n",
    "l = [1, 3, 5, 5, 7, 10]\n",
    "\n",
    "# method 1 - O(n^2)\n",
    "res = set()\n",
    "for i in l:\n",
    "    for j in l:\n",
    "        if i + j == s:\n",
    "            t = (i, j)\n",
    "            if t not in res and (j, i) not in res:\n",
    "                res.add(t)\n",
    "print(res)\n",
    "\n",
    "# method 2 (a bit better)- n(n + 1) / 2 ~ n^2 / 2 = O(n^2)\n",
    "res = set()\n",
    "n = len(l)\n",
    "for i in range(n):\n",
    "    for j in range(i + 1, n):\n",
    "        li = l[i]\n",
    "        lj = l[j]\n",
    "        if li + lj == s:\n",
    "            res.add((li, lj))\n",
    "print(res)\n",
    "\n",
    "# method 3 (much better) - 2n = O(n)\n",
    "d, seen = {}, set()\n",
    "for el in l:\n",
    "    if el not in seen:  # O(1) because seen is a set\n",
    "        diff = s - el\n",
    "        d[diff] = el\n",
    "        seen = seen.union({el, diff})\n",
    "\n",
    "res = set()\n",
    "for el in l:\n",
    "    if el in d:  # O(1) because d is a dict\n",
    "        res.add((d[el], el))\n",
    "print(res)"
   ]
  },
  {
   "cell_type": "code",
   "execution_count": 73,
   "id": "ec3b3433-800a-4c77-92a0-b6d58dabd4d9",
   "metadata": {},
   "outputs": [
    {
     "name": "stdout",
     "output_type": "stream",
     "text": [
      "When eps = 0.1, k = 6.932795286618866\n",
      "When eps = 0.01, k = 6.334660117580657\n",
      "When eps = 0.001, k = 6.11436288442525\n",
      "When eps = 0.0001, k = 6.03651473263636\n",
      "When eps = 1e-05, k = 6.011510416012198\n",
      "When eps = 1e-06, k = 6.003647956020594\n"
     ]
    }
   ],
   "source": [
    "# Exercise 7\n",
    "\n",
    "# S_N -> l > 0 est convergente, donc elle est de Cauchy.\n",
    "# On sait que pour un eps fixé, on peut trouver un rang\n",
    "# tq pour tout p >= 1 entier S_N+p - S_N < eps\n",
    "# On prend p = 1 ici, et on regarde S_N+1 - S_N.\n",
    "\n",
    "# Il suffira ensuite de prendre k_approx = pi ** 2 / l\n",
    "# k_approx décroit vers l'entier 6 quand eps tend vers 0.\n",
    "\n",
    "import math\n",
    "\n",
    "for eps in [0.1, 0.01, 0.001, 0.0001, 0.00001, 0.000001]:\n",
    "    l = [1, 0.25]\n",
    "    n = 3\n",
    "    while sum(l) - sum(l[:-1]) >= eps:\n",
    "        l.append(1 / n ** 2)\n",
    "        n += 1\n",
    "    \n",
    "    k = math.pi ** 2 / sum(l)\n",
    "    print(f\"When eps = {eps}, k = {k}\")\n",
    "\n",
    "\n",
    "# On remarque que k tend bien vers 6 !"
   ]
  },
  {
   "cell_type": "code",
   "execution_count": 94,
   "id": "59ae3462-edd7-4e1f-b602-a154ed7f315d",
   "metadata": {},
   "outputs": [
    {
     "name": "stdout",
     "output_type": "stream",
     "text": [
      "y 9.0\n",
      "{(3, 9.0)}\n",
      "\n",
      "\n",
      "brute force for x**3 + 2*x*y = 81\n",
      "Solution: (x, y) = (3,9)\n",
      "\n",
      "\n",
      "brute force for x**3 + 2*x*y = 82\n",
      "\n",
      "\n"
     ]
    }
   ],
   "source": [
    "# Exercise 8\n",
    "\n",
    "# One approach for x^3 * 2xy = 82\n",
    "\n",
    "# x^3 * 2xy = 82 <=> x * (x^2 + 2y) = 82\n",
    "# 82 = 2 * 41 where 2 and 41 are primes\n",
    "# if x = 2, then x^2 + 2y = 41\n",
    "# 2^2 + 2y = 41 <=> y = 37 / 2 which is not an integer\n",
    "# same reasoning for x = 41\n",
    "# {(x, y) in Z : x^3 * 2xy = 82} is empty\n",
    "\n",
    "\n",
    "# Same approach for x^3 * 2xy = 81\n",
    "# 81 = 3^4 where 3 is prime\n",
    "# we need to check for each value of x in {3, 3^2, 3^3, 3^4}\n",
    "# whether y = (27 - x^2) / 2 is an integer\n",
    "# NOTE: if z is a rational number, then z is an integer if\n",
    "#       z - floor(z) = 0 where floor(z) = m integer with m <= z < m + 1\n",
    "\n",
    "s = set()  # solution set\n",
    "for x in [3 ** 1, 3 ** 2, 3 ** 3, 3 ** 4]:\n",
    "    y = (27 - x ** 2) / 2\n",
    "    if y >= 0:  # interested in positive integer solutions\n",
    "        print(\"y\", y)\n",
    "        y_floor = 0\n",
    "        while y_floor + 1 <= y:\n",
    "            y_floor += 1\n",
    "        if y - y_floor == 0:\n",
    "            s.add((x, y))\n",
    "print(s)\n",
    "print(\"\\n\")\n",
    "\n",
    "\n",
    "# Brute force approach\n",
    "for val in [81, 82]:\n",
    "    print(f\"brute force for x**3 + 2*x*y = {val}\")\n",
    "    for x in range(10):\n",
    "        for y in range(10):  # the second bound can be refined using the equation and the first bound\n",
    "            if x ** 3 + 2 * x * y == val:\n",
    "                print(f\"Solution: (x, y) = ({x},{y})\")\n",
    "    print(\"\\n\")"
   ]
  },
  {
   "cell_type": "code",
   "execution_count": 81,
   "id": "1d40032b-5dec-4382-b06e-8c56fefb71ac",
   "metadata": {},
   "outputs": [
    {
     "name": "stdout",
     "output_type": "stream",
     "text": [
      "1\n"
     ]
    }
   ],
   "source": [
    "# Exercise 9\n",
    "\n",
    "# we will do it recursively for integers up to 1000\n",
    "\n"
   ]
  },
  {
   "cell_type": "code",
   "execution_count": 58,
   "id": "4df21687-6446-423b-8675-2859931fa13b",
   "metadata": {},
   "outputs": [],
   "source": [
    "# Exercise 10\n",
    "\n"
   ]
  },
  {
   "cell_type": "code",
   "execution_count": 61,
   "id": "5e3c31d0-e0b0-4bd7-82c1-81eab6e39609",
   "metadata": {},
   "outputs": [],
   "source": [
    "# Exercise 11\n",
    "\n"
   ]
  },
  {
   "cell_type": "markdown",
   "id": "50fceb5a-b41a-46fe-aadf-6229b922c6fb",
   "metadata": {},
   "source": [
    "**Functions**"
   ]
  },
  {
   "cell_type": "code",
   "execution_count": 100,
   "id": "d9c66e92-1144-4cb0-9f4c-61bcb86f63ef",
   "metadata": {},
   "outputs": [
    {
     "name": "stdout",
     "output_type": "stream",
     "text": [
      "Parameter should be >= 0, not -1\n",
      "None\n",
      "1\n",
      "2\n",
      "120\n"
     ]
    }
   ],
   "source": [
    "# Exercise 1\n",
    "\n",
    "def factorial(n):\n",
    "    if n < 0:\n",
    "        print(f\"Parameter should be >= 0, not {n}\")\n",
    "        return  # None\n",
    "    elif n == 1:\n",
    "        return 1\n",
    "    p = 1\n",
    "    for i in range(2, n + 1):\n",
    "        p *= i\n",
    "    return p\n",
    "\n",
    "print(factorial(-1))\n",
    "print(factorial(1))\n",
    "print(factorial(2))\n",
    "print(factorial(5))\n",
    "    "
   ]
  },
  {
   "cell_type": "code",
   "execution_count": 101,
   "id": "a83413b2-3726-4c35-ba6b-982ad0d7e9d2",
   "metadata": {},
   "outputs": [
    {
     "name": "stdout",
     "output_type": "stream",
     "text": [
      "s = '' True\n",
      "s = 'a' True\n",
      "s = 'abdgrgdba' True\n",
      "s = 'adrrda' True\n",
      "s = 'notapalindrome' False\n",
      "--------------------------\n",
      "\n",
      "\n",
      "s = '' True\n",
      "s = 'a' True\n",
      "s = 'abdgrgdba' True\n",
      "s = 'adrrda' True\n",
      "s = 'notapalindrome' False\n"
     ]
    }
   ],
   "source": [
    "# Exercise 2\n",
    "\n",
    "# test cases\n",
    "s0 = \"\"                # True\n",
    "s1 = \"a\"               # True\n",
    "s2 = \"abdgrgdba\"       # True\n",
    "s3 = \"adrrda\"          # True\n",
    "s4 = \"notapalindrome\"  # False\n",
    "\n",
    "# method 1\n",
    "def is_palindrome1(s):\n",
    "    return s == s[::-1]\n",
    "\n",
    "# method 2\n",
    "def is_palindrome2(s):\n",
    "    n = len(s)\n",
    "    for i in range(n // 2):\n",
    "        if s[i] != s[n - i - 1]:\n",
    "            return False\n",
    "    return True\n",
    "\n",
    "# is_palindrom1\n",
    "\n",
    "print(f\"s = '{s0}' {is_palindrome1(s0)}\")\n",
    "print(f\"s = '{s1}' {is_palindrome1(s1)}\")\n",
    "print(f\"s = '{s2}' {is_palindrome1(s2)}\")\n",
    "print(f\"s = '{s3}' {is_palindrome1(s3)}\")\n",
    "print(f\"s = '{s4}' {is_palindrome1(s4)}\")\n",
    "\n",
    "print(\"--------------------------\\n\\n\")\n",
    "\n",
    "# is_palindrom2\n",
    "\n",
    "print(f\"s = '{s0}' {is_palindrome2(s0)}\")\n",
    "print(f\"s = '{s1}' {is_palindrome2(s1)}\")\n",
    "print(f\"s = '{s2}' {is_palindrome2(s2)}\")\n",
    "print(f\"s = '{s3}' {is_palindrome2(s3)}\")\n",
    "print(f\"s = '{s4}' {is_palindrome2(s4)}\")"
   ]
  },
  {
   "cell_type": "code",
   "execution_count": 103,
   "id": "18a3e675-8c00-49bc-96eb-7109662764a0",
   "metadata": {},
   "outputs": [
    {
     "data": {
      "text/plain": [
       "81"
      ]
     },
     "execution_count": 103,
     "metadata": {},
     "output_type": "execute_result"
    }
   ],
   "source": [
    "# Exercise 3\n",
    "\n",
    "def sum_integers(*ints):\n",
    "    return sum(ints)\n",
    "\n",
    "sum_integers(1, 2, 3, 4, 5, 66)"
   ]
  },
  {
   "cell_type": "code",
   "execution_count": 104,
   "id": "765dece5-1ce8-4d03-8a73-adbcd7b841d3",
   "metadata": {},
   "outputs": [
    {
     "name": "stdout",
     "output_type": "stream",
     "text": [
      "Area of a circle with radius 1 is 3.14\n",
      "Area of a circle with radius 2 is 12.57\n"
     ]
    }
   ],
   "source": [
    "# Exercise 4\n",
    "\n",
    "import math\n",
    "\n",
    "def circle_area(radius):\n",
    "    return math.pi * radius ** 2\n",
    "\n",
    "print(f\"Area of a circle with radius 1 is {circle_area(1):0.2f}\")\n",
    "print(f\"Area of a circle with radius 2 is {circle_area(2):0.2f}\")\n",
    "\n",
    "# NOTE: :0.2f in the f-string truncates the float to 2 decimal places"
   ]
  },
  {
   "cell_type": "code",
   "execution_count": 105,
   "id": "2248962d-12f0-4bd8-9f01-c0691de9dce5",
   "metadata": {},
   "outputs": [
    {
     "name": "stdout",
     "output_type": "stream",
     "text": [
      "radius = 1 area = 3.14 perimeter = 6.28\n",
      "radius = 2 area = 12.57 perimeter = 12.57\n"
     ]
    }
   ],
   "source": [
    "# Exercise 5\n",
    "\n",
    "import math\n",
    "\n",
    "def circle_metrics(radius):\n",
    "    return math.pi * radius ** 2, 2 * math.pi * radius\n",
    "\n",
    "print(\"radius = 1 area = {0[0]:0.2f} perimeter = {0[1]:0.2f}\".format(circle_metrics(1)))\n",
    "print(\"radius = 2 area = {0[0]:0.2f} perimeter = {0[1]:0.2f}\".format(circle_metrics(2)))\n",
    "\n",
    "# NOTE: :0.2f in the string truncates the float to 2 decimal places"
   ]
  },
  {
   "cell_type": "code",
   "execution_count": 109,
   "id": "5daddd1d-b8e9-4ad1-90dc-bcc77f5ab159",
   "metadata": {},
   "outputs": [
    {
     "name": "stdout",
     "output_type": "stream",
     "text": [
      "radius = 1 actual perimeter = 6.28\n",
      "radius = 1 approx perimeter = 6.3146 error = 0.03142\n",
      "radius = 1 approx perimeter = 6.2989 error = 0.01571\n",
      "radius = 1 approx perimeter = 6.2863 error = 0.00314\n",
      "radius = 1 approx perimeter = 6.2835 error = 0.00031\n"
     ]
    }
   ],
   "source": [
    "# Exercise 6\n",
    "\n",
    "\n",
    "# i)\n",
    "\n",
    "def f(x):\n",
    "    return x ** 2\n",
    "\n",
    "\n",
    "# ii)\n",
    "\n",
    "def df(x, eps= 0.01, f=None):\n",
    "    if f:\n",
    "        return (f(x + eps) - f(x)) / eps\n",
    "    else:\n",
    "        return 2 * x\n",
    "\n",
    "    \n",
    "# iii)\n",
    "\n",
    "import math\n",
    "\n",
    "def circle_area(radius):\n",
    "    return math.pi * radius ** 2\n",
    "\n",
    "area, perimeter = circle_metrics(1)\n",
    "print(f\"radius = 1 actual perimeter = {perimeter:0.2f}\")\n",
    "for eps in [0.01, 0.005, 0.001, 0.0001]:\n",
    "    approx_perimeter = df(1, eps=eps, f=circle_area)\n",
    "    print(f\"radius = 1 approx perimeter = {approx_perimeter:0.4f} error = {abs(perimeter - approx_perimeter):0.5f}\")\n",
    "\n",
    "# NOTE: Notice how the error gets smaller as eps tends to zero"
   ]
  },
  {
   "cell_type": "code",
   "execution_count": 110,
   "id": "8c2eae4a-ffb1-4f0f-ae20-f42cc2166be2",
   "metadata": {},
   "outputs": [
    {
     "name": "stdout",
     "output_type": "stream",
     "text": [
      "[[1, 2, 3], [4, 5, 6], [7, 8, 9]]  -> [[1, 4, 7], [2, 5, 8], [3, 6, 9]]\n",
      "--------------------\n",
      "\n",
      "\n",
      "[[1, 2, 3]]  -> [[1], [2], [3]]\n",
      "--------------------\n",
      "\n",
      "\n",
      "[[1], [2], [3]]  -> [[1, 2, 3]]\n"
     ]
    }
   ],
   "source": [
    "# Exercise 7\n",
    "\n",
    "def T(M):\n",
    "    m, n = len(M), len(M[0])\n",
    "    M_T = [[None for _ in range(m)] for _ in range(n)]\n",
    "    for i in range(m):\n",
    "        for j in range(n):\n",
    "            M_T[j][i] = M[i][j]\n",
    "    return M_T\n",
    "\n",
    "M = [[1, 2, 3], [4, 5, 6], [7, 8, 9]]\n",
    "print(M, \" ->\", T(M))\n",
    "\n",
    "print(\"--------------------\\n\\n\")\n",
    "\n",
    "M = [[1, 2, 3]]\n",
    "print(M, \" ->\", T(M))\n",
    "\n",
    "print(\"--------------------\\n\\n\")\n",
    "\n",
    "M = [[1], [2], [3]]\n",
    "print(M, \" ->\", T(M))"
   ]
  },
  {
   "cell_type": "code",
   "execution_count": 111,
   "id": "eb5997e6-e3c3-488e-822a-3ea7099d6884",
   "metadata": {},
   "outputs": [
    {
     "name": "stdout",
     "output_type": "stream",
     "text": [
      "[[2, 4, 6], [8, 10, 12], [14, 16, 18]]\n",
      "--------------------\n",
      "\n",
      "\n",
      "Both matrices must have the same dimensions\n",
      "None\n"
     ]
    }
   ],
   "source": [
    "# Exercise 8\n",
    "\n",
    "def matadd(A, B):\n",
    "    m, n = len(A), len(A[0])\n",
    "    \n",
    "    # sanity check\n",
    "    if m != len(B) or n != len(B[0]):\n",
    "        print(\"Both matrices must have the same dimensions\")  # this will return None\n",
    "    else:\n",
    "        # allocate result matrix\n",
    "        C = [[None for _ in range(n)] for _ in range(m)]\n",
    "        for i in range(m):\n",
    "            for j in range(n):\n",
    "                C[i][j] = A[i][j] + B[i][j]\n",
    "        return C\n",
    "\n",
    "M = [[1, 2, 3], [4, 5, 6], [7, 8, 9]]\n",
    "print(matadd(M, M))\n",
    "\n",
    "print(\"--------------------\\n\\n\")\n",
    "\n",
    "N = [[1, 2, 3], [4, 5, 6]]\n",
    "print(matadd(M, N))"
   ]
  },
  {
   "cell_type": "code",
   "execution_count": 112,
   "id": "bd157f4f-bf59-4755-bee6-4c7219e06f6a",
   "metadata": {},
   "outputs": [
    {
     "data": {
      "text/plain": [
       "9"
      ]
     },
     "execution_count": 112,
     "metadata": {},
     "output_type": "execute_result"
    }
   ],
   "source": [
    "# Exercise 9\n",
    "\n",
    "f = lambda x: x ** 2\n",
    "f(3)"
   ]
  },
  {
   "cell_type": "code",
   "execution_count": 113,
   "id": "80107e96-3aae-46ce-98d1-4b689a90d361",
   "metadata": {},
   "outputs": [
    {
     "data": {
      "text/plain": [
       "5"
      ]
     },
     "execution_count": 113,
     "metadata": {},
     "output_type": "execute_result"
    }
   ],
   "source": [
    "# Exercise 10\n",
    "\n",
    "g = lambda x, y: x ** 2 + y ** 2\n",
    "g(1, 2)"
   ]
  },
  {
   "cell_type": "code",
   "execution_count": 116,
   "id": "2776b9ac-ae2f-4998-9a97-c1d8b915156f",
   "metadata": {},
   "outputs": [
    {
     "name": "stdout",
     "output_type": "stream",
     "text": [
      "True\n",
      "True\n",
      "True\n",
      "True\n",
      "True\n",
      "False\n",
      "False\n",
      "False\n"
     ]
    }
   ],
   "source": [
    "# Exercise 11\n",
    "\n",
    "def is_prime(p):\n",
    "    if p == 2:\n",
    "        return True\n",
    "\n",
    "    isprime = True\n",
    "    for i in range(2, p):\n",
    "        if p % i == 0:\n",
    "            isprime = False\n",
    "            break\n",
    "    return isprime\n",
    "\n",
    "print(is_prime(2))\n",
    "print(is_prime(3))\n",
    "print(is_prime(5))\n",
    "print(is_prime(11))\n",
    "print(is_prime(41))\n",
    "print(is_prime(342))\n",
    "print(is_prime(28))\n",
    "print(is_prime(15))"
   ]
  },
  {
   "cell_type": "markdown",
   "id": "59007bc0-eac4-484d-90fc-57fc65c35f8c",
   "metadata": {},
   "source": [
    "**Recursion**"
   ]
  },
  {
   "cell_type": "code",
   "execution_count": 122,
   "id": "a4d0967a-e3d0-4905-9029-7caf44e26bcc",
   "metadata": {},
   "outputs": [
    {
     "name": "stdout",
     "output_type": "stream",
     "text": [
      "Fibonacci iterative:\n",
      "[(0, 1), (1, 1), (2, 2), (3, 3), (4, 5), (5, 8), (6, 13), (7, 21), (8, 34), (9, 55)]\n",
      "\n",
      "\n",
      "\n",
      "Fibonacci recursive:\n",
      "[(0, 1), (1, 1), (2, 2), (3, 3), (4, 5), (5, 8), (6, 13), (7, 21), (8, 34), (9, 55)]\n"
     ]
    }
   ],
   "source": [
    "# Exercise 1\n",
    "\n",
    "def fib_iterative(n):\n",
    "    if n < 0:\n",
    "        print(f\"Value of parameter n should be >= 0, not {n}\")\n",
    "    elif n <= 1:\n",
    "        return 1\n",
    "    a_0 = a_1 = 1\n",
    "    for i in range(2, n + 1):\n",
    "        temp = a_1\n",
    "        a_1 += a_0\n",
    "        a_0 = temp\n",
    "    return a_1\n",
    "\n",
    "print(\"Fibonacci iterative:\")\n",
    "print([(k, fib_iterative(k)) for k in range(10)])\n",
    "print(\"\\n\\n\")\n",
    "\n",
    "# a_0 = a_1 = 1\n",
    "# a_n = a_n-1 + a_n-2 for all n >= 2\n",
    "\n",
    "def fib_recursive(n):\n",
    "    if n < 0:\n",
    "        print(f\"Value of parameter n should be >= 0, not {n}\")\n",
    "    elif n <= 1:\n",
    "        return 1\n",
    "    return fib_recursive(n - 1) + fib_recursive(n - 2)\n",
    "\n",
    "print(\"Fibonacci recursive:\")\n",
    "print([(k, fib_recursive(k)) for k in range(10)])"
   ]
  },
  {
   "cell_type": "code",
   "execution_count": 127,
   "id": "aa457c73-98ae-4992-b6b5-89e0ad5340e8",
   "metadata": {},
   "outputs": [
    {
     "name": "stdout",
     "output_type": "stream",
     "text": [
      "Fibonacci recursive with caching:\n",
      "[(0, 1), (1, 1), (2, 2), (3, 3), (4, 5), (5, 8), (6, 13), (7, 21), (8, 34), (9, 55)]\n"
     ]
    }
   ],
   "source": [
    "# Exercise 2\n",
    "\n",
    "from functools import cache\n",
    "\n",
    "@cache\n",
    "def fib_recursive(n):\n",
    "    if n < 0:\n",
    "        print(f\"Value of parameter n should be >= 0, not {n}\")\n",
    "    elif n <= 1:\n",
    "        return 1\n",
    "    return fib_recursive(n - 1) + fib_recursive(n - 2)\n",
    "\n",
    "print(\"Fibonacci recursive with functools.cache caching:\")\n",
    "print([(k, fib_recursive(k)) for k in range(10)])"
   ]
  },
  {
   "cell_type": "code",
   "execution_count": 134,
   "id": "93b786d4-de96-4717-bead-672812b78590",
   "metadata": {},
   "outputs": [
    {
     "name": "stdout",
     "output_type": "stream",
     "text": [
      "Fibonacci recursive indirect caching:\n",
      "[(0, 1), (1, 1), (2, 2), (3, 3), (4, 5), (5, 8), (6, 13), (7, 21), (8, 34), (9, 55)]\n"
     ]
    }
   ],
   "source": [
    "# Exercise 3\n",
    "\n",
    "def fib_recursive(n, cache={}):\n",
    "    if n < 0:\n",
    "        raise ValueError(f\"Value of parameter n should be >= 0, not {n}\")\n",
    "    \n",
    "    if n <= 1:\n",
    "        cache[n] = 1\n",
    "        return 1\n",
    "    \n",
    "    if n in cache:\n",
    "        return cache[n]\n",
    "\n",
    "    result = fib_recursive(n - 1, cache) + fib_recursive(n - 2, cache)\n",
    "    cache[n] = result\n",
    "    return result\n",
    "\n",
    "print(\"Fibonacci recursive indirect caching:\")\n",
    "print([(k, fib_recursive(k)) for k in range(10)])"
   ]
  },
  {
   "cell_type": "code",
   "execution_count": null,
   "id": "44754a20-152d-48b2-a52a-94099607c960",
   "metadata": {},
   "outputs": [],
   "source": []
  }
 ],
 "metadata": {
  "kernelspec": {
   "display_name": "Python 3 (ipykernel)",
   "language": "python",
   "name": "python3"
  },
  "language_info": {
   "codemirror_mode": {
    "name": "ipython",
    "version": 3
   },
   "file_extension": ".py",
   "mimetype": "text/x-python",
   "name": "python",
   "nbconvert_exporter": "python",
   "pygments_lexer": "ipython3",
   "version": "3.10.9"
  }
 },
 "nbformat": 4,
 "nbformat_minor": 5
}
