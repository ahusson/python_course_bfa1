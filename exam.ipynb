{
 "cells": [
  {
   "cell_type": "markdown",
   "metadata": {},
   "source": [
    "### Exercice 1\n",
    "\n",
    "Étant donné une chaîne de caractères `s`, écrivez une fonction `is_palindrome(s)` qui retourne `True` si `s` est un palindrome.\n",
    "\n",
    "Testez avec `\"abbcbba\"`"
   ]
  },
  {
   "cell_type": "markdown",
   "metadata": {},
   "source": [
    "### Exercice 2\n",
    "\n",
    "Écrivez une fonction `find_anagrams(words)` qui prend une liste de mots et retourne un dictionnaire où les clés sont les mots triés par lettres\n",
    "(en ordre alphabétique) et les valeurs sont des listes de mots qui sont des anagrammes entre eux.\n",
    "\n",
    "Testez avec `[\"chien\", \"niche\", \"écoute\", \"coute\", \"chien\", \"chien\", \"coute\"]`"
   ]
  },
  {
   "cell_type": "markdown",
   "metadata": {},
   "source": [
    "### Exercice 3\n",
    "\n",
    "Écrivez une fonction `count_words(sentence)` qui prend en entrée une chaîne de caractères `sentence` et retourne un dictionnaire où les clés sont les mots de la phrase et les valeurs sont les fréquences d'apparition de chaque mot.\n",
    "\n",
    "Testez avec `\"Bonjour le monde. Bonjour à tous dans le monde.\"`"
   ]
  },
  {
   "cell_type": "markdown",
   "metadata": {},
   "source": [
    "### Exercice 4\n",
    "\n",
    "Écrivez une fonction Python qui somme des listes imbriquées en utilisant la récursivité.\n",
    "\n",
    "Testez avec `[1, 2, [3,4], [5,6]]`\n",
    "\n",
    "Résultat attendu: `21`"
   ]
  },
  {
   "cell_type": "markdown",
   "metadata": {},
   "source": [
    "# Problème: Analyse des performances d'actions et l'optimisation de portefeuille.\n",
    "\n",
    "## Contexte: \n",
    "Vous avez été embauché en tant que data scientist dans une société financière qui gère plusieurs portefeuilles d'investissement. La société souhaite que vous analysiez la performance de plusieurs actions, identifiiez des indicateurs clés et optimisiez un portefeuille hypothétique. Vous devrez télécharger des données boursières, effectuer une analyse financière et générer des rapports visuels. Enfin, vous mettrez en œuvre des techniques d'optimisation de portefeuille en utilisant la Théorie Moderne du Portefeuille (MPT) pour maximiser le ratio de Sharpe.\n",
    "\n",
    "\n",
    "## Partie 1: Collection des données:\n",
    "Utilisez la bibliothèque **yfinance** pour télécharger les données historiques quotidiennes des actions des trois dernières années pour les entreprises suivantes :\n",
    "\n",
    "- Apple (AAPL)\n",
    "- Microsoft (MSFT)\n",
    "- Google (GOOGL)\n",
    "- Amazon (AMZN)\n",
    "- Tesla (TSLA)\n",
    "\n",
    "Les données doivent inclure les champs suivants : Date, Ouverture, Clôture, Volume.\n",
    "\n",
    "Stockez les données dans un DataFrame pandas contenant tous les actions.\n",
    "\n",
    "## Partie 2: Préprocessing des données:\n",
    "Vous allez travailler uniquement sur les jours ouvrés en excluant les jours fériés. Pour cela, vous récupérerez la liste des jours fériés des trois dernières années, en utilisant la bibliothèque **holidays** et la stockerons dans un DataFrame. Ensuite, vous l'associerez à votre DataFrame principal pour créer une nouvelle colonne de type booléen, indiquant *True* pour un jour férié et *False* pour un jour ouvré. Enfin, vous appliquerez un filtre pour conserver uniquement les jours marqués comme *False*.\n",
    "\n",
    "\n",
    "Normalisez maintenant les prix des actions (ajustez les prix pour qu'ils commencent à la même valeur de base le premier jour des données). Utilisez les prix normalisés pour comparer les actions entre elles. (Partie 4)\n",
    "\n",
    "## Partie 3: Calcul des métriques de performance:\n",
    "Calculez les métriques suivantes pour chaque action :\n",
    "\n",
    "- **Rendements Quotidiens** : Calculez le pourcentage de variation du prix de clôture entre deux jours consécutifs.\n",
    "- **Rendements Quotidiens logarithmiques** : Créez une colonne appelée \"log return\" en utilisant la méthode `apply`, contenant le log du rendement quotidien.\n",
    "- **Rendements Cumulés** : Calculez le produit cumulatif des rendements quotidiens et ajoutez une autre colonne pour les rendements cumulatifs logarithmiques.\n",
    "- **Volatilité Annualisée** : Utilisez une fenêtre glissante de 30 jours pour calculer la volatilité (écart-type des rendements quotidiens, ajustée pour obtenir une volatilité annualisée).\n",
    "- **Ratio de Sharpe** : Calculez le ratio de Sharpe pour chaque action en supposant un taux sans risque de 2 %. La formule du ratio de Sharpe est la suivante :\n",
    "\n",
    "$$\n",
    "\\text{Ratio de Sharpe} = \\frac{\\text{Rendement Moyen Quotidien} - \\text{Taux Sans Risque}}{\\text{Volatilité Quotidienne}}\n",
    "$$\n",
    "\n",
    "où :\n",
    "\n",
    "- Le **rendement moyen quotidien** est le rendement moyen de l'action par jour.\n",
    "- Le **taux sans risque** est supposé être de 2 %.\n",
    "- La **volatilité quotidienne** est l'écart-type des rendements quotidiens.\n",
    "\n",
    "\n",
    "## Partie 4: Visualisation des données:\n",
    "Créez les visualisations suivantes en utilisant **matplotlib** :\n",
    "\n",
    "- Un graphique en ligne montrant les prix de clôture normalisés des cinq actions sur le même graphique.\n",
    "- Un graphique en ligne montrant les rendements cumulés de chaque action sur une période de 3 ans.\n",
    "- Un graphique illustrant la volatilité annualisée glissante sur 30 jours pour chaque action afin de visualiser les périodes de haute et de basse volatilité.\n",
    "- Un graphique en barres comparant le ratio de Sharpe des cinq actions.\n",
    "\n",
    "\n",
    "\n",
    "## Partie 5: Optimisation de portefeuille\n",
    "Construisez un modèle d'optimisation de portefeuille en utilisant la *Théorie Moderne du Portefeuille (MPT)* pour maximiser le ratio de Sharpe.\n",
    "\n",
    "Supposez que vous commencez avec un capital initial de 100 000 $ que vous souhaitez allouer entre les cinq actions.\n",
    "\n",
    "- **Utilisez des pondérations aléatoires** pour l'allocation du portefeuille initialement.\n",
    "- **Calculez le rendement et la volatilité attendus du portefeuille** en utilisant les formules suivantes :\n",
    "\n",
    "  - **Rendement attendu du portefeuille** : \n",
    "    $$\n",
    "    \\text{Rendement du portefeuille} = \\sum (\\text{poids de l'action} \\times \\text{rendement moyen de l'action})\n",
    "    $$\n",
    "\n",
    "  - **Volatilité du portefeuille** : \n",
    "    $$\n",
    "    \\text{Volatilité du portefeuille} = \\sqrt{w^T \\Sigma w}\n",
    "    $$\n",
    "    où $ w $ est le vecteur de pondérations du portefeuille et $ \\Sigma $ est la matrice de covariance des rendements des actions.\n",
    "\n",
    "- **Implémentez une méthode pour maximiser le ratio de Sharpe** en utilisant les techniques d'optimisation de `scipy.optimize`.\n",
    "\n",
    "Affichez les pondérations optimales du portefeuille qui maximisent le ratio de Sharpe, et calculez le rendement et le risque du portefeuille pour cette allocation optimisée.\n",
    "\n",
    "\n",
    "\n",
    "### Directives:\n",
    "- Utilisez les fonctions en python pour implémenter tous les calculs demandés (les fonctions auront pour premier paramètre le dataframe principal, et retourne le dataframe modifié)\n",
    "- Utilisez la bibliothèque **logging** afin d'écrire les logs dans le code. \n",
    "- Assurez vous de gérer les exceptions proprement (données manquantes, paramètre non valide ...)\n",
    "- Bonus: utiliser **pytest** pour implémenter les tests unitaires des fonctions implémentées."
   ]
  }
 ],
 "metadata": {
  "kernelspec": {
   "display_name": "Python 3 (ipykernel)",
   "language": "python",
   "name": "python3"
  },
  "language_info": {
   "codemirror_mode": {
    "name": "ipython",
    "version": 3
   },
   "file_extension": ".py",
   "mimetype": "text/x-python",
   "name": "python",
   "nbconvert_exporter": "python",
   "pygments_lexer": "ipython3",
   "version": "3.10.9"
  }
 },
 "nbformat": 4,
 "nbformat_minor": 4
}
