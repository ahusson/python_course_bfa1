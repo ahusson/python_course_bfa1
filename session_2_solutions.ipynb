{
 "cells": [
  {
   "cell_type": "raw",
   "id": "0f25087c-53af-45d4-b5ee-b68b70bee96e",
   "metadata": {},
   "source": [
    "**Exceptions**"
   ]
  },
  {
   "cell_type": "code",
   "execution_count": 1,
   "id": "58ee4464-66a2-4d44-9276-6cb06b14e0d5",
   "metadata": {},
   "outputs": [
    {
     "name": "stdout",
     "output_type": "stream",
     "text": [
      "non_existant_file.txt does not exist\n"
     ]
    }
   ],
   "source": [
    "# Exercise 1\n",
    "\n",
    "filename = \"non_existant_file.txt\"\n",
    "try:\n",
    "    with open(filename, \"r\") as fin:\n",
    "        pass\n",
    "except FileNotFoundError:\n",
    "    print(f\"{filename} does not exist\")"
   ]
  },
  {
   "cell_type": "code",
   "execution_count": 6,
   "id": "e6bebd73-f338-4bb0-a6d7-a16a38c4c78e",
   "metadata": {},
   "outputs": [
    {
     "name": "stdout",
     "output_type": "stream",
     "text": [
      "0.5\n",
      "Cannot divide by 0\n"
     ]
    }
   ],
   "source": [
    "# Exercise 2\n",
    "\n",
    "def divide(a, b):\n",
    "    try:\n",
    "        return a / b\n",
    "    except ZeroDivisionError:\n",
    "        print(\"Cannot divide by 0\")\n",
    "\n",
    "print(divide(1, 2))\n",
    "divide(1, 0)"
   ]
  },
  {
   "cell_type": "code",
   "execution_count": 7,
   "id": "ab702b92-1a52-4f5e-b987-ef0a5b9773ad",
   "metadata": {},
   "outputs": [
    {
     "name": "stdout",
     "output_type": "stream",
     "text": [
      "1\n",
      "The string 'hello' cannot be casted to n integer\n"
     ]
    }
   ],
   "source": [
    "# Exercise 3\n",
    "\n",
    "def cast_to_int(s):\n",
    "    try:\n",
    "        return int(s)\n",
    "    except ValueError:\n",
    "        print(f\"The string '{s}' cannot be casted to n integer\")\n",
    "\n",
    "print(cast_to_int(\"1\"))\n",
    "cast_to_int(\"hello\")"
   ]
  },
  {
   "cell_type": "code",
   "execution_count": 10,
   "id": "79dc685c-ba6d-4309-bd34-51e8cbd85f21",
   "metadata": {},
   "outputs": [
    {
     "name": "stdin",
     "output_type": "stream",
     "text": [
      "Enter your age:  15\n"
     ]
    },
    {
     "name": "stdout",
     "output_type": "stream",
     "text": [
      "Age must be greater than 18\n"
     ]
    }
   ],
   "source": [
    "# Exercise 4\n",
    "\n",
    "def verify_age():\n",
    "    age = input(\"Enter your age: \")\n",
    "    try:\n",
    "        if int(age) < 18:\n",
    "            print(\"Age must be greater than 18\")\n",
    "    except ValueError:\n",
    "        print(\"Age must be an integer number\")\n",
    "\n",
    "verify_age()"
   ]
  },
  {
   "cell_type": "code",
   "execution_count": 23,
   "id": "a3151b30-b0c9-4da5-810a-be7df75ddcbf",
   "metadata": {},
   "outputs": [
    {
     "name": "stdout",
     "output_type": "stream",
     "text": [
      "5\n",
      "-1\n",
      "6\n",
      "0.6666666666666666\n",
      "Cannot divide by 0\n"
     ]
    }
   ],
   "source": [
    "# Exercise 5\n",
    "\n",
    "def calculate(a, b, op):\n",
    "    assert op in {\"+\", \"-\", \"*\", \"/\"}\n",
    "    try:\n",
    "        if op == \"+\":\n",
    "            return a + b\n",
    "        elif op == \"-\":\n",
    "            return a - b\n",
    "        elif op == \"*\":\n",
    "            return a * b\n",
    "        else:  # \"/\"\n",
    "            return a / b\n",
    "    except ZeroDivisionError:\n",
    "        print(\"Cannot divide by 0\")\n",
    "    except Exception as e:  # any other exception\n",
    "        print(f\"Caught exception = {e}\")\n",
    "\n",
    "print(calculate(2, 3, \"+\"))\n",
    "print(calculate(2, 3, \"-\"))\n",
    "print(calculate(2, 3, \"*\"))\n",
    "print(calculate(2, 3, \"/\"))\n",
    "calculate(34, 0, \"/\")"
   ]
  },
  {
   "cell_type": "code",
   "execution_count": 25,
   "id": "f3d80e0a-184e-45f6-bdd8-43016f95d92b",
   "metadata": {},
   "outputs": [],
   "source": [
    "# Exercise 6\n",
    "\n",
    "# Similar to exercise 1, use finally to close the open files if you use 'open' directly\n",
    "# instead of 'with'"
   ]
  },
  {
   "cell_type": "code",
   "execution_count": 24,
   "id": "7de4df8b-48f4-4798-8780-f788831d5392",
   "metadata": {},
   "outputs": [
    {
     "name": "stdout",
     "output_type": "stream",
     "text": [
      "0.25\n"
     ]
    },
    {
     "ename": "InvalidOperationError",
     "evalue": "Cannot divide by 0",
     "output_type": "error",
     "traceback": [
      "\u001b[1;31m---------------------------------------------------------------------------\u001b[0m",
      "\u001b[1;31mZeroDivisionError\u001b[0m                         Traceback (most recent call last)",
      "Cell \u001b[1;32mIn[24], line 7\u001b[0m, in \u001b[0;36mfunc\u001b[1;34m(a, b)\u001b[0m\n\u001b[0;32m      6\u001b[0m \u001b[38;5;28;01mtry\u001b[39;00m:\n\u001b[1;32m----> 7\u001b[0m     \u001b[38;5;28;01mreturn\u001b[39;00m \u001b[43ma\u001b[49m\u001b[43m \u001b[49m\u001b[38;5;241;43m/\u001b[39;49m\u001b[43m \u001b[49m\u001b[43mb\u001b[49m\n\u001b[0;32m      8\u001b[0m \u001b[38;5;28;01mexcept\u001b[39;00m \u001b[38;5;167;01mZeroDivisionError\u001b[39;00m:\n",
      "\u001b[1;31mZeroDivisionError\u001b[0m: division by zero",
      "\nDuring handling of the above exception, another exception occurred:\n",
      "\u001b[1;31mInvalidOperationError\u001b[0m                     Traceback (most recent call last)",
      "Cell \u001b[1;32mIn[24], line 12\u001b[0m\n\u001b[0;32m      9\u001b[0m         \u001b[38;5;28;01mraise\u001b[39;00m InvalidOperationError(\u001b[38;5;124m\"\u001b[39m\u001b[38;5;124mCannot divide by 0\u001b[39m\u001b[38;5;124m\"\u001b[39m)\n\u001b[0;32m     11\u001b[0m \u001b[38;5;28mprint\u001b[39m(func(\u001b[38;5;241m1\u001b[39m, \u001b[38;5;241m4\u001b[39m))\n\u001b[1;32m---> 12\u001b[0m \u001b[43mfunc\u001b[49m\u001b[43m(\u001b[49m\u001b[38;5;241;43m1\u001b[39;49m\u001b[43m,\u001b[49m\u001b[43m \u001b[49m\u001b[38;5;241;43m0\u001b[39;49m\u001b[43m)\u001b[49m\n",
      "Cell \u001b[1;32mIn[24], line 9\u001b[0m, in \u001b[0;36mfunc\u001b[1;34m(a, b)\u001b[0m\n\u001b[0;32m      7\u001b[0m     \u001b[38;5;28;01mreturn\u001b[39;00m a \u001b[38;5;241m/\u001b[39m b\n\u001b[0;32m      8\u001b[0m \u001b[38;5;28;01mexcept\u001b[39;00m \u001b[38;5;167;01mZeroDivisionError\u001b[39;00m:\n\u001b[1;32m----> 9\u001b[0m     \u001b[38;5;28;01mraise\u001b[39;00m InvalidOperationError(\u001b[38;5;124m\"\u001b[39m\u001b[38;5;124mCannot divide by 0\u001b[39m\u001b[38;5;124m\"\u001b[39m)\n",
      "\u001b[1;31mInvalidOperationError\u001b[0m: Cannot divide by 0"
     ]
    }
   ],
   "source": [
    "# Exercise 7\n",
    "class InvalidOperationError(Exception):\n",
    "    pass\n",
    "\n",
    "def func(a, b):\n",
    "    try:\n",
    "        return a / b\n",
    "    except ZeroDivisionError:\n",
    "        raise InvalidOperationError(\"Cannot divide by 0\")\n",
    "\n",
    "print(func(1, 4))\n",
    "func(1, 0)"
   ]
  },
  {
   "cell_type": "markdown",
   "id": "05726290-f74f-4b44-845c-21836a6674fc",
   "metadata": {},
   "source": [
    "**Standard Libraries**"
   ]
  },
  {
   "cell_type": "code",
   "execution_count": null,
   "id": "279d9485-0746-4c19-9873-d6ab506f3444",
   "metadata": {},
   "outputs": [],
   "source": []
  }
 ],
 "metadata": {
  "kernelspec": {
   "display_name": "Python 3 (ipykernel)",
   "language": "python",
   "name": "python3"
  },
  "language_info": {
   "codemirror_mode": {
    "name": "ipython",
    "version": 3
   },
   "file_extension": ".py",
   "mimetype": "text/x-python",
   "name": "python",
   "nbconvert_exporter": "python",
   "pygments_lexer": "ipython3",
   "version": "3.10.9"
  }
 },
 "nbformat": 4,
 "nbformat_minor": 5
}
