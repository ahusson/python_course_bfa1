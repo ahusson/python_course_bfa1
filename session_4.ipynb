{
 "cells": [
  {
   "cell_type": "markdown",
   "id": "efbf78ba",
   "metadata": {},
   "source": [
    "<hr style=\"border-width:2px;border-color:#094780\">\n",
    "<center><h1> Build your own objects </h1></center>\n",
    "<hr style=\"border-width:2px;border-color:#094780\">"
   ]
  },
  {
   "cell_type": "markdown",
   "id": "62a31fe0-659d-4ea0-8cd5-0b2a5e711ce4",
   "metadata": {},
   "source": [
    "## Introduction to Object-Oriented Programming (OOP)"
   ]
  },
  {
   "cell_type": "code",
   "execution_count": 1,
   "id": "af183626-b1d1-46b1-9288-76752acdd81d",
   "metadata": {},
   "outputs": [],
   "source": [
    "# Traditional procedural approach\n",
    "def area_rectangle(width, height):\n",
    "    return width * height\n",
    "\n",
    "# OOP approach\n",
    "class Rectangle:\n",
    "    def __init__(self, width, height):\n",
    "        self.width = width\n",
    "        self.height = height\n",
    "    \n",
    "    def area(self):\n",
    "        return self.width * self.height"
   ]
  },
  {
   "cell_type": "markdown",
   "id": "aab62809-76ae-4d69-871f-137d202ff20e",
   "metadata": {},
   "source": [
    "## Classes and objects"
   ]
  },
  {
   "cell_type": "code",
   "execution_count": 2,
   "id": "e142aeee-c5af-4647-9a58-6ce3a876b8e6",
   "metadata": {},
   "outputs": [
    {
     "name": "stdout",
     "output_type": "stream",
     "text": [
      "Toyota Corolla\n",
      "4\n"
     ]
    }
   ],
   "source": [
    "class Car:\n",
    "    # Class variable\n",
    "    wheels = 4\n",
    "\n",
    "    def __init__(self, make, model):\n",
    "        # Instance variables\n",
    "        self.make = make\n",
    "        self.model = model\n",
    "\n",
    "car1 = Car('Toyota', 'Corolla')\n",
    "print(car1.make, car1.model)  # Output: Toyota Corolla\n",
    "print(car1.wheels)  # Output: 4\n"
   ]
  },
  {
   "cell_type": "markdown",
   "id": "8cee0b2a-5296-41a1-92ba-7a717519b023",
   "metadata": {},
   "source": [
    "## Methods and Self"
   ]
  },
  {
   "cell_type": "code",
   "execution_count": 3,
   "id": "f6abf01b-a6dc-470d-b9b2-72924c490d84",
   "metadata": {},
   "outputs": [
    {
     "name": "stdout",
     "output_type": "stream",
     "text": [
      "8\n",
      "2\n",
      "This is a calculator class\n"
     ]
    }
   ],
   "source": [
    "class Calculator:\n",
    "    def add(self, x, y):\n",
    "        return x + y\n",
    "    \n",
    "    @staticmethod\n",
    "    def subtract(x, y):\n",
    "        return x - y\n",
    "\n",
    "    @classmethod\n",
    "    def info(cls):\n",
    "        return \"This is a calculator class\"\n",
    "\n",
    "print(Calculator().add(5, 3))       # Output: 8\n",
    "print(Calculator.subtract(5, 3))    # Output: 2\n",
    "print(Calculator.info())            # Output: This is a calculator class\n"
   ]
  },
  {
   "cell_type": "markdown",
   "id": "d701dbfb-30c8-432e-9009-64d2e32da7c6",
   "metadata": {},
   "source": [
    "## Encapsulation and Abstraction"
   ]
  },
  {
   "cell_type": "code",
   "execution_count": 5,
   "id": "a5558d94-70d0-409a-80ee-33568482c816",
   "metadata": {},
   "outputs": [
    {
     "name": "stdout",
     "output_type": "stream",
     "text": [
      "50000\n",
      "60000\n"
     ]
    }
   ],
   "source": [
    "class Employee:\n",
    "    def __init__(self, name, salary):\n",
    "        self.name = name\n",
    "        self.__salary = salary  # Private variable\n",
    "\n",
    "    def get_salary(self):\n",
    "        return self.__salary\n",
    "\n",
    "    def set_salary(self, new_salary):\n",
    "        if new_salary > 0:\n",
    "            self.__salary = new_salary\n",
    "\n",
    "emp = Employee(\"Alice\", 50000)\n",
    "print(emp.get_salary())  # Output: 50000\n",
    "emp.set_salary(60000)\n",
    "print(emp.get_salary())  # Output: 60000\n"
   ]
  },
  {
   "cell_type": "markdown",
   "id": "a5156c32-33a6-4347-a24c-55fc8ff99100",
   "metadata": {},
   "source": [
    "## Inheritance"
   ]
  },
  {
   "cell_type": "code",
   "execution_count": 5,
   "id": "14b9debb-f652-4de6-b839-feabb2f4aeca",
   "metadata": {},
   "outputs": [
    {
     "name": "stdout",
     "output_type": "stream",
     "text": [
      "Rex barks.\n"
     ]
    }
   ],
   "source": [
    "class Animal:\n",
    "    def __init__(self, name):\n",
    "        self.name = name\n",
    "    \n",
    "    def speak(self):\n",
    "        return f\"{self.name} makes a sound.\"\n",
    "\n",
    "class Dog(Animal):\n",
    "    def speak(self):\n",
    "        return f\"{self.name} barks.\"\n",
    "\n",
    "dog = Dog(\"Rex\")\n",
    "print(dog.speak())  # Output: Rex barks\n"
   ]
  },
  {
   "cell_type": "markdown",
   "id": "e43adb51-dbfb-445e-910e-095be8db8f78",
   "metadata": {},
   "source": [
    "## Polymorphism\n",
    "\n",
    "Polymorphism in programming refers to the ability of a function, method, or object to take on multiple forms. In object-oriented programming (OOP), polymorphism allows methods in different classes to have the same name but behave differently depending on the object that calls the method.\n"
   ]
  },
  {
   "cell_type": "code",
   "execution_count": 6,
   "id": "86f919b1-70bf-41de-9396-3a90ef4910ba",
   "metadata": {},
   "outputs": [
    {
     "name": "stdout",
     "output_type": "stream",
     "text": [
      "Flying\n",
      "Flying with fuel\n"
     ]
    }
   ],
   "source": [
    "class Bird:\n",
    "    def fly(self):\n",
    "        print(\"Flying\")\n",
    "\n",
    "class Airplane:\n",
    "    def fly(self):\n",
    "        print(\"Flying with fuel\")\n",
    "\n",
    "def let_it_fly(entity):\n",
    "    entity.fly()\n",
    "\n",
    "bird = Bird()\n",
    "airplane = Airplane()\n",
    "\n",
    "let_it_fly(bird)      # Output: Flying\n",
    "let_it_fly(airplane)  # Output: Flying with fuel\n"
   ]
  },
  {
   "cell_type": "markdown",
   "id": "3f8d79b9-d247-4fa7-a8a3-5727389c21a4",
   "metadata": {},
   "source": [
    "## Magic Methods (Dunder Methods)"
   ]
  },
  {
   "cell_type": "code",
   "execution_count": 7,
   "id": "8e03d6bb-5872-4cc5-875d-9537a02982ac",
   "metadata": {},
   "outputs": [
    {
     "name": "stdout",
     "output_type": "stream",
     "text": [
      "Point(4, 6)\n"
     ]
    }
   ],
   "source": [
    "class Point:\n",
    "    def __init__(self, x, y):\n",
    "        self.x = x\n",
    "        self.y = y\n",
    "\n",
    "    def __add__(self, other):\n",
    "        return Point(self.x + other.x, self.y + other.y)\n",
    "\n",
    "    def __repr__(self):\n",
    "        return f\"Point({self.x}, {self.y})\"\n",
    "\n",
    "p1 = Point(1, 2)\n",
    "p2 = Point(3, 4)\n",
    "print(p1 + p2)  # Output: Point(4, 6)\n"
   ]
  },
  {
   "cell_type": "markdown",
   "id": "1f3805b3-0878-4350-8515-bf6289650870",
   "metadata": {},
   "source": [
    "## Composition"
   ]
  },
  {
   "cell_type": "code",
   "execution_count": 8,
   "id": "54c18b95-f9b3-4c67-b5c7-3545595f2f2c",
   "metadata": {},
   "outputs": [
    {
     "name": "stdout",
     "output_type": "stream",
     "text": [
      "Engine started\n"
     ]
    }
   ],
   "source": [
    "class Engine:\n",
    "    def start(self):\n",
    "        return \"Engine started\"\n",
    "\n",
    "class Car:\n",
    "    def __init__(self):\n",
    "        self.engine = Engine()  # Car has an Engine\n",
    "\n",
    "    def start(self):\n",
    "        return self.engine.start()\n",
    "\n",
    "my_car = Car()\n",
    "print(my_car.start())  # Output: Engine started\n"
   ]
  },
  {
   "cell_type": "markdown",
   "id": "6dede837-ed1a-4255-a06f-94f7c2758ebf",
   "metadata": {},
   "source": [
    "**Exercises**"
   ]
  },
  {
   "cell_type": "markdown",
   "id": "397d5caf-2015-4074-8686-6b489a52b613",
   "metadata": {},
   "source": [
    "\n",
    "**Exercise 1: Account Class**\n",
    "\n",
    "Create a class `Account` that represents a bank account. The class should have the following attributes:\n",
    "- `account_number` (a unique identifier),\n",
    "- `balance` (initially set to 0),\n",
    "- `account_holder` (name of the account holder).\n",
    "\n",
    "The class should have the following methods:\n",
    "- `deposit(amount)` to add money to the account,\n",
    "- `withdraw(amount)` to deduct money from the account (if sufficient balance),\n",
    "- `get_balance()` to print the current balance.\n"
   ]
  },
  {
   "cell_type": "markdown",
   "id": "dcf0a730",
   "metadata": {},
   "source": [
    "**Exercise 2: Stock Class**\n",
    "\n",
    "Create a class `Stock` to represent a stock in the stock market. Each stock should have the following attributes:\n",
    "- `symbol` (e.g., \"AAPL\" for Apple),\n",
    "- `price_per_share` (the current price of a share),\n",
    "- `shares_owned` (the number of shares the user owns).\n",
    "\n",
    "The class should have the following methods:\n",
    "- `buy_shares(quantity)` to increase the number of shares owned,\n",
    "- `sell_shares(quantity)` to decrease the number of shares (if the user owns enough),\n",
    "- `total_value()` to calculate and return the total value of the shares owned (price per share * number of shares).\n"
   ]
  },
  {
   "cell_type": "markdown",
   "id": "4daba73c",
   "metadata": {},
   "source": [
    "**Exercise 3: Loan Class**\n",
    "\n",
    "Create a class `Loan` that represents a loan taken by a customer. The class should have the following attributes:\n",
    "- `principal` (the initial loan amount),\n",
    "- `annual_interest_rate` (interest rate as a decimal, e.g., 0.05 for 5%),\n",
    "- `term_years` (the number of years for the loan).\n",
    "\n",
    "The class should have the following methods:\n",
    "- `monthly_payment()` to calculate and return the monthly payment based on the formula for a fixed-rate loan:\n",
    "  $$\n",
    "  \\text{Monthly Payment} = \\frac{P \\cdot r}{1 - (1 + r)^{-n}}\n",
    "  $$\n",
    "  Where:\n",
    "  - \\( P \\) = principal,\n",
    "  - \\( r \\) = monthly interest rate (annual rate / 12),\n",
    "  - \\( n \\) = total number of months (years * 12).\n",
    "  \n",
    "- `total_payment()` to return the total amount to be repaid over the entire loan term (monthly payment * number of months).\n"
   ]
  },
  {
   "cell_type": "markdown",
   "id": "ac83f843",
   "metadata": {},
   "source": [
    "**Exercise 4: Derivative and Stock Classes**\n",
    "\n",
    "Create a base class `Asset` that represents a financial asset. Then, create two subclasses, `Stock` and `Derivative`, that inherit from `Asset`. Each class will have specific attributes and methods related to market finance.\n",
    "\n",
    "Requirements:\n",
    "\n",
    "1. **Base Class: Asset**\n",
    "   - Attributes:\n",
    "     - `symbol` (e.g., \"AAPL\" for Apple stock).\n",
    "   - Method:\n",
    "     - `current_value()` should be implemented in the subclasses.\n",
    "\n",
    "2. **Subclass: Stock**\n",
    "   - Inherits from `Asset`.\n",
    "   - Additional Attributes:\n",
    "     - `price_per_share` (current price of a stock),\n",
    "     - `shares_owned` (number of shares owned).\n",
    "   - Method:\n",
    "     - `current_value()` that returns the total value of the stock (`price_per_share * shares_owned`).\n",
    "\n",
    "3. **Subclass: Derivative**\n",
    "   - Inherits from `Asset`.\n",
    "   - Additional Attributes:\n",
    "     - `underlying_asset` (an instance of `Stock` representing the stock that the derivative is based on),\n",
    "     - `multiplier` (a factor that scales the value of the derivative based on the underlying asset).\n",
    "   - Method:\n",
    "     - `current_value()` that returns the value of the derivative (`multiplier * underlying_asset.current_value()`).\n",
    "\n",
    "\n"
   ]
  },
  {
   "cell_type": "markdown",
   "id": "35fe6b21",
   "metadata": {},
   "source": [
    "**Exercise 5: Bond and CorporateBond Classes**\n",
    "\n",
    "In this exercise, you will create a system to model different types of bonds. There will be a base class `Bond` and a subclass `CorporateBond` to represent corporate bonds that come with a specific risk rating.\n",
    "\n",
    "Requirements:\n",
    "\n",
    "1. **Base Class: Bond**\n",
    "   - Attributes:\n",
    "     - `face_value` (the value paid at maturity, e.g., $1000),\n",
    "     - `coupon_rate` (the annual coupon rate, e.g., 0.05 for 5%),\n",
    "     - `years_to_maturity` (the number of years until the bond matures).\n",
    "   - Methods:\n",
    "     - `annual_coupon()` that returns the annual coupon payment (`face_value * coupon_rate`).\n",
    "     - `present_value()` that returns the present value of the bond, assuming a discount rate (`discount_rate` passed as a parameter).\n",
    "\n",
    "2. **Subclass: CorporateBond**\n",
    "   - Inherits from `Bond`.\n",
    "   - Additional Attributes:\n",
    "     - `rating` (the risk rating of the corporate bond, e.g., \"AAA\", \"BBB\").\n",
    "   - Override Method:\n",
    "     - Override `present_value()` to apply a **premium** or **discount** based on the bond's risk rating. \n",
    "     - Premium/Discount:\n",
    "       - \"AAA\" bonds add a 2% premium to the face value.\n",
    "       - \"BBB\" bonds subtract a 2% discount from the face value.\n"
   ]
  }
 ],
 "metadata": {
  "kernelspec": {
   "display_name": "Python 3 (ipykernel)",
   "language": "python",
   "name": "python3"
  },
  "language_info": {
   "codemirror_mode": {
    "name": "ipython",
    "version": 3
   },
   "file_extension": ".py",
   "mimetype": "text/x-python",
   "name": "python",
   "nbconvert_exporter": "python",
   "pygments_lexer": "ipython3",
   "version": "3.10.9"
  }
 },
 "nbformat": 4,
 "nbformat_minor": 5
}
